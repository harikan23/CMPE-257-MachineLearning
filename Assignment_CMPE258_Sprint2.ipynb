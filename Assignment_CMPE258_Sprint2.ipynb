{
  "nbformat": 4,
  "nbformat_minor": 0,
  "metadata": {
    "colab": {
      "name": "Assignment-CMPE258-Sprint2",
      "provenance": [],
      "collapsed_sections": []
    },
    "kernelspec": {
      "name": "python3",
      "display_name": "Python 3"
    },
    "language_info": {
      "name": "python"
    }
  },
  "cells": [
    {
      "cell_type": "markdown",
      "source": [
        "Alternus Vera Sprint 2\n",
        "\n",
        "Submitted by Harika Nalam\n",
        "Team Name: The Trio\n",
        "\n",
        "Main Factor - News Coverage\n",
        "Micro Factors - Business, Reports, Book Reviews, Broadcast\n",
        "\n",
        "Problem Statement  - Given an article classifiy the text to a particular. Score is calculated which gives the coverage of the article to a particular topic.    \n",
        "\n",
        "LDA:   \n",
        "LDA is used to classify text in a document in aparticular topic using the score, the score the probability distribution of the words.    \n",
        "\n",
        "DataSet1 - [link](https://components.one/datasets/all-the-news-articles-dataset/)\n"
      ],
      "metadata": {
        "id": "tihHgbQxTAkI"
      }
    },
    {
      "cell_type": "code",
      "execution_count": null,
      "metadata": {
        "id": "kTGoSydrn3Tt"
      },
      "outputs": [],
      "source": [
        "import pandas as pd\n",
        "import sqlite3\n",
        "import seaborn as sns\n",
        "from nltk import sent_tokenize"
      ]
    },
    {
      "cell_type": "code",
      "source": [
        "import gensim\n",
        "from gensim.utils import simple_preprocess\n",
        "from gensim.parsing.preprocessing import STOPWORDS\n",
        "from nltk.stem import WordNetLemmatizer, SnowballStemmer\n",
        "from nltk.stem.porter import *\n",
        "import numpy as np\n",
        "np.random.seed(400)\n",
        "\n",
        "import nltk\n",
        "nltk.download('wordnet')"
      ],
      "metadata": {
        "colab": {
          "base_uri": "https://localhost:8080/"
        },
        "id": "pYL_INKpQIOr",
        "outputId": "b7aef7ad-1ede-42a9-dcde-eef8fec8861f"
      },
      "execution_count": null,
      "outputs": [
        {
          "output_type": "stream",
          "name": "stdout",
          "text": [
            "[nltk_data] Downloading package wordnet to /root/nltk_data...\n",
            "[nltk_data]   Unzipping corpora/wordnet.zip.\n"
          ]
        },
        {
          "output_type": "execute_result",
          "data": {
            "text/plain": [
              "True"
            ]
          },
          "metadata": {},
          "execution_count": 2
        }
      ]
    },
    {
      "cell_type": "code",
      "source": [
        "from google.colab import drive\n",
        "drive.mount('/content/drive', force_remount=True)"
      ],
      "metadata": {
        "colab": {
          "base_uri": "https://localhost:8080/"
        },
        "id": "7cMmQa3Hn-34",
        "outputId": "d75c7173-19aa-4b22-b0b5-9e0f3b297bfe"
      },
      "execution_count": null,
      "outputs": [
        {
          "output_type": "stream",
          "name": "stdout",
          "text": [
            "Mounted at /content/drive\n"
          ]
        }
      ]
    },
    {
      "cell_type": "code",
      "source": [
        "db = '/content/drive/MyDrive/ML-Spring-2022/TheTrio/Harika/NLP-Assignments/Assignment-10-AlternusVera_Part1&2/dataset/all-the-news.db'"
      ],
      "metadata": {
        "id": "NJxkkV4uoG91"
      },
      "execution_count": null,
      "outputs": []
    },
    {
      "cell_type": "code",
      "source": [
        "cnx = sqlite3.connect(db)"
      ],
      "metadata": {
        "id": "ixNKKAvJHqlQ"
      },
      "execution_count": null,
      "outputs": []
    },
    {
      "cell_type": "code",
      "source": [
        "df = pd.read_sql_query(\"SELECT * FROM longform\", cnx)\n",
        "df.head()"
      ],
      "metadata": {
        "colab": {
          "base_uri": "https://localhost:8080/",
          "height": 206
        },
        "id": "Kwj5E1H9HubX",
        "outputId": "b40023db-d9bb-4e17-9843-071e92831957"
      },
      "execution_count": null,
      "outputs": [
        {
          "output_type": "execute_result",
          "data": {
            "text/plain": [
              "   id                                              title               author  \\\n",
              "0   1  Agent Cooper in Twin Peaks is the audience: on...   \\nTasha Robinson\\n   \n",
              "1   2                                  AI, the humanity!       \\nSam Byford\\n   \n",
              "2   3                                  The Viral Machine  \\nKaitlyn Tiffany\\n   \n",
              "3   4  How Anker is beating Apple and Samsung at thei...       \\nNick Statt\\n   \n",
              "4   5  Tour Black Panther’s reimagined homeland with ...       \\nKwame Opam\\n   \n",
              "\n",
              "         date                                            content  year month  \\\n",
              "0  2017-05-31        And never more so than in Showtime’s new...  2017     5   \n",
              "1  2017-05-30        AlphaGo’s victory isn’t a defeat for hum...  2017     5   \n",
              "2  2017-05-25        Super Deluxe built a weird internet empi...  2017     5   \n",
              "3  2017-05-22        Steven Yang quit his job at Google in th...  2017     5   \n",
              "4  2017-05-15        Ahead of Black Panther’s 2018 theatrical...  2017     5   \n",
              "\n",
              "  publication  category  digital section   url  \n",
              "0       Verge  Longform      1.0    None  None  \n",
              "1       Verge  Longform      1.0    None  None  \n",
              "2       Verge  Longform      1.0    None  None  \n",
              "3       Verge  Longform      1.0    None  None  \n",
              "4       Verge  Longform      1.0    None  None  "
            ],
            "text/html": [
              "\n",
              "  <div id=\"df-445e6a90-8c12-4502-a8a1-eb108e2abfe3\">\n",
              "    <div class=\"colab-df-container\">\n",
              "      <div>\n",
              "<style scoped>\n",
              "    .dataframe tbody tr th:only-of-type {\n",
              "        vertical-align: middle;\n",
              "    }\n",
              "\n",
              "    .dataframe tbody tr th {\n",
              "        vertical-align: top;\n",
              "    }\n",
              "\n",
              "    .dataframe thead th {\n",
              "        text-align: right;\n",
              "    }\n",
              "</style>\n",
              "<table border=\"1\" class=\"dataframe\">\n",
              "  <thead>\n",
              "    <tr style=\"text-align: right;\">\n",
              "      <th></th>\n",
              "      <th>id</th>\n",
              "      <th>title</th>\n",
              "      <th>author</th>\n",
              "      <th>date</th>\n",
              "      <th>content</th>\n",
              "      <th>year</th>\n",
              "      <th>month</th>\n",
              "      <th>publication</th>\n",
              "      <th>category</th>\n",
              "      <th>digital</th>\n",
              "      <th>section</th>\n",
              "      <th>url</th>\n",
              "    </tr>\n",
              "  </thead>\n",
              "  <tbody>\n",
              "    <tr>\n",
              "      <th>0</th>\n",
              "      <td>1</td>\n",
              "      <td>Agent Cooper in Twin Peaks is the audience: on...</td>\n",
              "      <td>\\nTasha Robinson\\n</td>\n",
              "      <td>2017-05-31</td>\n",
              "      <td>And never more so than in Showtime’s new...</td>\n",
              "      <td>2017</td>\n",
              "      <td>5</td>\n",
              "      <td>Verge</td>\n",
              "      <td>Longform</td>\n",
              "      <td>1.0</td>\n",
              "      <td>None</td>\n",
              "      <td>None</td>\n",
              "    </tr>\n",
              "    <tr>\n",
              "      <th>1</th>\n",
              "      <td>2</td>\n",
              "      <td>AI, the humanity!</td>\n",
              "      <td>\\nSam Byford\\n</td>\n",
              "      <td>2017-05-30</td>\n",
              "      <td>AlphaGo’s victory isn’t a defeat for hum...</td>\n",
              "      <td>2017</td>\n",
              "      <td>5</td>\n",
              "      <td>Verge</td>\n",
              "      <td>Longform</td>\n",
              "      <td>1.0</td>\n",
              "      <td>None</td>\n",
              "      <td>None</td>\n",
              "    </tr>\n",
              "    <tr>\n",
              "      <th>2</th>\n",
              "      <td>3</td>\n",
              "      <td>The Viral Machine</td>\n",
              "      <td>\\nKaitlyn Tiffany\\n</td>\n",
              "      <td>2017-05-25</td>\n",
              "      <td>Super Deluxe built a weird internet empi...</td>\n",
              "      <td>2017</td>\n",
              "      <td>5</td>\n",
              "      <td>Verge</td>\n",
              "      <td>Longform</td>\n",
              "      <td>1.0</td>\n",
              "      <td>None</td>\n",
              "      <td>None</td>\n",
              "    </tr>\n",
              "    <tr>\n",
              "      <th>3</th>\n",
              "      <td>4</td>\n",
              "      <td>How Anker is beating Apple and Samsung at thei...</td>\n",
              "      <td>\\nNick Statt\\n</td>\n",
              "      <td>2017-05-22</td>\n",
              "      <td>Steven Yang quit his job at Google in th...</td>\n",
              "      <td>2017</td>\n",
              "      <td>5</td>\n",
              "      <td>Verge</td>\n",
              "      <td>Longform</td>\n",
              "      <td>1.0</td>\n",
              "      <td>None</td>\n",
              "      <td>None</td>\n",
              "    </tr>\n",
              "    <tr>\n",
              "      <th>4</th>\n",
              "      <td>5</td>\n",
              "      <td>Tour Black Panther’s reimagined homeland with ...</td>\n",
              "      <td>\\nKwame Opam\\n</td>\n",
              "      <td>2017-05-15</td>\n",
              "      <td>Ahead of Black Panther’s 2018 theatrical...</td>\n",
              "      <td>2017</td>\n",
              "      <td>5</td>\n",
              "      <td>Verge</td>\n",
              "      <td>Longform</td>\n",
              "      <td>1.0</td>\n",
              "      <td>None</td>\n",
              "      <td>None</td>\n",
              "    </tr>\n",
              "  </tbody>\n",
              "</table>\n",
              "</div>\n",
              "      <button class=\"colab-df-convert\" onclick=\"convertToInteractive('df-445e6a90-8c12-4502-a8a1-eb108e2abfe3')\"\n",
              "              title=\"Convert this dataframe to an interactive table.\"\n",
              "              style=\"display:none;\">\n",
              "        \n",
              "  <svg xmlns=\"http://www.w3.org/2000/svg\" height=\"24px\"viewBox=\"0 0 24 24\"\n",
              "       width=\"24px\">\n",
              "    <path d=\"M0 0h24v24H0V0z\" fill=\"none\"/>\n",
              "    <path d=\"M18.56 5.44l.94 2.06.94-2.06 2.06-.94-2.06-.94-.94-2.06-.94 2.06-2.06.94zm-11 1L8.5 8.5l.94-2.06 2.06-.94-2.06-.94L8.5 2.5l-.94 2.06-2.06.94zm10 10l.94 2.06.94-2.06 2.06-.94-2.06-.94-.94-2.06-.94 2.06-2.06.94z\"/><path d=\"M17.41 7.96l-1.37-1.37c-.4-.4-.92-.59-1.43-.59-.52 0-1.04.2-1.43.59L10.3 9.45l-7.72 7.72c-.78.78-.78 2.05 0 2.83L4 21.41c.39.39.9.59 1.41.59.51 0 1.02-.2 1.41-.59l7.78-7.78 2.81-2.81c.8-.78.8-2.07 0-2.86zM5.41 20L4 18.59l7.72-7.72 1.47 1.35L5.41 20z\"/>\n",
              "  </svg>\n",
              "      </button>\n",
              "      \n",
              "  <style>\n",
              "    .colab-df-container {\n",
              "      display:flex;\n",
              "      flex-wrap:wrap;\n",
              "      gap: 12px;\n",
              "    }\n",
              "\n",
              "    .colab-df-convert {\n",
              "      background-color: #E8F0FE;\n",
              "      border: none;\n",
              "      border-radius: 50%;\n",
              "      cursor: pointer;\n",
              "      display: none;\n",
              "      fill: #1967D2;\n",
              "      height: 32px;\n",
              "      padding: 0 0 0 0;\n",
              "      width: 32px;\n",
              "    }\n",
              "\n",
              "    .colab-df-convert:hover {\n",
              "      background-color: #E2EBFA;\n",
              "      box-shadow: 0px 1px 2px rgba(60, 64, 67, 0.3), 0px 1px 3px 1px rgba(60, 64, 67, 0.15);\n",
              "      fill: #174EA6;\n",
              "    }\n",
              "\n",
              "    [theme=dark] .colab-df-convert {\n",
              "      background-color: #3B4455;\n",
              "      fill: #D2E3FC;\n",
              "    }\n",
              "\n",
              "    [theme=dark] .colab-df-convert:hover {\n",
              "      background-color: #434B5C;\n",
              "      box-shadow: 0px 1px 3px 1px rgba(0, 0, 0, 0.15);\n",
              "      filter: drop-shadow(0px 1px 2px rgba(0, 0, 0, 0.3));\n",
              "      fill: #FFFFFF;\n",
              "    }\n",
              "  </style>\n",
              "\n",
              "      <script>\n",
              "        const buttonEl =\n",
              "          document.querySelector('#df-445e6a90-8c12-4502-a8a1-eb108e2abfe3 button.colab-df-convert');\n",
              "        buttonEl.style.display =\n",
              "          google.colab.kernel.accessAllowed ? 'block' : 'none';\n",
              "\n",
              "        async function convertToInteractive(key) {\n",
              "          const element = document.querySelector('#df-445e6a90-8c12-4502-a8a1-eb108e2abfe3');\n",
              "          const dataTable =\n",
              "            await google.colab.kernel.invokeFunction('convertToInteractive',\n",
              "                                                     [key], {});\n",
              "          if (!dataTable) return;\n",
              "\n",
              "          const docLinkHtml = 'Like what you see? Visit the ' +\n",
              "            '<a target=\"_blank\" href=https://colab.research.google.com/notebooks/data_table.ipynb>data table notebook</a>'\n",
              "            + ' to learn more about interactive tables.';\n",
              "          element.innerHTML = '';\n",
              "          dataTable['output_type'] = 'display_data';\n",
              "          await google.colab.output.renderOutput(dataTable, element);\n",
              "          const docLink = document.createElement('div');\n",
              "          docLink.innerHTML = docLinkHtml;\n",
              "          element.appendChild(docLink);\n",
              "        }\n",
              "      </script>\n",
              "    </div>\n",
              "  </div>\n",
              "  "
            ]
          },
          "metadata": {},
          "execution_count": 6
        }
      ]
    },
    {
      "cell_type": "code",
      "source": [
        "train = df.sample(frac = 0.7)\n",
        "test = df.drop(train.index)"
      ],
      "metadata": {
        "id": "teHY0-0u0b-4"
      },
      "execution_count": null,
      "outputs": []
    },
    {
      "cell_type": "code",
      "source": [
        "df=train"
      ],
      "metadata": {
        "id": "h2_VQ0Fj0sqQ"
      },
      "execution_count": null,
      "outputs": []
    },
    {
      "cell_type": "markdown",
      "source": [
        "Tokenization and Lemmatize\n",
        "\n",
        "Data Cleaning:\n",
        "1. Tokenization: split the text into and sentences into words. Lowercase the words and remove punctuation\n",
        "2. Lemmatized: Words in third person are changed to first person and verbs in past and furture tense are changed into present"
      ],
      "metadata": {
        "id": "lDSrOb7XQUJr"
      }
    },
    {
      "cell_type": "code",
      "source": [
        "stemmer = SnowballStemmer(\"english\")\n",
        "def lemmatize_stemming(text):\n",
        "    return stemmer.stem(WordNetLemmatizer().lemmatize(text, pos='v'))\n",
        "\n",
        "def preprocess(text):\n",
        "    result=[]\n",
        "    for token in gensim.utils.simple_preprocess(text) :\n",
        "        if token not in gensim.parsing.preprocessing.STOPWORDS and len(token) > 3:\n",
        "            result.append(lemmatize_stemming(token))\n",
        "    return result"
      ],
      "metadata": {
        "id": "yJUmAugPQJYB"
      },
      "execution_count": null,
      "outputs": []
    },
    {
      "cell_type": "code",
      "source": [
        "df['category'].unique()"
      ],
      "metadata": {
        "colab": {
          "base_uri": "https://localhost:8080/"
        },
        "id": "uhogC8eOIpV7",
        "outputId": "2453f1d8-28eb-460c-b3e6-2f333e329907"
      },
      "execution_count": null,
      "outputs": [
        {
          "output_type": "execute_result",
          "data": {
            "text/plain": [
              "array(['newspaper', 'general', 'radio', 'broadcast', None, 'business',\n",
              "       'wire', 'Reports', 'Exclusive', 'Longform', 'Book Reviews'],\n",
              "      dtype=object)"
            ]
          },
          "metadata": {},
          "execution_count": 10
        }
      ]
    },
    {
      "cell_type": "markdown",
      "source": [
        "group data by category"
      ],
      "metadata": {
        "id": "uX9CGFaxJ-yj"
      }
    },
    {
      "cell_type": "code",
      "source": [
        "data_group = df.groupby('category')\n",
        "# data_group.head(5)"
      ],
      "metadata": {
        "id": "CuA5ro4HJ3Wt"
      },
      "execution_count": null,
      "outputs": []
    },
    {
      "cell_type": "markdown",
      "source": [
        "And the categories I'm considering are \n",
        "1. Business\n",
        "2. Boradcast\n",
        "3. Book Reviews\n",
        "4. Reports"
      ],
      "metadata": {
        "id": "1udTlO4bKH0w"
      }
    },
    {
      "cell_type": "code",
      "source": [
        "data_business = data_group.get_group('business')\n",
        "data_broadcast = data_group.get_group('broadcast')\n",
        "data_BookReviews = data_group.get_group('Book Reviews')\n",
        "data_Reports = data_group.get_group('Reports')"
      ],
      "metadata": {
        "id": "KnKO4IKMKBcP"
      },
      "execution_count": null,
      "outputs": []
    },
    {
      "cell_type": "markdown",
      "source": [
        "##Business Data"
      ],
      "metadata": {
        "id": "xMbCt6dJLxxh"
      }
    },
    {
      "cell_type": "code",
      "source": [
        "data_business = data_business[:300000][['title']]\n",
        "data_business['index'] = data_business.index\n",
        "documents_business = data_business"
      ],
      "metadata": {
        "id": "FkkvzjFCKnwx"
      },
      "execution_count": null,
      "outputs": []
    },
    {
      "cell_type": "markdown",
      "source": [
        "Tokenize the document"
      ],
      "metadata": {
        "id": "SGZdYY4nQjq4"
      }
    },
    {
      "cell_type": "code",
      "source": [
        "documents_business['title'][56128]"
      ],
      "metadata": {
        "colab": {
          "base_uri": "https://localhost:8080/",
          "height": 35
        },
        "id": "agWxGaxPSbMT",
        "outputId": "8e56e0f4-17be-4ee1-c432-6ff040220f06"
      },
      "execution_count": null,
      "outputs": [
        {
          "output_type": "execute_result",
          "data": {
            "text/plain": [
              "\"Trump focuses New Year's tweet on 'many enemies' and everyone who 'lost so badly'\""
            ],
            "application/vnd.google.colaboratory.intrinsic+json": {
              "type": "string"
            }
          },
          "metadata": {},
          "execution_count": 14
        }
      ]
    },
    {
      "cell_type": "code",
      "source": [
        "document_num = 56128\n",
        "doc_sample = documents_business[documents_business['index'] == document_num].values[0][0]\n",
        "\n",
        "print(\"Original document: \")\n",
        "words = []\n",
        "for word in doc_sample.split(' '):\n",
        "    words.append(word)\n",
        "print(words)\n",
        "print(\"\\n\\nTokenized and lemmatized document: \")\n",
        "print(preprocess(doc_sample))"
      ],
      "metadata": {
        "colab": {
          "base_uri": "https://localhost:8080/"
        },
        "id": "v4NlB5RvQYqi",
        "outputId": "a16868cd-6b8b-44e0-f58b-7324c2157dc1"
      },
      "execution_count": null,
      "outputs": [
        {
          "output_type": "stream",
          "name": "stdout",
          "text": [
            "Original document: \n",
            "['Trump', 'focuses', 'New', \"Year's\", 'tweet', 'on', \"'many\", \"enemies'\", 'and', 'everyone', 'who', \"'lost\", 'so', \"badly'\"]\n",
            "\n",
            "\n",
            "Tokenized and lemmatized document: \n",
            "['trump', 'focus', 'year', 'tweet', 'enemi', 'lose', 'bad']\n"
          ]
        }
      ]
    },
    {
      "cell_type": "code",
      "source": [
        "documents_business.head()"
      ],
      "metadata": {
        "colab": {
          "base_uri": "https://localhost:8080/",
          "height": 206
        },
        "id": "j8U1lKJBQoVe",
        "outputId": "c8da1407-3f01-42db-8563-b9a620e1e079"
      },
      "execution_count": null,
      "outputs": [
        {
          "output_type": "execute_result",
          "data": {
            "text/plain": [
              "                                                   title  index\n",
              "57635  'This is not the end': John McCain warns Trump...  57635\n",
              "61585  Here’s why the most popular map of the world i...  61585\n",
              "63596  Obama on Trump: 'Don't be bamboozled — don't r...  63596\n",
              "63273  Trump says 'every poll' shows he won the secon...  63273\n",
              "61350  This 747 private jet makes Donald Trump's plan...  61350"
            ],
            "text/html": [
              "\n",
              "  <div id=\"df-6ef5eb92-1bad-4e0b-99c2-e4a058b5dc1f\">\n",
              "    <div class=\"colab-df-container\">\n",
              "      <div>\n",
              "<style scoped>\n",
              "    .dataframe tbody tr th:only-of-type {\n",
              "        vertical-align: middle;\n",
              "    }\n",
              "\n",
              "    .dataframe tbody tr th {\n",
              "        vertical-align: top;\n",
              "    }\n",
              "\n",
              "    .dataframe thead th {\n",
              "        text-align: right;\n",
              "    }\n",
              "</style>\n",
              "<table border=\"1\" class=\"dataframe\">\n",
              "  <thead>\n",
              "    <tr style=\"text-align: right;\">\n",
              "      <th></th>\n",
              "      <th>title</th>\n",
              "      <th>index</th>\n",
              "    </tr>\n",
              "  </thead>\n",
              "  <tbody>\n",
              "    <tr>\n",
              "      <th>57635</th>\n",
              "      <td>'This is not the end': John McCain warns Trump...</td>\n",
              "      <td>57635</td>\n",
              "    </tr>\n",
              "    <tr>\n",
              "      <th>61585</th>\n",
              "      <td>Here’s why the most popular map of the world i...</td>\n",
              "      <td>61585</td>\n",
              "    </tr>\n",
              "    <tr>\n",
              "      <th>63596</th>\n",
              "      <td>Obama on Trump: 'Don't be bamboozled — don't r...</td>\n",
              "      <td>63596</td>\n",
              "    </tr>\n",
              "    <tr>\n",
              "      <th>63273</th>\n",
              "      <td>Trump says 'every poll' shows he won the secon...</td>\n",
              "      <td>63273</td>\n",
              "    </tr>\n",
              "    <tr>\n",
              "      <th>61350</th>\n",
              "      <td>This 747 private jet makes Donald Trump's plan...</td>\n",
              "      <td>61350</td>\n",
              "    </tr>\n",
              "  </tbody>\n",
              "</table>\n",
              "</div>\n",
              "      <button class=\"colab-df-convert\" onclick=\"convertToInteractive('df-6ef5eb92-1bad-4e0b-99c2-e4a058b5dc1f')\"\n",
              "              title=\"Convert this dataframe to an interactive table.\"\n",
              "              style=\"display:none;\">\n",
              "        \n",
              "  <svg xmlns=\"http://www.w3.org/2000/svg\" height=\"24px\"viewBox=\"0 0 24 24\"\n",
              "       width=\"24px\">\n",
              "    <path d=\"M0 0h24v24H0V0z\" fill=\"none\"/>\n",
              "    <path d=\"M18.56 5.44l.94 2.06.94-2.06 2.06-.94-2.06-.94-.94-2.06-.94 2.06-2.06.94zm-11 1L8.5 8.5l.94-2.06 2.06-.94-2.06-.94L8.5 2.5l-.94 2.06-2.06.94zm10 10l.94 2.06.94-2.06 2.06-.94-2.06-.94-.94-2.06-.94 2.06-2.06.94z\"/><path d=\"M17.41 7.96l-1.37-1.37c-.4-.4-.92-.59-1.43-.59-.52 0-1.04.2-1.43.59L10.3 9.45l-7.72 7.72c-.78.78-.78 2.05 0 2.83L4 21.41c.39.39.9.59 1.41.59.51 0 1.02-.2 1.41-.59l7.78-7.78 2.81-2.81c.8-.78.8-2.07 0-2.86zM5.41 20L4 18.59l7.72-7.72 1.47 1.35L5.41 20z\"/>\n",
              "  </svg>\n",
              "      </button>\n",
              "      \n",
              "  <style>\n",
              "    .colab-df-container {\n",
              "      display:flex;\n",
              "      flex-wrap:wrap;\n",
              "      gap: 12px;\n",
              "    }\n",
              "\n",
              "    .colab-df-convert {\n",
              "      background-color: #E8F0FE;\n",
              "      border: none;\n",
              "      border-radius: 50%;\n",
              "      cursor: pointer;\n",
              "      display: none;\n",
              "      fill: #1967D2;\n",
              "      height: 32px;\n",
              "      padding: 0 0 0 0;\n",
              "      width: 32px;\n",
              "    }\n",
              "\n",
              "    .colab-df-convert:hover {\n",
              "      background-color: #E2EBFA;\n",
              "      box-shadow: 0px 1px 2px rgba(60, 64, 67, 0.3), 0px 1px 3px 1px rgba(60, 64, 67, 0.15);\n",
              "      fill: #174EA6;\n",
              "    }\n",
              "\n",
              "    [theme=dark] .colab-df-convert {\n",
              "      background-color: #3B4455;\n",
              "      fill: #D2E3FC;\n",
              "    }\n",
              "\n",
              "    [theme=dark] .colab-df-convert:hover {\n",
              "      background-color: #434B5C;\n",
              "      box-shadow: 0px 1px 3px 1px rgba(0, 0, 0, 0.15);\n",
              "      filter: drop-shadow(0px 1px 2px rgba(0, 0, 0, 0.3));\n",
              "      fill: #FFFFFF;\n",
              "    }\n",
              "  </style>\n",
              "\n",
              "      <script>\n",
              "        const buttonEl =\n",
              "          document.querySelector('#df-6ef5eb92-1bad-4e0b-99c2-e4a058b5dc1f button.colab-df-convert');\n",
              "        buttonEl.style.display =\n",
              "          google.colab.kernel.accessAllowed ? 'block' : 'none';\n",
              "\n",
              "        async function convertToInteractive(key) {\n",
              "          const element = document.querySelector('#df-6ef5eb92-1bad-4e0b-99c2-e4a058b5dc1f');\n",
              "          const dataTable =\n",
              "            await google.colab.kernel.invokeFunction('convertToInteractive',\n",
              "                                                     [key], {});\n",
              "          if (!dataTable) return;\n",
              "\n",
              "          const docLinkHtml = 'Like what you see? Visit the ' +\n",
              "            '<a target=\"_blank\" href=https://colab.research.google.com/notebooks/data_table.ipynb>data table notebook</a>'\n",
              "            + ' to learn more about interactive tables.';\n",
              "          element.innerHTML = '';\n",
              "          dataTable['output_type'] = 'display_data';\n",
              "          await google.colab.output.renderOutput(dataTable, element);\n",
              "          const docLink = document.createElement('div');\n",
              "          docLink.innerHTML = docLinkHtml;\n",
              "          element.appendChild(docLink);\n",
              "        }\n",
              "      </script>\n",
              "    </div>\n",
              "  </div>\n",
              "  "
            ]
          },
          "metadata": {},
          "execution_count": 16
        }
      ]
    },
    {
      "cell_type": "code",
      "source": [
        "path = '/content/drive/MyDrive/ML-Spring-2022/TheTrio/Harika/NLP-Assignments/Assignment-10-AlternusVera_Part1&2/dataset/BusinessArticles.csv'\n",
        "\n",
        "with open(path, 'w', encoding = 'utf-8-sig') as f:\n",
        "  documents_business.to_csv(f)"
      ],
      "metadata": {
        "id": "Jr3qUM0NRQzC"
      },
      "execution_count": null,
      "outputs": []
    },
    {
      "cell_type": "code",
      "source": [
        "processed_docs_business = documents_business['title'].map(preprocess)\n",
        "processed_docs_business.head()"
      ],
      "metadata": {
        "colab": {
          "base_uri": "https://localhost:8080/"
        },
        "id": "tOd_-iprRfKA",
        "outputId": "d762c0d4-bbe9-4628-a071-d951f091b862"
      },
      "execution_count": null,
      "outputs": [
        {
          "output_type": "execute_result",
          "data": {
            "text/plain": [
              "57635    [john, mccain, warn, trump, torch, rand, paul,...\n",
              "61585                     [popular, world, total, mislead]\n",
              "63596                 [obama, trump, bamboozl, okey, doke]\n",
              "63273    [trump, say, poll, show, second, debat, scient...\n",
              "61350     [privat, make, donald, trump, plane, look, tini]\n",
              "Name: title, dtype: object"
            ]
          },
          "metadata": {},
          "execution_count": 18
        }
      ]
    },
    {
      "cell_type": "markdown",
      "source": [
        "Bag of words:    \n",
        "Create a dictionary containing the number of times a word appears in the training set. \n",
        "Pass the documents to gensim.corpora.Dictionary()"
      ],
      "metadata": {
        "id": "OMeMMMXLRq5Q"
      }
    },
    {
      "cell_type": "code",
      "source": [
        "dictionary_business = gensim.corpora.Dictionary(processed_docs_business)\n",
        "count = 0\n",
        "for k, v in dictionary_business.iteritems():\n",
        "    print(k, v)\n",
        "    count += 1\n",
        "    if count > 5:\n",
        "        break"
      ],
      "metadata": {
        "colab": {
          "base_uri": "https://localhost:8080/"
        },
        "id": "bo0FL5CHRsMH",
        "outputId": "0e424fe3-2274-4314-b459-b03f6646c2aa"
      },
      "execution_count": null,
      "outputs": [
        {
          "output_type": "stream",
          "name": "stdout",
          "text": [
            "0 john\n",
            "1 mccain\n",
            "2 missil\n",
            "3 paul\n",
            "4 rand\n",
            "5 strike\n"
          ]
        }
      ]
    },
    {
      "cell_type": "code",
      "source": [
        "import pickle \n",
        "\n",
        "with open(\"/content/drive/MyDrive/ML-Spring-2022/TheTrio/Harika/NLP-Assignments/Assignment-10-AlternusVera_Part1&2/dictionary_business.pkl\", \"wb\") as pkl_handle:\n",
        "\tpickle.dump(dictionary_business, pkl_handle)"
      ],
      "metadata": {
        "id": "JZqZPDNrHUSD"
      },
      "execution_count": null,
      "outputs": []
    },
    {
      "cell_type": "code",
      "source": [
        ""
      ],
      "metadata": {
        "id": "GrKvFxqhMi7_"
      },
      "execution_count": null,
      "outputs": []
    },
    {
      "cell_type": "markdown",
      "source": [
        "Gensim doc2bow:   \n",
        "convert document into the bag-of-words formart = list(word_id, word,count) "
      ],
      "metadata": {
        "id": "FsnvEGV4R1DV"
      }
    },
    {
      "cell_type": "code",
      "source": [
        "bow_corpus_business = [dictionary_business.doc2bow(doc) for doc in processed_docs_business]"
      ],
      "metadata": {
        "id": "1QveEgymRylt"
      },
      "execution_count": null,
      "outputs": []
    },
    {
      "cell_type": "markdown",
      "source": [
        "TF-IDF: Term Frequency, Inverse Document Frequency.    \n",
        "1. TFIDF is used to score the importance of words in a document based on their frequency across multiple documents\n",
        "2. If words appears frequenctly in a document is important and given high score\n",
        "3. words appear in many document are not considered unique, low score for sucnh words. like the , for\n",
        "\n",
        "\n",
        "Example: TF IDF\n",
        "document d1 - 1000 words and word \"stock\" appears 5 times\n",
        "TF = 5/1000 = 0.005\n",
        "\n",
        "10 million documents word \"stock\" appears 1000 times then\n",
        "IDF  = log(10000000/1000)= 4\n",
        "\n",
        "TF-IDF = 0.005 *4 = 0.02\n"
      ],
      "metadata": {
        "id": "aPPUs7XxSiT2"
      }
    },
    {
      "cell_type": "code",
      "source": [
        "from gensim import corpora, models\n",
        "tfidf = models.TfidfModel(bow_corpus_business)\n",
        "corpus_tfidf_business = tfidf[bow_corpus_business]\n",
        "from pprint import pprint\n",
        "for doc in corpus_tfidf_business:\n",
        "    pprint(doc)\n",
        "    break"
      ],
      "metadata": {
        "colab": {
          "base_uri": "https://localhost:8080/"
        },
        "id": "K57v8vKjSh0n",
        "outputId": "383530e1-bae5-4d95-b4ad-e7f8e9819a34"
      },
      "execution_count": null,
      "outputs": [
        {
          "output_type": "stream",
          "name": "stdout",
          "text": [
            "[(0, 0.27684219828328904),\n",
            " (1, 0.343582151323745),\n",
            " (2, 0.3242744291429671),\n",
            " (3, 0.31256090958696153),\n",
            " (4, 0.40448164364776595),\n",
            " (5, 0.3028959596572979),\n",
            " (6, 0.27547341005251974),\n",
            " (7, 0.42042875469298785),\n",
            " (8, 0.09348045487243165),\n",
            " (9, 0.2927893093285109)]\n"
          ]
        }
      ]
    },
    {
      "cell_type": "markdown",
      "source": [
        "Running LDA using Bag of words\n",
        "\n",
        "\n",
        "\n"
      ],
      "metadata": {
        "id": "cEG9sYWJSzYX"
      }
    },
    {
      "cell_type": "code",
      "source": [
        "lda_model_business = gensim.models.LdaMulticore(bow_corpus_business, \n",
        "                                       num_topics=10, \n",
        "                                       id2word = dictionary_business, \n",
        "                                       passes = 2, \n",
        "                                       workers=2)"
      ],
      "metadata": {
        "id": "_6xrJqR9So32"
      },
      "execution_count": null,
      "outputs": []
    },
    {
      "cell_type": "code",
      "source": [
        "for idx, topic in lda_model_business.print_topics(-1):\n",
        "    print(\"Topic: {} \\nWords: {}\".format(topic, idx ))\n",
        "    print(\"\\n\")"
      ],
      "metadata": {
        "colab": {
          "base_uri": "https://localhost:8080/"
        },
        "id": "986K01-uS6Do",
        "outputId": "a10ead1e-865c-4b15-94ba-6533d2cad8e2"
      },
      "execution_count": null,
      "outputs": [
        {
          "output_type": "stream",
          "name": "stdout",
          "text": [
            "Topic: 0.016*\"trump\" + 0.014*\"hous\" + 0.011*\"appl\" + 0.010*\"report\" + 0.007*\"white\" + 0.007*\"work\" + 0.006*\"clinton\" + 0.006*\"busi\" + 0.005*\"republican\" + 0.005*\"peopl\" \n",
            "Words: 0\n",
            "\n",
            "\n",
            "Topic: 0.014*\"tech\" + 0.013*\"happen\" + 0.013*\"high\" + 0.012*\"thing\" + 0.012*\"school\" + 0.011*\"class\" + 0.010*\"coolest\" + 0.010*\"today\" + 0.009*\"say\" + 0.008*\"trump\" \n",
            "Words: 1\n",
            "\n",
            "\n",
            "Topic: 0.037*\"trump\" + 0.015*\"donald\" + 0.008*\"clinton\" + 0.007*\"make\" + 0.007*\"hillari\" + 0.007*\"innov\" + 0.006*\"impact\" + 0.006*\"zika\" + 0.006*\"radiolog\" + 0.006*\"dermatolog\" \n",
            "Words: 2\n",
            "\n",
            "\n",
            "Topic: 0.030*\"trump\" + 0.010*\"go\" + 0.010*\"best\" + 0.010*\"googl\" + 0.010*\"latest\" + 0.009*\"industri\" + 0.009*\"thing\" + 0.009*\"market\" + 0.008*\"extens\" + 0.008*\"chrome\" \n",
            "Words: 3\n",
            "\n",
            "\n",
            "Topic: 0.020*\"year\" + 0.017*\"trump\" + 0.016*\"come\" + 0.011*\"protect\" + 0.011*\"type\" + 0.011*\"famili\" + 0.011*\"insur\" + 0.010*\"thing\" + 0.009*\"buy\" + 0.009*\"billion\" \n",
            "Words: 4\n",
            "\n",
            "\n",
            "Topic: 0.011*\"trump\" + 0.007*\"like\" + 0.007*\"clinton\" + 0.006*\"want\" + 0.006*\"biggest\" + 0.006*\"polic\" + 0.006*\"look\" + 0.005*\"year\" + 0.005*\"peopl\" + 0.005*\"obama\" \n",
            "Words: 5\n",
            "\n",
            "\n",
            "Topic: 0.042*\"trump\" + 0.014*\"donald\" + 0.009*\"clinton\" + 0.009*\"obama\" + 0.008*\"hillari\" + 0.008*\"like\" + 0.007*\"world\" + 0.007*\"report\" + 0.007*\"women\" + 0.007*\"time\" \n",
            "Words: 6\n",
            "\n",
            "\n",
            "Topic: 0.012*\"trump\" + 0.011*\"wall\" + 0.011*\"street\" + 0.009*\"like\" + 0.008*\"explain\" + 0.008*\"year\" + 0.006*\"best\" + 0.006*\"clinton\" + 0.005*\"startup\" + 0.005*\"googl\" \n",
            "Words: 7\n",
            "\n",
            "\n",
            "Topic: 0.016*\"tyson\" + 0.016*\"degrass\" + 0.016*\"neil\" + 0.015*\"futur\" + 0.012*\"compani\" + 0.012*\"planet\" + 0.012*\"gore\" + 0.010*\"explain\" + 0.010*\"year\" + 0.009*\"tesla\" \n",
            "Words: 8\n",
            "\n",
            "\n",
            "Topic: 0.037*\"trump\" + 0.014*\"say\" + 0.011*\"compani\" + 0.009*\"world\" + 0.009*\"help\" + 0.008*\"year\" + 0.007*\"million\" + 0.007*\"russia\" + 0.007*\"thing\" + 0.006*\"startup\" \n",
            "Words: 9\n",
            "\n",
            "\n"
          ]
        }
      ]
    },
    {
      "cell_type": "markdown",
      "source": [
        "Running LDA using TF-IDF"
      ],
      "metadata": {
        "id": "Fzocf5b6TLl8"
      }
    },
    {
      "cell_type": "code",
      "source": [
        "lda_model_tfidf_business = gensim.models.LdaMulticore(corpus_tfidf_business, \n",
        "                                       num_topics=10, \n",
        "                                       id2word = dictionary_business, \n",
        "                                       passes = 2, \n",
        "                                       workers=2)"
      ],
      "metadata": {
        "id": "_xhwUAjuTH_0"
      },
      "execution_count": null,
      "outputs": []
    },
    {
      "cell_type": "code",
      "source": [
        "for idx, topic in lda_model_tfidf_business.print_topics(-1):\n",
        "    print(\"Topic: {} Word: {}\".format(idx, topic))\n",
        "    print(\"\\n\")"
      ],
      "metadata": {
        "colab": {
          "base_uri": "https://localhost:8080/"
        },
        "id": "3SZRtqffTYgC",
        "outputId": "e3f2e605-5620-4ecc-cce1-db5f74ff82a7"
      },
      "execution_count": null,
      "outputs": [
        {
          "output_type": "stream",
          "name": "stdout",
          "text": [
            "Topic: 0 Word: 0.013*\"year\" + 0.011*\"famili\" + 0.011*\"protect\" + 0.011*\"insur\" + 0.011*\"type\" + 0.010*\"come\" + 0.008*\"like\" + 0.006*\"look\" + 0.006*\"industri\" + 0.006*\"citi\"\n",
            "\n",
            "\n",
            "Topic: 1 Word: 0.008*\"extens\" + 0.008*\"chrome\" + 0.008*\"latest\" + 0.007*\"best\" + 0.007*\"googl\" + 0.007*\"impact\" + 0.007*\"headlin\" + 0.007*\"zika\" + 0.007*\"news\" + 0.007*\"radiolog\"\n",
            "\n",
            "\n",
            "Topic: 2 Word: 0.005*\"trump\" + 0.005*\"machin\" + 0.005*\"explain\" + 0.005*\"wayback\" + 0.005*\"archiv\" + 0.005*\"internet\" + 0.004*\"fund\" + 0.004*\"hedg\" + 0.004*\"startup\" + 0.004*\"dream\"\n",
            "\n",
            "\n",
            "Topic: 3 Word: 0.015*\"thing\" + 0.007*\"today\" + 0.007*\"tyson\" + 0.007*\"degrass\" + 0.007*\"happen\" + 0.007*\"neil\" + 0.006*\"coolest\" + 0.006*\"school\" + 0.006*\"help\" + 0.006*\"class\"\n",
            "\n",
            "\n",
            "Topic: 4 Word: 0.008*\"gore\" + 0.008*\"futur\" + 0.008*\"planet\" + 0.008*\"degrass\" + 0.008*\"tyson\" + 0.008*\"neil\" + 0.006*\"trump\" + 0.005*\"clinton\" + 0.004*\"know\" + 0.004*\"debat\"\n",
            "\n",
            "\n",
            "Topic: 5 Word: 0.008*\"trump\" + 0.004*\"buy\" + 0.004*\"leas\" + 0.004*\"mind\" + 0.004*\"donald\" + 0.004*\"thing\" + 0.003*\"insid\" + 0.003*\"report\" + 0.003*\"main\" + 0.003*\"car\"\n",
            "\n",
            "\n",
            "Topic: 6 Word: 0.007*\"trump\" + 0.004*\"report\" + 0.003*\"plan\" + 0.003*\"buy\" + 0.003*\"wall\" + 0.003*\"peopl\" + 0.003*\"year\" + 0.003*\"mind\" + 0.003*\"life\" + 0.003*\"think\"\n",
            "\n",
            "\n",
            "Topic: 7 Word: 0.006*\"trump\" + 0.005*\"hous\" + 0.004*\"market\" + 0.004*\"say\" + 0.004*\"america\" + 0.003*\"go\" + 0.003*\"appl\" + 0.003*\"clinton\" + 0.003*\"year\" + 0.003*\"come\"\n",
            "\n",
            "\n",
            "Topic: 8 Word: 0.006*\"trump\" + 0.005*\"busi\" + 0.004*\"work\" + 0.004*\"partner\" + 0.004*\"child\" + 0.004*\"husband\" + 0.003*\"time\" + 0.003*\"tesla\" + 0.003*\"china\" + 0.003*\"say\"\n",
            "\n",
            "\n",
            "Topic: 9 Word: 0.008*\"trump\" + 0.005*\"peopl\" + 0.004*\"go\" + 0.004*\"million\" + 0.004*\"wall\" + 0.003*\"clinton\" + 0.003*\"world\" + 0.003*\"street\" + 0.003*\"donald\" + 0.003*\"year\"\n",
            "\n",
            "\n"
          ]
        }
      ]
    },
    {
      "cell_type": "markdown",
      "source": [
        "Save Models"
      ],
      "metadata": {
        "id": "iU5VdstqXAlN"
      }
    },
    {
      "cell_type": "code",
      "source": [
        "lda_model_tfidf_business.save('/content/drive/MyDrive/ML-Spring-2022/TheTrio/Harika/NLP-Assignments/Assignment-10-AlternusVera_Part1&2/LDA_TFID_Business.sav')\n",
        "lda_model_business.save('/content/drive/MyDrive/ML-Spring-2022/TheTrio/Harika/NLP-Assignments/Assignment-10-AlternusVera_Part1&2/lda_model_business.sav')\n"
      ],
      "metadata": {
        "id": "zKLswRAdTd3E"
      },
      "execution_count": null,
      "outputs": []
    },
    {
      "cell_type": "code",
      "source": [
        "unseen_document = \"Dow tumbles more than 900 points, Nasdaq drops 4 percent to close out brutal month\"\n",
        "\n",
        "# Data preprocessing step for the unseen document\n",
        "bow_vector = dictionary_business.doc2bow(preprocess(unseen_document))\n",
        "\n",
        "for index, score in sorted(lda_model_business[bow_vector], key=lambda tup: -1*tup[1]): \n",
        "    print(\"Score: {}\\t Topic: {}\".format(score, lda_model_business.print_topic(index, 5)))"
      ],
      "metadata": {
        "colab": {
          "base_uri": "https://localhost:8080/"
        },
        "id": "XJLA__vCXu8E",
        "outputId": "e64cd825-f8e2-4d8b-fb81-e8fd6c077a0a"
      },
      "execution_count": null,
      "outputs": [
        {
          "output_type": "stream",
          "name": "stdout",
          "text": [
            "Score: 0.3604547679424286\t Topic: 0.042*\"trump\" + 0.014*\"donald\" + 0.009*\"clinton\" + 0.009*\"obama\" + 0.008*\"hillari\"\n",
            "Score: 0.35863015055656433\t Topic: 0.016*\"tyson\" + 0.016*\"degrass\" + 0.016*\"neil\" + 0.015*\"futur\" + 0.012*\"compani\"\n",
            "Score: 0.20312029123306274\t Topic: 0.037*\"trump\" + 0.014*\"say\" + 0.011*\"compani\" + 0.009*\"world\" + 0.009*\"help\"\n",
            "Score: 0.011114311404526234\t Topic: 0.020*\"year\" + 0.017*\"trump\" + 0.016*\"come\" + 0.011*\"protect\" + 0.011*\"type\"\n",
            "Score: 0.011114184744656086\t Topic: 0.037*\"trump\" + 0.015*\"donald\" + 0.008*\"clinton\" + 0.007*\"make\" + 0.007*\"hillari\"\n",
            "Score: 0.011113964952528477\t Topic: 0.012*\"trump\" + 0.011*\"wall\" + 0.011*\"street\" + 0.009*\"like\" + 0.008*\"explain\"\n",
            "Score: 0.011113610118627548\t Topic: 0.014*\"tech\" + 0.013*\"happen\" + 0.013*\"high\" + 0.012*\"thing\" + 0.012*\"school\"\n",
            "Score: 0.011113563552498817\t Topic: 0.030*\"trump\" + 0.010*\"go\" + 0.010*\"best\" + 0.010*\"googl\" + 0.010*\"latest\"\n",
            "Score: 0.01111323107033968\t Topic: 0.011*\"trump\" + 0.007*\"like\" + 0.007*\"clinton\" + 0.006*\"want\" + 0.006*\"biggest\"\n",
            "Score: 0.011111926287412643\t Topic: 0.016*\"trump\" + 0.014*\"hous\" + 0.011*\"appl\" + 0.010*\"report\" + 0.007*\"white\"\n"
          ]
        }
      ]
    },
    {
      "cell_type": "markdown",
      "source": [
        "##Broadcast"
      ],
      "metadata": {
        "id": "R08eQClTaQXL"
      }
    },
    {
      "cell_type": "code",
      "source": [
        "data_broadcast = data_broadcast[:300000][['title']]\n",
        "data_broadcast['index'] = data_broadcast.index\n",
        "documents_broadcast = data_broadcast"
      ],
      "metadata": {
        "id": "PHyot9kQaPaM"
      },
      "execution_count": null,
      "outputs": []
    },
    {
      "cell_type": "code",
      "source": [
        "documents_broadcast"
      ],
      "metadata": {
        "colab": {
          "base_uri": "https://localhost:8080/",
          "height": 424
        },
        "id": "pd7bWxdafQiK",
        "outputId": "838b3520-3b37-4af3-efff-bb069f4a1508"
      },
      "execution_count": null,
      "outputs": [
        {
          "output_type": "execute_result",
          "data": {
            "text/plain": [
              "                                                   title  index\n",
              "75433  Judge Napolitano: What happened to the FBI? It...  75433\n",
              "47106          Cavendish in yellow after first stage win  47106\n",
              "55824  Chattanooga: Why were our soldiers so vulnerable?  55824\n",
              "53683  North Korea's first lady Ri Sol Ju seen for fi...  53683\n",
              "54898        McKinney pool party incident was about race  54898\n",
              "...                                                  ...    ...\n",
              "72697  5 North Carolina deputies disciplined in conne...  72697\n",
              "54808                      8 must-see Budapest buildings  54808\n",
              "55672  Boater's incredible reaction to whale encounte...  55672\n",
              "45758  Navy SEAL who claims he killed bin Laden bough...  45758\n",
              "73791  Alabama county defies order to lower flags hal...  73791\n",
              "\n",
              "[13086 rows x 2 columns]"
            ],
            "text/html": [
              "\n",
              "  <div id=\"df-e9d17c1c-0156-4143-bf63-b75ab14cac11\">\n",
              "    <div class=\"colab-df-container\">\n",
              "      <div>\n",
              "<style scoped>\n",
              "    .dataframe tbody tr th:only-of-type {\n",
              "        vertical-align: middle;\n",
              "    }\n",
              "\n",
              "    .dataframe tbody tr th {\n",
              "        vertical-align: top;\n",
              "    }\n",
              "\n",
              "    .dataframe thead th {\n",
              "        text-align: right;\n",
              "    }\n",
              "</style>\n",
              "<table border=\"1\" class=\"dataframe\">\n",
              "  <thead>\n",
              "    <tr style=\"text-align: right;\">\n",
              "      <th></th>\n",
              "      <th>title</th>\n",
              "      <th>index</th>\n",
              "    </tr>\n",
              "  </thead>\n",
              "  <tbody>\n",
              "    <tr>\n",
              "      <th>75433</th>\n",
              "      <td>Judge Napolitano: What happened to the FBI? It...</td>\n",
              "      <td>75433</td>\n",
              "    </tr>\n",
              "    <tr>\n",
              "      <th>47106</th>\n",
              "      <td>Cavendish in yellow after first stage win</td>\n",
              "      <td>47106</td>\n",
              "    </tr>\n",
              "    <tr>\n",
              "      <th>55824</th>\n",
              "      <td>Chattanooga: Why were our soldiers so vulnerable?</td>\n",
              "      <td>55824</td>\n",
              "    </tr>\n",
              "    <tr>\n",
              "      <th>53683</th>\n",
              "      <td>North Korea's first lady Ri Sol Ju seen for fi...</td>\n",
              "      <td>53683</td>\n",
              "    </tr>\n",
              "    <tr>\n",
              "      <th>54898</th>\n",
              "      <td>McKinney pool party incident was about race</td>\n",
              "      <td>54898</td>\n",
              "    </tr>\n",
              "    <tr>\n",
              "      <th>...</th>\n",
              "      <td>...</td>\n",
              "      <td>...</td>\n",
              "    </tr>\n",
              "    <tr>\n",
              "      <th>72697</th>\n",
              "      <td>5 North Carolina deputies disciplined in conne...</td>\n",
              "      <td>72697</td>\n",
              "    </tr>\n",
              "    <tr>\n",
              "      <th>54808</th>\n",
              "      <td>8 must-see Budapest buildings</td>\n",
              "      <td>54808</td>\n",
              "    </tr>\n",
              "    <tr>\n",
              "      <th>55672</th>\n",
              "      <td>Boater's incredible reaction to whale encounte...</td>\n",
              "      <td>55672</td>\n",
              "    </tr>\n",
              "    <tr>\n",
              "      <th>45758</th>\n",
              "      <td>Navy SEAL who claims he killed bin Laden bough...</td>\n",
              "      <td>45758</td>\n",
              "    </tr>\n",
              "    <tr>\n",
              "      <th>73791</th>\n",
              "      <td>Alabama county defies order to lower flags hal...</td>\n",
              "      <td>73791</td>\n",
              "    </tr>\n",
              "  </tbody>\n",
              "</table>\n",
              "<p>13086 rows × 2 columns</p>\n",
              "</div>\n",
              "      <button class=\"colab-df-convert\" onclick=\"convertToInteractive('df-e9d17c1c-0156-4143-bf63-b75ab14cac11')\"\n",
              "              title=\"Convert this dataframe to an interactive table.\"\n",
              "              style=\"display:none;\">\n",
              "        \n",
              "  <svg xmlns=\"http://www.w3.org/2000/svg\" height=\"24px\"viewBox=\"0 0 24 24\"\n",
              "       width=\"24px\">\n",
              "    <path d=\"M0 0h24v24H0V0z\" fill=\"none\"/>\n",
              "    <path d=\"M18.56 5.44l.94 2.06.94-2.06 2.06-.94-2.06-.94-.94-2.06-.94 2.06-2.06.94zm-11 1L8.5 8.5l.94-2.06 2.06-.94-2.06-.94L8.5 2.5l-.94 2.06-2.06.94zm10 10l.94 2.06.94-2.06 2.06-.94-2.06-.94-.94-2.06-.94 2.06-2.06.94z\"/><path d=\"M17.41 7.96l-1.37-1.37c-.4-.4-.92-.59-1.43-.59-.52 0-1.04.2-1.43.59L10.3 9.45l-7.72 7.72c-.78.78-.78 2.05 0 2.83L4 21.41c.39.39.9.59 1.41.59.51 0 1.02-.2 1.41-.59l7.78-7.78 2.81-2.81c.8-.78.8-2.07 0-2.86zM5.41 20L4 18.59l7.72-7.72 1.47 1.35L5.41 20z\"/>\n",
              "  </svg>\n",
              "      </button>\n",
              "      \n",
              "  <style>\n",
              "    .colab-df-container {\n",
              "      display:flex;\n",
              "      flex-wrap:wrap;\n",
              "      gap: 12px;\n",
              "    }\n",
              "\n",
              "    .colab-df-convert {\n",
              "      background-color: #E8F0FE;\n",
              "      border: none;\n",
              "      border-radius: 50%;\n",
              "      cursor: pointer;\n",
              "      display: none;\n",
              "      fill: #1967D2;\n",
              "      height: 32px;\n",
              "      padding: 0 0 0 0;\n",
              "      width: 32px;\n",
              "    }\n",
              "\n",
              "    .colab-df-convert:hover {\n",
              "      background-color: #E2EBFA;\n",
              "      box-shadow: 0px 1px 2px rgba(60, 64, 67, 0.3), 0px 1px 3px 1px rgba(60, 64, 67, 0.15);\n",
              "      fill: #174EA6;\n",
              "    }\n",
              "\n",
              "    [theme=dark] .colab-df-convert {\n",
              "      background-color: #3B4455;\n",
              "      fill: #D2E3FC;\n",
              "    }\n",
              "\n",
              "    [theme=dark] .colab-df-convert:hover {\n",
              "      background-color: #434B5C;\n",
              "      box-shadow: 0px 1px 3px 1px rgba(0, 0, 0, 0.15);\n",
              "      filter: drop-shadow(0px 1px 2px rgba(0, 0, 0, 0.3));\n",
              "      fill: #FFFFFF;\n",
              "    }\n",
              "  </style>\n",
              "\n",
              "      <script>\n",
              "        const buttonEl =\n",
              "          document.querySelector('#df-e9d17c1c-0156-4143-bf63-b75ab14cac11 button.colab-df-convert');\n",
              "        buttonEl.style.display =\n",
              "          google.colab.kernel.accessAllowed ? 'block' : 'none';\n",
              "\n",
              "        async function convertToInteractive(key) {\n",
              "          const element = document.querySelector('#df-e9d17c1c-0156-4143-bf63-b75ab14cac11');\n",
              "          const dataTable =\n",
              "            await google.colab.kernel.invokeFunction('convertToInteractive',\n",
              "                                                     [key], {});\n",
              "          if (!dataTable) return;\n",
              "\n",
              "          const docLinkHtml = 'Like what you see? Visit the ' +\n",
              "            '<a target=\"_blank\" href=https://colab.research.google.com/notebooks/data_table.ipynb>data table notebook</a>'\n",
              "            + ' to learn more about interactive tables.';\n",
              "          element.innerHTML = '';\n",
              "          dataTable['output_type'] = 'display_data';\n",
              "          await google.colab.output.renderOutput(dataTable, element);\n",
              "          const docLink = document.createElement('div');\n",
              "          docLink.innerHTML = docLinkHtml;\n",
              "          element.appendChild(docLink);\n",
              "        }\n",
              "      </script>\n",
              "    </div>\n",
              "  </div>\n",
              "  "
            ]
          },
          "metadata": {},
          "execution_count": 30
        }
      ]
    },
    {
      "cell_type": "code",
      "source": [
        "documents_broadcast['title'][41840]"
      ],
      "metadata": {
        "colab": {
          "base_uri": "https://localhost:8080/",
          "height": 35
        },
        "id": "F3CHSOxUfWia",
        "outputId": "fc16a431-c78a-4f66-ed27-d1fb822a7c48"
      },
      "execution_count": null,
      "outputs": [
        {
          "output_type": "execute_result",
          "data": {
            "text/plain": [
              "'Istanbul attack: Dozens killed at nightclub'"
            ],
            "application/vnd.google.colaboratory.intrinsic+json": {
              "type": "string"
            }
          },
          "metadata": {},
          "execution_count": 31
        }
      ]
    },
    {
      "cell_type": "code",
      "source": [
        "document_num = 41840\n",
        "doc_sample = documents_broadcast[documents_broadcast['index'] == document_num].values[0][0]\n",
        "\n",
        "print(\"Original document: \")\n",
        "words = []\n",
        "for word in doc_sample.split(' '):\n",
        "    words.append(word)\n",
        "print(words)\n",
        "print(\"\\n\\nTokenized and lemmatized document: \")\n",
        "print(preprocess(doc_sample))"
      ],
      "metadata": {
        "colab": {
          "base_uri": "https://localhost:8080/"
        },
        "id": "bc1r-IiVc54q",
        "outputId": "6b84680f-0ae5-4d61-a9ea-66a6aaf0f686"
      },
      "execution_count": null,
      "outputs": [
        {
          "output_type": "stream",
          "name": "stdout",
          "text": [
            "Original document: \n",
            "['Istanbul', 'attack:', 'Dozens', 'killed', 'at', 'nightclub']\n",
            "\n",
            "\n",
            "Tokenized and lemmatized document: \n",
            "['istanbul', 'attack', 'dozen', 'kill', 'nightclub']\n"
          ]
        }
      ]
    },
    {
      "cell_type": "code",
      "source": [
        "path = '/content/drive/MyDrive/ML-Spring-2022/TheTrio/Harika/NLP-Assignments/Assignment-10-AlternusVera_Part1&2/dataset/BroadcastArticles.csv'\n",
        "\n",
        "with open(path, 'w', encoding = 'utf-8-sig') as f:\n",
        "  documents_broadcast.to_csv(f)"
      ],
      "metadata": {
        "id": "4v04u_hJfhZJ"
      },
      "execution_count": null,
      "outputs": []
    },
    {
      "cell_type": "code",
      "source": [
        "processed_docs_broadcast = documents_broadcast['title'].map(preprocess)\n",
        "processed_docs_broadcast.head()"
      ],
      "metadata": {
        "colab": {
          "base_uri": "https://localhost:8080/"
        },
        "id": "4DluNa0Lft3J",
        "outputId": "2426bad3-5541-45aa-d7b6-e264b58ab6fa"
      },
      "execution_count": null,
      "outputs": [
        {
          "output_type": "execute_result",
          "data": {
            "text/plain": [
              "75433    [judg, napolitano, happen, corrupt, obama, team]\n",
              "47106                          [cavendish, yellow, stage]\n",
              "55824                      [chattanooga, soldier, vulner]\n",
              "53683               [north, korea, ladi, see, time, year]\n",
              "54898                [mckinney, pool, parti, incid, race]\n",
              "Name: title, dtype: object"
            ]
          },
          "metadata": {},
          "execution_count": 34
        }
      ]
    },
    {
      "cell_type": "markdown",
      "source": [
        "Bag of words"
      ],
      "metadata": {
        "id": "8OjsG_rEf5RY"
      }
    },
    {
      "cell_type": "code",
      "source": [
        "dictionary_broadcast = gensim.corpora.Dictionary(processed_docs_broadcast)\n",
        "count = 0\n",
        "for k, v in dictionary_broadcast.iteritems():\n",
        "    print(k, v)\n",
        "    count += 1\n",
        "    if count > 5:\n",
        "        break"
      ],
      "metadata": {
        "colab": {
          "base_uri": "https://localhost:8080/"
        },
        "id": "JZe69uyrf2eR",
        "outputId": "ac25d1fc-d2bd-4042-e430-022666cbac2e"
      },
      "execution_count": null,
      "outputs": [
        {
          "output_type": "stream",
          "name": "stdout",
          "text": [
            "0 corrupt\n",
            "1 happen\n",
            "2 judg\n",
            "3 napolitano\n",
            "4 obama\n",
            "5 team\n"
          ]
        }
      ]
    },
    {
      "cell_type": "markdown",
      "source": [
        "Gensim doc2bow"
      ],
      "metadata": {
        "id": "7AjidexlgHOz"
      }
    },
    {
      "cell_type": "code",
      "source": [
        "bow_corpus_broadcast = [dictionary_broadcast.doc2bow(doc) for doc in processed_docs_broadcast]"
      ],
      "metadata": {
        "id": "HzeKZeiVf_t-"
      },
      "execution_count": null,
      "outputs": []
    },
    {
      "cell_type": "markdown",
      "source": [
        "TF-IDF"
      ],
      "metadata": {
        "id": "u60N-hxigOVN"
      }
    },
    {
      "cell_type": "code",
      "source": [
        "\n",
        "tfidf = models.TfidfModel(bow_corpus_broadcast)\n",
        "corpus_tfidf_broadcast = tfidf[bow_corpus_broadcast]\n",
        "from pprint import pprint\n",
        "for doc in corpus_tfidf_broadcast:\n",
        "    pprint(doc)\n",
        "    break"
      ],
      "metadata": {
        "colab": {
          "base_uri": "https://localhost:8080/"
        },
        "id": "3KqqP3W-gLZV",
        "outputId": "4ce5d624-7003-45df-897d-550a73414e2d"
      },
      "execution_count": null,
      "outputs": [
        {
          "output_type": "stream",
          "name": "stdout",
          "text": [
            "[(0, 0.46494242285004256),\n",
            " (1, 0.37172365844892646),\n",
            " (2, 0.35270308089557617),\n",
            " (3, 0.590808249782448),\n",
            " (4, 0.2397752127910462),\n",
            " (5, 0.33867988016777134)]\n"
          ]
        }
      ]
    },
    {
      "cell_type": "markdown",
      "source": [
        "Running LDA model using Bag of words"
      ],
      "metadata": {
        "id": "q_GmHeuSga3B"
      }
    },
    {
      "cell_type": "code",
      "source": [
        "lda_model_broadcast = gensim.models.LdaMulticore(bow_corpus_broadcast, \n",
        "                                       num_topics=10, \n",
        "                                       id2word = dictionary_broadcast, \n",
        "                                       passes = 2, \n",
        "                                       workers=2)"
      ],
      "metadata": {
        "id": "78aAQ7uKgXob"
      },
      "execution_count": null,
      "outputs": []
    },
    {
      "cell_type": "code",
      "source": [
        "for idx, topic in lda_model_broadcast.print_topics(-1):\n",
        "    print(\"Topic: {} \\nWords: {}\".format(topic, idx ))\n",
        "    print(\"\\n\")"
      ],
      "metadata": {
        "colab": {
          "base_uri": "https://localhost:8080/"
        },
        "id": "2fZOdCb_ghGK",
        "outputId": "0e2a62cf-16f5-4119-89fa-44ac444d8e80"
      },
      "execution_count": null,
      "outputs": [
        {
          "output_type": "stream",
          "name": "stdout",
          "text": [
            "Topic: 0.027*\"trump\" + 0.018*\"say\" + 0.013*\"clinton\" + 0.006*\"hous\" + 0.006*\"report\" + 0.005*\"call\" + 0.005*\"citi\" + 0.005*\"campaign\" + 0.005*\"state\" + 0.005*\"black\" \n",
            "Words: 0\n",
            "\n",
            "\n",
            "Topic: 0.022*\"trump\" + 0.021*\"kill\" + 0.010*\"say\" + 0.010*\"student\" + 0.007*\"isi\" + 0.007*\"news\" + 0.006*\"shoot\" + 0.005*\"video\" + 0.005*\"india\" + 0.005*\"tell\" \n",
            "Words: 1\n",
            "\n",
            "\n",
            "Topic: 0.013*\"shoot\" + 0.013*\"attack\" + 0.013*\"polic\" + 0.011*\"dead\" + 0.010*\"isi\" + 0.010*\"video\" + 0.009*\"help\" + 0.008*\"trump\" + 0.008*\"death\" + 0.007*\"kill\" \n",
            "Words: 2\n",
            "\n",
            "\n",
            "Topic: 0.035*\"trump\" + 0.011*\"shoot\" + 0.010*\"video\" + 0.010*\"clinton\" + 0.008*\"obama\" + 0.007*\"polic\" + 0.005*\"dead\" + 0.005*\"leav\" + 0.005*\"call\" + 0.005*\"kill\" \n",
            "Words: 3\n",
            "\n",
            "\n",
            "Topic: 0.039*\"trump\" + 0.014*\"world\" + 0.008*\"look\" + 0.006*\"polici\" + 0.006*\"kill\" + 0.006*\"penc\" + 0.005*\"donald\" + 0.005*\"video\" + 0.005*\"opinion\" + 0.004*\"hotel\" \n",
            "Words: 4\n",
            "\n",
            "\n",
            "Topic: 0.048*\"trump\" + 0.015*\"clinton\" + 0.014*\"obama\" + 0.010*\"korea\" + 0.010*\"north\" + 0.008*\"hous\" + 0.007*\"travel\" + 0.006*\"white\" + 0.005*\"right\" + 0.005*\"presid\" \n",
            "Words: 5\n",
            "\n",
            "\n",
            "Topic: 0.011*\"report\" + 0.010*\"investig\" + 0.009*\"clinton\" + 0.008*\"video\" + 0.008*\"trump\" + 0.008*\"say\" + 0.007*\"death\" + 0.006*\"die\" + 0.006*\"berni\" + 0.005*\"american\" \n",
            "Words: 6\n",
            "\n",
            "\n",
            "Topic: 0.023*\"trump\" + 0.022*\"fact\" + 0.022*\"fast\" + 0.006*\"attack\" + 0.006*\"time\" + 0.006*\"turkey\" + 0.005*\"life\" + 0.005*\"isi\" + 0.005*\"say\" + 0.005*\"king\" \n",
            "Words: 7\n",
            "\n",
            "\n",
            "Topic: 0.038*\"video\" + 0.015*\"trump\" + 0.006*\"obama\" + 0.006*\"teen\" + 0.006*\"near\" + 0.005*\"driver\" + 0.005*\"catch\" + 0.005*\"camera\" + 0.004*\"year\" + 0.004*\"attack\" \n",
            "Words: 8\n",
            "\n",
            "\n",
            "Topic: 0.030*\"trump\" + 0.030*\"clinton\" + 0.015*\"video\" + 0.009*\"email\" + 0.008*\"poll\" + 0.006*\"say\" + 0.005*\"report\" + 0.005*\"health\" + 0.005*\"aid\" + 0.005*\"russian\" \n",
            "Words: 9\n",
            "\n",
            "\n"
          ]
        }
      ]
    },
    {
      "cell_type": "markdown",
      "source": [
        "Running LDA using TF-IDF"
      ],
      "metadata": {
        "id": "Fqr9u5Q-g8dM"
      }
    },
    {
      "cell_type": "code",
      "source": [
        "lda_model_tfidf_broadcast = gensim.models.LdaMulticore(corpus_tfidf_broadcast, \n",
        "                                       num_topics=10, \n",
        "                                       id2word = dictionary_broadcast, \n",
        "                                       passes = 2, \n",
        "                                       workers=2)"
      ],
      "metadata": {
        "id": "6GN6aEIqg41K"
      },
      "execution_count": null,
      "outputs": []
    },
    {
      "cell_type": "code",
      "source": [
        "for idx, topic in lda_model_tfidf_broadcast.print_topics(-1):\n",
        "    print(\"Topic: {} Word: {}\".format(idx, topic))\n",
        "    print(\"\\n\")"
      ],
      "metadata": {
        "colab": {
          "base_uri": "https://localhost:8080/"
        },
        "id": "0MVV2keZhGVL",
        "outputId": "4e211092-3216-44fd-cf44-8c9ecd0f5509"
      },
      "execution_count": null,
      "outputs": [
        {
          "output_type": "stream",
          "name": "stdout",
          "text": [
            "Topic: 0 Word: 0.006*\"trump\" + 0.006*\"hotel\" + 0.004*\"video\" + 0.004*\"well\" + 0.004*\"report\" + 0.004*\"clinton\" + 0.003*\"kill\" + 0.003*\"fargo\" + 0.003*\"citi\" + 0.003*\"attack\"\n",
            "\n",
            "\n",
            "Topic: 1 Word: 0.007*\"trump\" + 0.005*\"shoot\" + 0.005*\"clinton\" + 0.004*\"hous\" + 0.004*\"video\" + 0.004*\"white\" + 0.004*\"romney\" + 0.003*\"biden\" + 0.003*\"america\" + 0.003*\"week\"\n",
            "\n",
            "\n",
            "Topic: 2 Word: 0.008*\"trump\" + 0.006*\"video\" + 0.005*\"live\" + 0.004*\"presid\" + 0.004*\"happen\" + 0.004*\"olymp\" + 0.004*\"fund\" + 0.003*\"obama\" + 0.003*\"clinton\" + 0.003*\"kid\"\n",
            "\n",
            "\n",
            "Topic: 3 Word: 0.007*\"trump\" + 0.006*\"video\" + 0.006*\"say\" + 0.004*\"clinton\" + 0.004*\"opinion\" + 0.003*\"obama\" + 0.003*\"come\" + 0.003*\"climat\" + 0.003*\"chang\" + 0.003*\"power\"\n",
            "\n",
            "\n",
            "Topic: 4 Word: 0.007*\"trump\" + 0.005*\"video\" + 0.005*\"north\" + 0.004*\"korea\" + 0.004*\"photo\" + 0.004*\"week\" + 0.003*\"hous\" + 0.003*\"arrest\" + 0.003*\"death\" + 0.003*\"immigr\"\n",
            "\n",
            "\n",
            "Topic: 5 Word: 0.010*\"clinton\" + 0.010*\"trump\" + 0.005*\"fast\" + 0.005*\"fact\" + 0.005*\"email\" + 0.004*\"state\" + 0.004*\"video\" + 0.004*\"comey\" + 0.004*\"fight\" + 0.004*\"presidenti\"\n",
            "\n",
            "\n",
            "Topic: 6 Word: 0.008*\"trump\" + 0.004*\"health\" + 0.004*\"time\" + 0.004*\"care\" + 0.004*\"video\" + 0.004*\"plan\" + 0.003*\"court\" + 0.003*\"suprem\" + 0.003*\"attempt\" + 0.003*\"shoot\"\n",
            "\n",
            "\n",
            "Topic: 7 Word: 0.009*\"trump\" + 0.005*\"obama\" + 0.005*\"say\" + 0.004*\"clinton\" + 0.004*\"attack\" + 0.004*\"year\" + 0.003*\"polic\" + 0.003*\"video\" + 0.003*\"poll\" + 0.003*\"isi\"\n",
            "\n",
            "\n",
            "Topic: 8 Word: 0.008*\"trump\" + 0.005*\"donald\" + 0.005*\"thing\" + 0.005*\"januari\" + 0.004*\"know\" + 0.004*\"fact\" + 0.004*\"game\" + 0.004*\"video\" + 0.004*\"speech\" + 0.003*\"draw\"\n",
            "\n",
            "\n",
            "Topic: 9 Word: 0.007*\"video\" + 0.006*\"shoot\" + 0.005*\"sport\" + 0.005*\"amaz\" + 0.005*\"trump\" + 0.005*\"photo\" + 0.005*\"march\" + 0.004*\"news\" + 0.004*\"kill\" + 0.004*\"camera\"\n",
            "\n",
            "\n"
          ]
        }
      ]
    },
    {
      "cell_type": "markdown",
      "source": [
        "Save models"
      ],
      "metadata": {
        "id": "JD3v6bbfhNAf"
      }
    },
    {
      "cell_type": "code",
      "source": [
        "lda_model_tfidf_broadcast.save('/content/drive/MyDrive/ML-Spring-2022/TheTrio/Harika/NLP-Assignments/Assignment-10-AlternusVera_Part1&2/LDA_TFID_broadcast.sav')\n",
        "lda_model_broadcast.save('/content/drive/MyDrive/ML-Spring-2022/TheTrio/Harika/NLP-Assignments/Assignment-10-AlternusVera_Part1&2/lda_model_broadcast.sav')\n"
      ],
      "metadata": {
        "id": "LsPBfGC1hMyx"
      },
      "execution_count": null,
      "outputs": []
    },
    {
      "cell_type": "code",
      "source": [
        "unseen_document = \"Country music legend Naomi Judd, one half of The Judds, dies age 76\"\n",
        "\n",
        "# Data preprocessing step for the unseen document\n",
        "bow_vector = dictionary_broadcast.doc2bow(preprocess(unseen_document))\n",
        "\n",
        "for index, score in sorted(lda_model_broadcast[bow_vector], key=lambda tup: -1*tup[1]): \n",
        "    print(\"Score: {}\\t Topic: {}\".format(score, lda_model_broadcast.print_topic(index, 5)))"
      ],
      "metadata": {
        "colab": {
          "base_uri": "https://localhost:8080/"
        },
        "id": "N0yvK1jokOlp",
        "outputId": "932cb69c-03fb-4149-c0da-6b70ba0f1dbf"
      },
      "execution_count": null,
      "outputs": [
        {
          "output_type": "stream",
          "name": "stdout",
          "text": [
            "Score: 0.704056978225708\t Topic: 0.023*\"trump\" + 0.022*\"fact\" + 0.022*\"fast\" + 0.006*\"attack\" + 0.006*\"time\"\n",
            "Score: 0.19591523706912994\t Topic: 0.048*\"trump\" + 0.015*\"clinton\" + 0.014*\"obama\" + 0.010*\"korea\" + 0.010*\"north\"\n",
            "Score: 0.012510238215327263\t Topic: 0.013*\"shoot\" + 0.013*\"attack\" + 0.013*\"polic\" + 0.011*\"dead\" + 0.010*\"isi\"\n",
            "Score: 0.012504118494689465\t Topic: 0.011*\"report\" + 0.010*\"investig\" + 0.009*\"clinton\" + 0.008*\"video\" + 0.008*\"trump\"\n",
            "Score: 0.01250371988862753\t Topic: 0.027*\"trump\" + 0.018*\"say\" + 0.013*\"clinton\" + 0.006*\"hous\" + 0.006*\"report\"\n",
            "Score: 0.012503646314144135\t Topic: 0.039*\"trump\" + 0.014*\"world\" + 0.008*\"look\" + 0.006*\"polici\" + 0.006*\"kill\"\n",
            "Score: 0.0125028220936656\t Topic: 0.022*\"trump\" + 0.021*\"kill\" + 0.010*\"say\" + 0.010*\"student\" + 0.007*\"isi\"\n",
            "Score: 0.012501639313995838\t Topic: 0.030*\"trump\" + 0.030*\"clinton\" + 0.015*\"video\" + 0.009*\"email\" + 0.008*\"poll\"\n",
            "Score: 0.012501147575676441\t Topic: 0.035*\"trump\" + 0.011*\"shoot\" + 0.010*\"video\" + 0.010*\"clinton\" + 0.008*\"obama\"\n",
            "Score: 0.012500463984906673\t Topic: 0.038*\"video\" + 0.015*\"trump\" + 0.006*\"obama\" + 0.006*\"teen\" + 0.006*\"near\"\n"
          ]
        }
      ]
    },
    {
      "cell_type": "markdown",
      "source": [
        "##Book Reviews"
      ],
      "metadata": {
        "id": "k9hixkKwh5PV"
      }
    },
    {
      "cell_type": "code",
      "source": [
        "data_BookReviews = data_BookReviews[:300000][['title']]\n",
        "data_BookReviews['index'] = data_BookReviews.index\n",
        "documents_BookReviews = data_BookReviews"
      ],
      "metadata": {
        "id": "-_ZWEGT2h06J"
      },
      "execution_count": null,
      "outputs": []
    },
    {
      "cell_type": "code",
      "source": [
        "documents_BookReviews['title'][1213]"
      ],
      "metadata": {
        "colab": {
          "base_uri": "https://localhost:8080/",
          "height": 35
        },
        "id": "5kdwNafDlVUC",
        "outputId": "9037b0fd-6163-426d-e65d-86692469e3f6"
      },
      "execution_count": null,
      "outputs": [
        {
          "output_type": "execute_result",
          "data": {
            "text/plain": [
              "\"Malka Older's Infomocracy is this election season's essential thriller\""
            ],
            "application/vnd.google.colaboratory.intrinsic+json": {
              "type": "string"
            }
          },
          "metadata": {},
          "execution_count": 45
        }
      ]
    },
    {
      "cell_type": "code",
      "source": [
        "document_num = 1213\n",
        "doc_sample = documents_BookReviews[documents_BookReviews['index'] == document_num].values[0][0]\n",
        "\n",
        "print(\"Original document: \")\n",
        "words = []\n",
        "for word in doc_sample.split(' '):\n",
        "    words.append(word)\n",
        "print(words)\n",
        "print(\"\\n\\nTokenized and lemmatized document: \")\n",
        "print(preprocess(doc_sample))"
      ],
      "metadata": {
        "colab": {
          "base_uri": "https://localhost:8080/"
        },
        "id": "XklhceFOlQbi",
        "outputId": "f859e171-4dd7-4420-8a0e-6190de2a912b"
      },
      "execution_count": null,
      "outputs": [
        {
          "output_type": "stream",
          "name": "stdout",
          "text": [
            "Original document: \n",
            "['Malka', \"Older's\", 'Infomocracy', 'is', 'this', 'election', \"season's\", 'essential', 'thriller']\n",
            "\n",
            "\n",
            "Tokenized and lemmatized document: \n",
            "['malka', 'older', 'infomocraci', 'elect', 'season', 'essenti', 'thriller']\n"
          ]
        }
      ]
    },
    {
      "cell_type": "code",
      "source": [
        "path = '/content/drive/MyDrive/ML-Spring-2022/TheTrio/Harika/NLP-Assignments/Assignment-10-AlternusVera_Part1&2/dataset/BookReview.csv'\n",
        "\n",
        "with open(path, 'w', encoding = 'utf-8-sig') as f:\n",
        "  documents_BookReviews.to_csv(f)"
      ],
      "metadata": {
        "id": "WjtEWlp8lkri"
      },
      "execution_count": null,
      "outputs": []
    },
    {
      "cell_type": "code",
      "source": [
        "processed_docs_BookReviews = documents_BookReviews['title'].map(preprocess)\n",
        "processed_docs_BookReviews.head()"
      ],
      "metadata": {
        "colab": {
          "base_uri": "https://localhost:8080/"
        },
        "id": "oVBTSs65luei",
        "outputId": "19ee74d3-0cf5-42d2-d29f-f7708ff884f3"
      },
      "execution_count": null,
      "outputs": [
        {
          "output_type": "execute_result",
          "data": {
            "text/plain": [
              "1213    [malka, older, infomocraci, elect, season, ess...\n",
              "1216               [book, scienc, fiction, page, histori]\n",
              "1210    [stanley, robinson, york, glorious, think, exp...\n",
              "1208           [chang, agent, terribl, book, great, movi]\n",
              "1206    [michael, crichton, novel, dinosaur, bone, gun...\n",
              "Name: title, dtype: object"
            ]
          },
          "metadata": {},
          "execution_count": 48
        }
      ]
    },
    {
      "cell_type": "markdown",
      "source": [
        "Bag of words"
      ],
      "metadata": {
        "id": "4Ph4P6O1Wztn"
      }
    },
    {
      "cell_type": "code",
      "source": [
        "dictionary_BookReviews = gensim.corpora.Dictionary(processed_docs_BookReviews)\n",
        "count = 0\n",
        "for k, v in dictionary_BookReviews.iteritems():\n",
        "    print(k, v)\n",
        "    count += 1\n",
        "    if count > 5:\n",
        "        break"
      ],
      "metadata": {
        "colab": {
          "base_uri": "https://localhost:8080/"
        },
        "id": "p4ido6KeWtHd",
        "outputId": "2be04354-89ac-43b3-80e9-8ad61e17f7bb"
      },
      "execution_count": null,
      "outputs": [
        {
          "output_type": "stream",
          "name": "stdout",
          "text": [
            "0 elect\n",
            "1 essenti\n",
            "2 infomocraci\n",
            "3 malka\n",
            "4 older\n",
            "5 season\n"
          ]
        }
      ]
    },
    {
      "cell_type": "markdown",
      "source": [
        "Gensim doc2bow"
      ],
      "metadata": {
        "id": "IBdB4QEol9di"
      }
    },
    {
      "cell_type": "code",
      "source": [
        "bow_corpus_BookReviews = [dictionary_BookReviews.doc2bow(doc) for doc in processed_docs_BookReviews]"
      ],
      "metadata": {
        "id": "AGfUWXNMl51v"
      },
      "execution_count": null,
      "outputs": []
    },
    {
      "cell_type": "markdown",
      "source": [
        "TF - IDF"
      ],
      "metadata": {
        "id": "d6xDm3FUmC5_"
      }
    },
    {
      "cell_type": "code",
      "source": [
        "tfidf = models.TfidfModel(bow_corpus_BookReviews)\n",
        "corpus_tfidf_BookReviews = tfidf[bow_corpus_BookReviews]\n",
        "from pprint import pprint\n",
        "for doc in corpus_tfidf_BookReviews:\n",
        "    pprint(doc)\n",
        "    break"
      ],
      "metadata": {
        "colab": {
          "base_uri": "https://localhost:8080/"
        },
        "id": "qcSvWI1rl_yk",
        "outputId": "2e131b08-1422-45dd-f4e7-e801792e2fcc"
      },
      "execution_count": null,
      "outputs": [
        {
          "output_type": "stream",
          "name": "stdout",
          "text": [
            "[(0, 0.37796447300922725),\n",
            " (1, 0.37796447300922725),\n",
            " (2, 0.37796447300922725),\n",
            " (3, 0.37796447300922725),\n",
            " (4, 0.37796447300922725),\n",
            " (5, 0.37796447300922725),\n",
            " (6, 0.37796447300922725)]\n"
          ]
        }
      ]
    },
    {
      "cell_type": "markdown",
      "source": [
        "Running LDA using Bag of words"
      ],
      "metadata": {
        "id": "VFObL4MFmhKO"
      }
    },
    {
      "cell_type": "code",
      "source": [
        "lda_model_BookReviews = gensim.models.LdaMulticore(bow_corpus_BookReviews, \n",
        "                                       num_topics=10, \n",
        "                                       id2word = dictionary_BookReviews, \n",
        "                                       passes = 2, \n",
        "                                       workers=2)\n",
        "\n",
        "for idx, topic in lda_model_BookReviews.print_topics(-1):\n",
        "    print(\"Topic: {} \\nWords: {}\".format(topic, idx ))\n",
        "    print(\"\\n\")"
      ],
      "metadata": {
        "colab": {
          "base_uri": "https://localhost:8080/"
        },
        "id": "Jwz0jRWZmdub",
        "outputId": "815f9279-6177-425c-fd7c-b570e6a508f4"
      },
      "execution_count": null,
      "outputs": [
        {
          "output_type": "stream",
          "name": "stdout",
          "text": [
            "Topic: 0.058*\"book\" + 0.058*\"mar\" + 0.058*\"terribl\" + 0.058*\"cost\" + 0.058*\"wander\" + 0.058*\"human\" + 0.058*\"movi\" + 0.058*\"mission\" + 0.058*\"agent\" + 0.058*\"great\" \n",
            "Words: 0\n",
            "\n",
            "\n",
            "Topic: 0.014*\"book\" + 0.014*\"data\" + 0.014*\"comic\" + 0.014*\"chang\" + 0.014*\"look\" + 0.014*\"futur\" + 0.014*\"stupid\" + 0.014*\"blog\" + 0.014*\"beauti\" + 0.014*\"world\" \n",
            "Words: 1\n",
            "\n",
            "\n",
            "Topic: 0.014*\"book\" + 0.014*\"chang\" + 0.014*\"futur\" + 0.014*\"blog\" + 0.014*\"captur\" + 0.014*\"world\" + 0.014*\"okcupid\" + 0.014*\"comic\" + 0.014*\"think\" + 0.014*\"autom\" \n",
            "Words: 2\n",
            "\n",
            "\n",
            "Topic: 0.073*\"novel\" + 0.073*\"lack\" + 0.073*\"dinosaur\" + 0.073*\"gunsling\" + 0.073*\"bone\" + 0.073*\"crichton\" + 0.073*\"michael\" + 0.073*\"soul\" + 0.007*\"book\" + 0.007*\"futur\" \n",
            "Words: 3\n",
            "\n",
            "\n",
            "Topic: 0.014*\"book\" + 0.014*\"futur\" + 0.014*\"data\" + 0.014*\"look\" + 0.014*\"world\" + 0.014*\"think\" + 0.014*\"captur\" + 0.014*\"comic\" + 0.014*\"chang\" + 0.014*\"great\" \n",
            "Words: 4\n",
            "\n",
            "\n",
            "Topic: 0.052*\"chang\" + 0.052*\"robinson\" + 0.052*\"think\" + 0.052*\"experi\" + 0.052*\"glorious\" + 0.052*\"climat\" + 0.052*\"stanley\" + 0.052*\"york\" + 0.052*\"cage\" + 0.052*\"make\" \n",
            "Words: 5\n",
            "\n",
            "\n",
            "Topic: 0.070*\"world\" + 0.037*\"guid\" + 0.037*\"atlas\" + 0.037*\"think\" + 0.037*\"beat\" + 0.037*\"travel\" + 0.037*\"data\" + 0.037*\"govern\" + 0.037*\"cultur\" + 0.037*\"obscura\" \n",
            "Words: 6\n",
            "\n",
            "\n",
            "Topic: 0.091*\"book\" + 0.091*\"page\" + 0.091*\"fiction\" + 0.091*\"scienc\" + 0.091*\"histori\" + 0.008*\"data\" + 0.008*\"captur\" + 0.008*\"look\" + 0.008*\"beauti\" + 0.008*\"blog\" \n",
            "Words: 7\n",
            "\n",
            "\n",
            "Topic: 0.078*\"malka\" + 0.078*\"infomocraci\" + 0.078*\"thriller\" + 0.078*\"season\" + 0.078*\"essenti\" + 0.078*\"elect\" + 0.078*\"older\" + 0.007*\"book\" + 0.007*\"chang\" + 0.007*\"look\" \n",
            "Words: 8\n",
            "\n",
            "\n",
            "Topic: 0.064*\"book\" + 0.064*\"futur\" + 0.064*\"form\" + 0.064*\"data\" + 0.064*\"gibson\" + 0.064*\"peripher\" + 0.064*\"william\" + 0.064*\"okcupid\" + 0.064*\"blog\" + 0.064*\"look\" \n",
            "Words: 9\n",
            "\n",
            "\n"
          ]
        }
      ]
    },
    {
      "cell_type": "markdown",
      "source": [
        "Running LDA using TF IDF"
      ],
      "metadata": {
        "id": "GSpuWSLHmt6M"
      }
    },
    {
      "cell_type": "code",
      "source": [
        "lda_model_tfidf_BookReviews = gensim.models.LdaMulticore(corpus_tfidf_BookReviews, \n",
        "                                       num_topics=10, \n",
        "                                       id2word = dictionary_BookReviews, \n",
        "                                       passes = 2, \n",
        "                                       workers=2)\n",
        "\n",
        "for idx, topic in lda_model_tfidf_BookReviews.print_topics(-1):\n",
        "    print(\"Topic: {} \\nWords: {}\".format(topic, idx ))\n",
        "    print(\"\\n\")"
      ],
      "metadata": {
        "colab": {
          "base_uri": "https://localhost:8080/"
        },
        "id": "zeM6S9eCmth0",
        "outputId": "13de45f6-b765-4df1-9b66-87ec96eb3da2"
      },
      "execution_count": null,
      "outputs": [
        {
          "output_type": "stream",
          "name": "stdout",
          "text": [
            "Topic: 0.046*\"path\" + 0.046*\"obscura\" + 0.046*\"entir\" + 0.046*\"guid\" + 0.046*\"travel\" + 0.046*\"atlas\" + 0.046*\"beat\" + 0.036*\"world\" + 0.026*\"book\" + 0.010*\"data\" \n",
            "Words: 0\n",
            "\n",
            "\n",
            "Topic: 0.046*\"soul\" + 0.046*\"crichton\" + 0.046*\"michael\" + 0.046*\"dinosaur\" + 0.046*\"lack\" + 0.046*\"bone\" + 0.046*\"gunsling\" + 0.046*\"novel\" + 0.010*\"book\" + 0.010*\"okcupid\" \n",
            "Words: 1\n",
            "\n",
            "\n",
            "Topic: 0.014*\"book\" + 0.014*\"blog\" + 0.014*\"data\" + 0.014*\"fiction\" + 0.014*\"page\" + 0.014*\"futur\" + 0.014*\"william\" + 0.014*\"okcupid\" + 0.014*\"stupid\" + 0.014*\"world\" \n",
            "Words: 2\n",
            "\n",
            "\n",
            "Topic: 0.014*\"book\" + 0.014*\"data\" + 0.014*\"comic\" + 0.014*\"futur\" + 0.014*\"peripher\" + 0.014*\"page\" + 0.014*\"okcupid\" + 0.014*\"scienc\" + 0.014*\"movi\" + 0.014*\"fiction\" \n",
            "Words: 3\n",
            "\n",
            "\n",
            "Topic: 0.044*\"thousand\" + 0.044*\"cultur\" + 0.044*\"spirit\" + 0.044*\"captur\" + 0.044*\"comic\" + 0.042*\"mar\" + 0.042*\"cost\" + 0.042*\"wander\" + 0.042*\"mission\" + 0.042*\"human\" \n",
            "Words: 4\n",
            "\n",
            "\n",
            "Topic: 0.014*\"book\" + 0.014*\"okcupid\" + 0.014*\"data\" + 0.014*\"scienc\" + 0.014*\"look\" + 0.014*\"blog\" + 0.014*\"comic\" + 0.014*\"beat\" + 0.014*\"william\" + 0.014*\"world\" \n",
            "Words: 5\n",
            "\n",
            "\n",
            "Topic: 0.057*\"chang\" + 0.046*\"agent\" + 0.046*\"terribl\" + 0.046*\"great\" + 0.046*\"movi\" + 0.039*\"glorious\" + 0.039*\"stanley\" + 0.039*\"york\" + 0.039*\"experi\" + 0.039*\"robinson\" \n",
            "Words: 6\n",
            "\n",
            "\n",
            "Topic: 0.067*\"form\" + 0.067*\"blog\" + 0.067*\"okcupid\" + 0.051*\"data\" + 0.036*\"book\" + 0.011*\"page\" + 0.011*\"comic\" + 0.011*\"futur\" + 0.011*\"think\" + 0.011*\"look\" \n",
            "Words: 7\n",
            "\n",
            "\n",
            "Topic: 0.034*\"histori\" + 0.034*\"scienc\" + 0.034*\"fiction\" + 0.034*\"page\" + 0.030*\"glass\" + 0.030*\"review\" + 0.030*\"cage\" + 0.030*\"make\" + 0.030*\"autom\" + 0.030*\"stupid\" \n",
            "Words: 8\n",
            "\n",
            "\n",
            "Topic: 0.061*\"gibson\" + 0.061*\"peripher\" + 0.061*\"william\" + 0.061*\"look\" + 0.047*\"futur\" + 0.011*\"book\" + 0.011*\"data\" + 0.011*\"comic\" + 0.011*\"blog\" + 0.011*\"page\" \n",
            "Words: 9\n",
            "\n",
            "\n"
          ]
        }
      ]
    },
    {
      "cell_type": "code",
      "source": [
        "lda_model_tfidf_BookReviews.save('/content/drive/MyDrive/ML-Spring-2022/TheTrio/Harika/NLP-Assignments/Assignment-10-AlternusVera_Part1&2/LDA_TFID_bookreview.sav')\n",
        "lda_model_BookReviews.save('/content/drive/MyDrive/ML-Spring-2022/TheTrio/Harika/NLP-Assignments/Assignment-10-AlternusVera_Part1&2/lda_model_bookreview.sav')"
      ],
      "metadata": {
        "id": "u-XdM8Fym718"
      },
      "execution_count": null,
      "outputs": []
    },
    {
      "cell_type": "code",
      "source": [
        "\n",
        "unseen_document = \"At 100, the ‘Just William’ Books Are an Icon of British Childhood\"\n",
        "\n",
        "# Data preprocessing step for the unseen document\n",
        "bow_vector = dictionary_BookReviews.doc2bow(preprocess(unseen_document))\n",
        "\n",
        "for index, score in sorted(lda_model_BookReviews[bow_vector], key=lambda tup: -1*tup[1]): \n",
        "    print(\"Score: {}\\t Topic: {}\".format(score, lda_model_BookReviews.print_topic(index, 5)))"
      ],
      "metadata": {
        "colab": {
          "base_uri": "https://localhost:8080/"
        },
        "id": "iD2axZpIowIq",
        "outputId": "c3539fec-a5da-48a5-8374-7917a74941ff"
      },
      "execution_count": null,
      "outputs": [
        {
          "output_type": "stream",
          "name": "stdout",
          "text": [
            "Score: 0.6999821662902832\t Topic: 0.064*\"book\" + 0.064*\"futur\" + 0.064*\"form\" + 0.064*\"data\" + 0.064*\"gibson\"\n",
            "Score: 0.03334229812026024\t Topic: 0.091*\"book\" + 0.091*\"page\" + 0.091*\"fiction\" + 0.091*\"scienc\" + 0.091*\"histori\"\n",
            "Score: 0.03333878517150879\t Topic: 0.058*\"book\" + 0.058*\"mar\" + 0.058*\"terribl\" + 0.058*\"cost\" + 0.058*\"wander\"\n",
            "Score: 0.033336758613586426\t Topic: 0.070*\"world\" + 0.037*\"guid\" + 0.037*\"atlas\" + 0.037*\"think\" + 0.037*\"beat\"\n",
            "Score: 0.03333333507180214\t Topic: 0.014*\"book\" + 0.014*\"data\" + 0.014*\"comic\" + 0.014*\"chang\" + 0.014*\"look\"\n",
            "Score: 0.03333333507180214\t Topic: 0.014*\"book\" + 0.014*\"chang\" + 0.014*\"futur\" + 0.014*\"blog\" + 0.014*\"captur\"\n",
            "Score: 0.03333333507180214\t Topic: 0.073*\"novel\" + 0.073*\"lack\" + 0.073*\"dinosaur\" + 0.073*\"gunsling\" + 0.073*\"bone\"\n",
            "Score: 0.03333333507180214\t Topic: 0.014*\"book\" + 0.014*\"futur\" + 0.014*\"data\" + 0.014*\"look\" + 0.014*\"world\"\n",
            "Score: 0.03333333507180214\t Topic: 0.052*\"chang\" + 0.052*\"robinson\" + 0.052*\"think\" + 0.052*\"experi\" + 0.052*\"glorious\"\n",
            "Score: 0.03333333507180214\t Topic: 0.078*\"malka\" + 0.078*\"infomocraci\" + 0.078*\"thriller\" + 0.078*\"season\" + 0.078*\"essenti\"\n"
          ]
        }
      ]
    },
    {
      "cell_type": "markdown",
      "source": [
        "##Reprts"
      ],
      "metadata": {
        "id": "RYEnUs8MpM1Y"
      }
    },
    {
      "cell_type": "code",
      "source": [
        "\n",
        "data_Reports = data_Reports[:300000][['title']]\n",
        "data_Reports['index'] = data_Reports.index\n",
        "documents_Reports = data_Reports"
      ],
      "metadata": {
        "id": "is1VVnPDpVpT"
      },
      "execution_count": null,
      "outputs": []
    },
    {
      "cell_type": "code",
      "source": [
        "documents_Reports['title'][683]"
      ],
      "metadata": {
        "colab": {
          "base_uri": "https://localhost:8080/",
          "height": 35
        },
        "id": "Ob6TWwFJqtRG",
        "outputId": "438e4456-bae4-4313-c574-831e259be90d"
      },
      "execution_count": null,
      "outputs": [
        {
          "output_type": "execute_result",
          "data": {
            "text/plain": [
              "\"Samsung's razor-thin Galaxy Tab S takes another run at the iPad\""
            ],
            "application/vnd.google.colaboratory.intrinsic+json": {
              "type": "string"
            }
          },
          "metadata": {},
          "execution_count": 57
        }
      ]
    },
    {
      "cell_type": "code",
      "source": [
        "document_num = 683\n",
        "doc_sample = documents_Reports[documents_Reports['index'] == document_num].values[0][0]\n",
        "\n",
        "print(\"Original document: \")\n",
        "words = []\n",
        "for word in doc_sample.split(' '):\n",
        "    words.append(word)\n",
        "print(words)\n",
        "print(\"\\n\\nTokenized and lemmatized document: \")\n",
        "print(preprocess(doc_sample))"
      ],
      "metadata": {
        "colab": {
          "base_uri": "https://localhost:8080/"
        },
        "id": "TwuSdCsWqnou",
        "outputId": "1643df6b-dc50-43ad-87c2-8ba7236a870e"
      },
      "execution_count": null,
      "outputs": [
        {
          "output_type": "stream",
          "name": "stdout",
          "text": [
            "Original document: \n",
            "[\"Samsung's\", 'razor-thin', 'Galaxy', 'Tab', 'S', 'takes', 'another', 'run', 'at', 'the', 'iPad']\n",
            "\n",
            "\n",
            "Tokenized and lemmatized document: \n",
            "['samsung', 'razor', 'galaxi', 'take', 'ipad']\n"
          ]
        }
      ]
    },
    {
      "cell_type": "code",
      "source": [
        "path = '/content/drive/MyDrive/ML-Spring-2022/TheTrio/Harika/NLP-Assignments/Assignment-10-AlternusVera_Part1&2/dataset/reprtsData.csv'\n",
        "\n",
        "with open(path, 'w', encoding = 'utf-8-sig') as f:\n",
        "  documents_Reports.to_csv(f)"
      ],
      "metadata": {
        "id": "CYY-z786q3Aw"
      },
      "execution_count": null,
      "outputs": []
    },
    {
      "cell_type": "code",
      "source": [
        "processed_docs_Reports = documents_Reports['title'].map(preprocess)\n",
        "processed_docs_Reports.head()"
      ],
      "metadata": {
        "colab": {
          "base_uri": "https://localhost:8080/"
        },
        "id": "VJQOynJEq_jg",
        "outputId": "6e39c013-e000-4f46-c0c8-cd3411913c38"
      },
      "execution_count": null,
      "outputs": [
        {
          "output_type": "execute_result",
          "data": {
            "text/plain": [
              "693                                  [miss, world, goal]\n",
              "335               [volvo, thanksgiv, road, test, sweden]\n",
              "140    [fed, look, experiment, light, field, camera, ...\n",
              "466    [like, googl, glass, car, tri, mini, augment, ...\n",
              "372    [lean, muscl, drive, lighter, better, chevi, c...\n",
              "Name: title, dtype: object"
            ]
          },
          "metadata": {},
          "execution_count": 60
        }
      ]
    },
    {
      "cell_type": "code",
      "source": [
        "dictionary_Reports = gensim.corpora.Dictionary(processed_docs_Reports)\n",
        "count = 0\n",
        "for k, v in dictionary_Reports.iteritems():\n",
        "    print(k, v)\n",
        "    count += 1\n",
        "    if count > 5:\n",
        "        break"
      ],
      "metadata": {
        "colab": {
          "base_uri": "https://localhost:8080/"
        },
        "id": "Dgdpoi_9XEjb",
        "outputId": "d6e447e7-5ec5-4ed9-d604-3cd3b721b34a"
      },
      "execution_count": null,
      "outputs": [
        {
          "output_type": "stream",
          "name": "stdout",
          "text": [
            "0 goal\n",
            "1 miss\n",
            "2 world\n",
            "3 road\n",
            "4 sweden\n",
            "5 test\n"
          ]
        }
      ]
    },
    {
      "cell_type": "markdown",
      "source": [
        "Gensim doc2bow"
      ],
      "metadata": {
        "id": "kzI6F5FotXwe"
      }
    },
    {
      "cell_type": "code",
      "source": [
        "bow_corpus_Reports = [dictionary_Reports.doc2bow(doc) for doc in processed_docs_Reports]"
      ],
      "metadata": {
        "id": "fDEpA8kstT0G"
      },
      "execution_count": null,
      "outputs": []
    },
    {
      "cell_type": "markdown",
      "source": [
        "TF IDF"
      ],
      "metadata": {
        "id": "rnADgqMbtdsv"
      }
    },
    {
      "cell_type": "code",
      "source": [
        "tfidf = models.TfidfModel(bow_corpus_Reports)\n",
        "corpus_tfidf_Reports = tfidf[bow_corpus_Reports]\n",
        "from pprint import pprint\n",
        "for doc in corpus_tfidf_BookReviews:\n",
        "    pprint(doc)\n",
        "    break"
      ],
      "metadata": {
        "colab": {
          "base_uri": "https://localhost:8080/"
        },
        "id": "3NJMSHaNte4L",
        "outputId": "9804e5e8-77bf-4dfd-d6e8-3ccfb368bf71"
      },
      "execution_count": null,
      "outputs": [
        {
          "output_type": "stream",
          "name": "stdout",
          "text": [
            "[(0, 0.37796447300922725),\n",
            " (1, 0.37796447300922725),\n",
            " (2, 0.37796447300922725),\n",
            " (3, 0.37796447300922725),\n",
            " (4, 0.37796447300922725),\n",
            " (5, 0.37796447300922725),\n",
            " (6, 0.37796447300922725)]\n"
          ]
        }
      ]
    },
    {
      "cell_type": "markdown",
      "source": [
        "Running LDA using bag of words"
      ],
      "metadata": {
        "id": "9pTMUXEttrJu"
      }
    },
    {
      "cell_type": "code",
      "source": [
        "lda_model_Reports = gensim.models.LdaMulticore(bow_corpus_Reports, \n",
        "                                       num_topics=10, \n",
        "                                       id2word = dictionary_Reports, \n",
        "                                       passes = 2, \n",
        "                                       workers=2)\n",
        "\n",
        "for idx, topic in lda_model_Reports.print_topics(-1):\n",
        "    print(\"Topic: {} \\nWords: {}\".format(topic, idx ))\n",
        "    print(\"\\n\")"
      ],
      "metadata": {
        "colab": {
          "base_uri": "https://localhost:8080/"
        },
        "id": "p-uoPFWItoHG",
        "outputId": "38a04c60-4f7a-4081-ddaa-0a43ed38314d"
      },
      "execution_count": null,
      "outputs": [
        {
          "output_type": "stream",
          "name": "stdout",
          "text": [
            "Topic: 0.010*\"futur\" + 0.008*\"realiti\" + 0.008*\"anim\" + 0.008*\"googl\" + 0.008*\"virtual\" + 0.005*\"camera\" + 0.005*\"amazon\" + 0.005*\"drone\" + 0.005*\"scientist\" + 0.005*\"film\" \n",
            "Words: 0\n",
            "\n",
            "\n",
            "Topic: 0.014*\"facebook\" + 0.011*\"look\" + 0.010*\"like\" + 0.010*\"world\" + 0.009*\"twitter\" + 0.008*\"kill\" + 0.007*\"mobil\" + 0.007*\"app\" + 0.007*\"game\" + 0.006*\"secur\" \n",
            "Words: 1\n",
            "\n",
            "\n",
            "Topic: 0.008*\"googl\" + 0.008*\"internet\" + 0.008*\"game\" + 0.006*\"high\" + 0.006*\"help\" + 0.006*\"human\" + 0.006*\"know\" + 0.006*\"instagram\" + 0.006*\"insid\" + 0.004*\"want\" \n",
            "Words: 2\n",
            "\n",
            "\n",
            "Topic: 0.012*\"year\" + 0.011*\"microsoft\" + 0.011*\"reveal\" + 0.009*\"love\" + 0.008*\"scientist\" + 0.007*\"go\" + 0.007*\"build\" + 0.007*\"game\" + 0.006*\"ipad\" + 0.005*\"internet\" \n",
            "Words: 3\n",
            "\n",
            "\n",
            "Topic: 0.010*\"tech\" + 0.007*\"app\" + 0.007*\"microsoft\" + 0.007*\"compani\" + 0.007*\"game\" + 0.007*\"chang\" + 0.007*\"googl\" + 0.007*\"climat\" + 0.007*\"wait\" + 0.007*\"week\" \n",
            "Words: 4\n",
            "\n",
            "\n",
            "Topic: 0.011*\"game\" + 0.009*\"build\" + 0.009*\"window\" + 0.009*\"meet\" + 0.008*\"turn\" + 0.007*\"futur\" + 0.006*\"ipad\" + 0.004*\"drug\" + 0.004*\"bitcoin\" + 0.004*\"take\" \n",
            "Words: 5\n",
            "\n",
            "\n",
            "Topic: 0.010*\"life\" + 0.010*\"phone\" + 0.008*\"come\" + 0.008*\"game\" + 0.008*\"million\" + 0.006*\"look\" + 0.006*\"internet\" + 0.006*\"news\" + 0.006*\"talk\" + 0.006*\"save\" \n",
            "Words: 6\n",
            "\n",
            "\n",
            "Topic: 0.021*\"game\" + 0.010*\"mar\" + 0.009*\"want\" + 0.008*\"plan\" + 0.006*\"best\" + 0.006*\"billion\" + 0.006*\"microsoft\" + 0.006*\"drive\" + 0.006*\"self\" + 0.006*\"build\" \n",
            "Words: 7\n",
            "\n",
            "\n",
            "Topic: 0.029*\"appl\" + 0.013*\"googl\" + 0.010*\"want\" + 0.010*\"world\" + 0.009*\"robot\" + 0.008*\"watch\" + 0.006*\"realiti\" + 0.006*\"drive\" + 0.006*\"twitter\" + 0.006*\"test\" \n",
            "Words: 8\n",
            "\n",
            "\n",
            "Topic: 0.012*\"futur\" + 0.010*\"problem\" + 0.010*\"stream\" + 0.005*\"android\" + 0.005*\"time\" + 0.005*\"world\" + 0.005*\"compani\" + 0.005*\"home\" + 0.005*\"twitter\" + 0.005*\"mobil\" \n",
            "Words: 9\n",
            "\n",
            "\n"
          ]
        }
      ]
    },
    {
      "cell_type": "markdown",
      "source": [
        "Running LDA using TF IDF"
      ],
      "metadata": {
        "id": "MRLd-wict3Cv"
      }
    },
    {
      "cell_type": "code",
      "source": [
        "lda_model_tfidf_Reports = gensim.models.LdaMulticore(corpus_tfidf_Reports, \n",
        "                                       num_topics=10, \n",
        "                                       id2word = dictionary_Reports, \n",
        "                                       passes = 2, \n",
        "                                       workers=2)\n",
        "\n",
        "for idx, topic in lda_model_tfidf_Reports.print_topics(-1):\n",
        "    print(\"Topic: {} \\nWords: {}\".format(topic, idx ))\n",
        "    print(\"\\n\")"
      ],
      "metadata": {
        "colab": {
          "base_uri": "https://localhost:8080/"
        },
        "id": "_jYfqCE9tzrS",
        "outputId": "8367a5ae-2923-4b94-c942-16bbec52a635"
      },
      "execution_count": null,
      "outputs": [
        {
          "output_type": "stream",
          "name": "stdout",
          "text": [
            "Topic: 0.006*\"million\" + 0.005*\"game\" + 0.005*\"build\" + 0.005*\"kill\" + 0.005*\"life\" + 0.005*\"android\" + 0.005*\"give\" + 0.004*\"facebook\" + 0.004*\"leak\" + 0.004*\"year\" \n",
            "Words: 0\n",
            "\n",
            "\n",
            "Topic: 0.006*\"mar\" + 0.005*\"twitter\" + 0.004*\"latest\" + 0.004*\"electr\" + 0.004*\"microsoft\" + 0.004*\"test\" + 0.004*\"drive\" + 0.003*\"wait\" + 0.003*\"week\" + 0.003*\"readi\" \n",
            "Words: 1\n",
            "\n",
            "\n",
            "Topic: 0.007*\"samsung\" + 0.006*\"world\" + 0.004*\"phone\" + 0.004*\"great\" + 0.004*\"realiti\" + 0.004*\"mysteri\" + 0.003*\"ballmer\" + 0.003*\"ferguson\" + 0.003*\"polic\" + 0.003*\"surpris\" \n",
            "Words: 2\n",
            "\n",
            "\n",
            "Topic: 0.006*\"like\" + 0.005*\"game\" + 0.005*\"facebook\" + 0.004*\"best\" + 0.004*\"look\" + 0.004*\"internet\" + 0.004*\"amazon\" + 0.004*\"show\" + 0.003*\"launch\" + 0.003*\"microsoft\" \n",
            "Words: 3\n",
            "\n",
            "\n",
            "Topic: 0.004*\"neutral\" + 0.004*\"track\" + 0.004*\"opiat\" + 0.004*\"year\" + 0.004*\"state\" + 0.004*\"get\" + 0.004*\"mummi\" + 0.004*\"war\" + 0.003*\"life\" + 0.003*\"hyperloop\" \n",
            "Words: 4\n",
            "\n",
            "\n",
            "Topic: 0.005*\"friend\" + 0.005*\"save\" + 0.005*\"expens\" + 0.005*\"touch\" + 0.005*\"appl\" + 0.004*\"climat\" + 0.004*\"develop\" + 0.004*\"panic\" + 0.004*\"virtual\" + 0.004*\"realiti\" \n",
            "Words: 5\n",
            "\n",
            "\n",
            "Topic: 0.005*\"control\" + 0.005*\"scienc\" + 0.004*\"game\" + 0.004*\"googl\" + 0.004*\"batteri\" + 0.004*\"iphon\" + 0.004*\"explod\" + 0.004*\"make\" + 0.003*\"button\" + 0.003*\"beat\" \n",
            "Words: 6\n",
            "\n",
            "\n",
            "Topic: 0.007*\"futur\" + 0.006*\"real\" + 0.005*\"game\" + 0.005*\"problem\" + 0.004*\"googl\" + 0.004*\"team\" + 0.004*\"probabl\" + 0.004*\"busi\" + 0.004*\"ipad\" + 0.003*\"text\" \n",
            "Words: 7\n",
            "\n",
            "\n",
            "Topic: 0.005*\"welcom\" + 0.005*\"time\" + 0.005*\"appl\" + 0.004*\"iphon\" + 0.004*\"support\" + 0.004*\"help\" + 0.004*\"touch\" + 0.004*\"lose\" + 0.003*\"camera\" + 0.003*\"languag\" \n",
            "Words: 8\n",
            "\n",
            "\n",
            "Topic: 0.008*\"googl\" + 0.004*\"netflix\" + 0.004*\"scientist\" + 0.004*\"mobil\" + 0.004*\"best\" + 0.004*\"want\" + 0.004*\"power\" + 0.004*\"go\" + 0.004*\"compani\" + 0.004*\"hollywood\" \n",
            "Words: 9\n",
            "\n",
            "\n"
          ]
        }
      ]
    },
    {
      "cell_type": "code",
      "source": [
        "lda_model_tfidf_Reports.save('/content/drive/MyDrive/ML-Spring-2022/TheTrio/Harika/NLP-Assignments/Assignment-10-AlternusVera_Part1&2/LDA_TFID_reports.sav')\n",
        "lda_model_Reports.save('/content/drive/MyDrive/ML-Spring-2022/TheTrio/Harika/NLP-Assignments/Assignment-10-AlternusVera_Part1&2/lda_model_reports.sav')"
      ],
      "metadata": {
        "id": "UMyw3g2ut_nO"
      },
      "execution_count": null,
      "outputs": []
    },
    {
      "cell_type": "code",
      "source": [
        "unseen_document = \"Romance Between Business and the Republican Party Hits the Rocks\"\n",
        "\n",
        "# Data preprocessing step for the unseen document\n",
        "bow_vector = dictionary_Reports.doc2bow(preprocess(unseen_document))\n",
        "\n",
        "for index, score in sorted(lda_model_Reports[bow_vector], key=lambda tup: -1*tup[1]): \n",
        "    print(\"Score: {}\\t Topic: {}\".format(score, lda_model_Reports.print_topic(index, 5)))"
      ],
      "metadata": {
        "colab": {
          "base_uri": "https://localhost:8080/"
        },
        "id": "t3qqukN7uMbG",
        "outputId": "ad2a1621-6bc1-4b05-9460-11ef67eddb3a"
      },
      "execution_count": null,
      "outputs": [
        {
          "output_type": "stream",
          "name": "stdout",
          "text": [
            "Score: 0.3847419321537018\t Topic: 0.008*\"googl\" + 0.008*\"internet\" + 0.008*\"game\" + 0.006*\"high\" + 0.006*\"help\"\n",
            "Score: 0.2552696168422699\t Topic: 0.012*\"year\" + 0.011*\"microsoft\" + 0.011*\"reveal\" + 0.009*\"love\" + 0.008*\"scientist\"\n",
            "Score: 0.21997831761837006\t Topic: 0.010*\"life\" + 0.010*\"phone\" + 0.008*\"come\" + 0.008*\"game\" + 0.008*\"million\"\n",
            "Score: 0.02000642754137516\t Topic: 0.029*\"appl\" + 0.013*\"googl\" + 0.010*\"want\" + 0.010*\"world\" + 0.009*\"robot\"\n",
            "Score: 0.020001830533146858\t Topic: 0.010*\"futur\" + 0.008*\"realiti\" + 0.008*\"anim\" + 0.008*\"googl\" + 0.008*\"virtual\"\n",
            "Score: 0.020001830533146858\t Topic: 0.011*\"game\" + 0.009*\"build\" + 0.009*\"window\" + 0.009*\"meet\" + 0.008*\"turn\"\n",
            "Score: 0.019999999552965164\t Topic: 0.014*\"facebook\" + 0.011*\"look\" + 0.010*\"like\" + 0.010*\"world\" + 0.009*\"twitter\"\n",
            "Score: 0.019999999552965164\t Topic: 0.010*\"tech\" + 0.007*\"app\" + 0.007*\"microsoft\" + 0.007*\"compani\" + 0.007*\"game\"\n",
            "Score: 0.019999999552965164\t Topic: 0.021*\"game\" + 0.010*\"mar\" + 0.009*\"want\" + 0.008*\"plan\" + 0.006*\"best\"\n",
            "Score: 0.019999999552965164\t Topic: 0.012*\"futur\" + 0.010*\"problem\" + 0.010*\"stream\" + 0.005*\"android\" + 0.005*\"time\"\n"
          ]
        }
      ]
    },
    {
      "cell_type": "markdown",
      "source": [
        "##Test MicroFactor Models"
      ],
      "metadata": {
        "id": "XezK27EF3gkm"
      }
    },
    {
      "cell_type": "code",
      "source": [
        "factors = ['business', 'Reports', 'Book Reviews', 'broadcast']\n",
        "test = test[test.category.isin(factors)]"
      ],
      "metadata": {
        "id": "E7-Orf5S3ayF"
      },
      "execution_count": null,
      "outputs": []
    },
    {
      "cell_type": "code",
      "source": [
        "test['category'].unique()"
      ],
      "metadata": {
        "colab": {
          "base_uri": "https://localhost:8080/"
        },
        "id": "xPn1Yxyt5C68",
        "outputId": "2b34acf2-2712-4865-f03a-c862ee929060"
      },
      "execution_count": null,
      "outputs": [
        {
          "output_type": "execute_result",
          "data": {
            "text/plain": [
              "array(['Reports', 'Book Reviews', 'broadcast', 'business'], dtype=object)"
            ]
          },
          "metadata": {},
          "execution_count": 69
        }
      ]
    },
    {
      "cell_type": "code",
      "source": [
        "del test['author']\n",
        "del test['content']\n",
        "del test['year']\n",
        "del test['month']\n",
        "del test['digital']\n",
        "del test['section']\n",
        "del test['url']"
      ],
      "metadata": {
        "id": "Cai13qYf6Bo4"
      },
      "execution_count": null,
      "outputs": []
    },
    {
      "cell_type": "code",
      "source": [
        "del test['date']"
      ],
      "metadata": {
        "id": "8ARcGpwABtVL"
      },
      "execution_count": null,
      "outputs": []
    },
    {
      "cell_type": "code",
      "source": [
        "test.head(5)"
      ],
      "metadata": {
        "colab": {
          "base_uri": "https://localhost:8080/",
          "height": 206
        },
        "id": "s4HqenkB_Lb5",
        "outputId": "e07c0301-caf3-43da-b0c2-99096ae018e3"
      },
      "execution_count": null,
      "outputs": [
        {
          "output_type": "execute_result",
          "data": {
            "text/plain": [
              "       id                                              title publication  \\\n",
              "137  6426  Breaking down Apple’s new augmented reality pl...       Verge   \n",
              "143  6432        Could the US stop a nuclear missile attack?       Verge   \n",
              "147  6436  Hyperloop One wants to help your self-driving ...       Verge   \n",
              "148  6437  What’s standing between Donald Trump and nucle...       Verge   \n",
              "150  6439  Giving robots ‘personhood’ is actually about m...       Verge   \n",
              "\n",
              "    category  \n",
              "137  Reports  \n",
              "143  Reports  \n",
              "147  Reports  \n",
              "148  Reports  \n",
              "150  Reports  "
            ],
            "text/html": [
              "\n",
              "  <div id=\"df-caf62b25-4bc5-40a4-aaa2-c6bdd9b7cf3b\">\n",
              "    <div class=\"colab-df-container\">\n",
              "      <div>\n",
              "<style scoped>\n",
              "    .dataframe tbody tr th:only-of-type {\n",
              "        vertical-align: middle;\n",
              "    }\n",
              "\n",
              "    .dataframe tbody tr th {\n",
              "        vertical-align: top;\n",
              "    }\n",
              "\n",
              "    .dataframe thead th {\n",
              "        text-align: right;\n",
              "    }\n",
              "</style>\n",
              "<table border=\"1\" class=\"dataframe\">\n",
              "  <thead>\n",
              "    <tr style=\"text-align: right;\">\n",
              "      <th></th>\n",
              "      <th>id</th>\n",
              "      <th>title</th>\n",
              "      <th>publication</th>\n",
              "      <th>category</th>\n",
              "    </tr>\n",
              "  </thead>\n",
              "  <tbody>\n",
              "    <tr>\n",
              "      <th>137</th>\n",
              "      <td>6426</td>\n",
              "      <td>Breaking down Apple’s new augmented reality pl...</td>\n",
              "      <td>Verge</td>\n",
              "      <td>Reports</td>\n",
              "    </tr>\n",
              "    <tr>\n",
              "      <th>143</th>\n",
              "      <td>6432</td>\n",
              "      <td>Could the US stop a nuclear missile attack?</td>\n",
              "      <td>Verge</td>\n",
              "      <td>Reports</td>\n",
              "    </tr>\n",
              "    <tr>\n",
              "      <th>147</th>\n",
              "      <td>6436</td>\n",
              "      <td>Hyperloop One wants to help your self-driving ...</td>\n",
              "      <td>Verge</td>\n",
              "      <td>Reports</td>\n",
              "    </tr>\n",
              "    <tr>\n",
              "      <th>148</th>\n",
              "      <td>6437</td>\n",
              "      <td>What’s standing between Donald Trump and nucle...</td>\n",
              "      <td>Verge</td>\n",
              "      <td>Reports</td>\n",
              "    </tr>\n",
              "    <tr>\n",
              "      <th>150</th>\n",
              "      <td>6439</td>\n",
              "      <td>Giving robots ‘personhood’ is actually about m...</td>\n",
              "      <td>Verge</td>\n",
              "      <td>Reports</td>\n",
              "    </tr>\n",
              "  </tbody>\n",
              "</table>\n",
              "</div>\n",
              "      <button class=\"colab-df-convert\" onclick=\"convertToInteractive('df-caf62b25-4bc5-40a4-aaa2-c6bdd9b7cf3b')\"\n",
              "              title=\"Convert this dataframe to an interactive table.\"\n",
              "              style=\"display:none;\">\n",
              "        \n",
              "  <svg xmlns=\"http://www.w3.org/2000/svg\" height=\"24px\"viewBox=\"0 0 24 24\"\n",
              "       width=\"24px\">\n",
              "    <path d=\"M0 0h24v24H0V0z\" fill=\"none\"/>\n",
              "    <path d=\"M18.56 5.44l.94 2.06.94-2.06 2.06-.94-2.06-.94-.94-2.06-.94 2.06-2.06.94zm-11 1L8.5 8.5l.94-2.06 2.06-.94-2.06-.94L8.5 2.5l-.94 2.06-2.06.94zm10 10l.94 2.06.94-2.06 2.06-.94-2.06-.94-.94-2.06-.94 2.06-2.06.94z\"/><path d=\"M17.41 7.96l-1.37-1.37c-.4-.4-.92-.59-1.43-.59-.52 0-1.04.2-1.43.59L10.3 9.45l-7.72 7.72c-.78.78-.78 2.05 0 2.83L4 21.41c.39.39.9.59 1.41.59.51 0 1.02-.2 1.41-.59l7.78-7.78 2.81-2.81c.8-.78.8-2.07 0-2.86zM5.41 20L4 18.59l7.72-7.72 1.47 1.35L5.41 20z\"/>\n",
              "  </svg>\n",
              "      </button>\n",
              "      \n",
              "  <style>\n",
              "    .colab-df-container {\n",
              "      display:flex;\n",
              "      flex-wrap:wrap;\n",
              "      gap: 12px;\n",
              "    }\n",
              "\n",
              "    .colab-df-convert {\n",
              "      background-color: #E8F0FE;\n",
              "      border: none;\n",
              "      border-radius: 50%;\n",
              "      cursor: pointer;\n",
              "      display: none;\n",
              "      fill: #1967D2;\n",
              "      height: 32px;\n",
              "      padding: 0 0 0 0;\n",
              "      width: 32px;\n",
              "    }\n",
              "\n",
              "    .colab-df-convert:hover {\n",
              "      background-color: #E2EBFA;\n",
              "      box-shadow: 0px 1px 2px rgba(60, 64, 67, 0.3), 0px 1px 3px 1px rgba(60, 64, 67, 0.15);\n",
              "      fill: #174EA6;\n",
              "    }\n",
              "\n",
              "    [theme=dark] .colab-df-convert {\n",
              "      background-color: #3B4455;\n",
              "      fill: #D2E3FC;\n",
              "    }\n",
              "\n",
              "    [theme=dark] .colab-df-convert:hover {\n",
              "      background-color: #434B5C;\n",
              "      box-shadow: 0px 1px 3px 1px rgba(0, 0, 0, 0.15);\n",
              "      filter: drop-shadow(0px 1px 2px rgba(0, 0, 0, 0.3));\n",
              "      fill: #FFFFFF;\n",
              "    }\n",
              "  </style>\n",
              "\n",
              "      <script>\n",
              "        const buttonEl =\n",
              "          document.querySelector('#df-caf62b25-4bc5-40a4-aaa2-c6bdd9b7cf3b button.colab-df-convert');\n",
              "        buttonEl.style.display =\n",
              "          google.colab.kernel.accessAllowed ? 'block' : 'none';\n",
              "\n",
              "        async function convertToInteractive(key) {\n",
              "          const element = document.querySelector('#df-caf62b25-4bc5-40a4-aaa2-c6bdd9b7cf3b');\n",
              "          const dataTable =\n",
              "            await google.colab.kernel.invokeFunction('convertToInteractive',\n",
              "                                                     [key], {});\n",
              "          if (!dataTable) return;\n",
              "\n",
              "          const docLinkHtml = 'Like what you see? Visit the ' +\n",
              "            '<a target=\"_blank\" href=https://colab.research.google.com/notebooks/data_table.ipynb>data table notebook</a>'\n",
              "            + ' to learn more about interactive tables.';\n",
              "          element.innerHTML = '';\n",
              "          dataTable['output_type'] = 'display_data';\n",
              "          await google.colab.output.renderOutput(dataTable, element);\n",
              "          const docLink = document.createElement('div');\n",
              "          docLink.innerHTML = docLinkHtml;\n",
              "          element.appendChild(docLink);\n",
              "        }\n",
              "      </script>\n",
              "    </div>\n",
              "  </div>\n",
              "  "
            ]
          },
          "metadata": {},
          "execution_count": 72
        }
      ]
    },
    {
      "cell_type": "code",
      "source": [
        "test['business_factor_score'] = 0\n",
        "# test['business_factor_topic'] = \"NAN\"\n",
        "# test['Reports_score'] = \"\"\n",
        "# test['broadcast_score'] = \"\"\n",
        "# test['BookReviews_score'] = \"\"\n",
        "factor_score = []"
      ],
      "metadata": {
        "id": "vA8JW-iA5qCL"
      },
      "execution_count": null,
      "outputs": []
    },
    {
      "cell_type": "code",
      "source": [
        "for index, row in test.iterrows():\n",
        "    title = row['title']\n",
        "    # print(title)\n",
        "    bow_vector = dictionary_business.doc2bow(preprocess(title))\n",
        "    for index, score in sorted(lda_model_business[bow_vector], key=lambda tup: -1*tup[1]): \n",
        "      row['business_factor_score'] = score\n",
        "      factor_score.append(score)\n",
        "      row['business_factor_topic'] = lda_model_business.print_topic(index, 5)\n",
        "      break;\n",
        "      "
      ],
      "metadata": {
        "id": "Btlpi9WG5FoN"
      },
      "execution_count": null,
      "outputs": []
    },
    {
      "cell_type": "code",
      "source": [
        "test['business_factor_score'] = factor_score"
      ],
      "metadata": {
        "id": "fx2G2_K8TPy2"
      },
      "execution_count": null,
      "outputs": []
    },
    {
      "cell_type": "code",
      "source": [
        "broadcast_score = []"
      ],
      "metadata": {
        "id": "GmQnwRwhTaT0"
      },
      "execution_count": null,
      "outputs": []
    },
    {
      "cell_type": "code",
      "source": [
        "for index, row in test.iterrows():\n",
        "    title = row['title']\n",
        "    bow_vector = dictionary_broadcast.doc2bow(preprocess(title))\n",
        "    for index, score in sorted(lda_model_broadcast[bow_vector], key=lambda tup: -1*tup[1]): \n",
        "      # row['broadcast_score'] = score\n",
        "      broadcast_score.append(score)\n",
        "      # print(row['broadcast_factor_score'])\n",
        "      break;"
      ],
      "metadata": {
        "id": "Tjbn62Ta59W_"
      },
      "execution_count": null,
      "outputs": []
    },
    {
      "cell_type": "code",
      "source": [
        "test['broadcast_score'] = 0"
      ],
      "metadata": {
        "id": "L_TGVt7zToB_"
      },
      "execution_count": null,
      "outputs": []
    },
    {
      "cell_type": "code",
      "source": [
        "test['broadcast_score'] = broadcast_score"
      ],
      "metadata": {
        "id": "DimICKtkThVe"
      },
      "execution_count": null,
      "outputs": []
    },
    {
      "cell_type": "code",
      "source": [
        "BookReviews_score=[]\n",
        "test['BookReviews_score'] = 0"
      ],
      "metadata": {
        "id": "Q8AuIzMZT9n1"
      },
      "execution_count": null,
      "outputs": []
    },
    {
      "cell_type": "code",
      "source": [
        "for index, row in test.iterrows():\n",
        "    title = row['title']\n",
        "    bow_vector = dictionary_BookReviews.doc2bow(preprocess(title))\n",
        "    for index, score in sorted(lda_model_BookReviews[bow_vector], key=lambda tup: -1*tup[1]): \n",
        "      # row['BookReviews_score'] = score\n",
        "      BookReviews_score.append(score)\n",
        "      break;"
      ],
      "metadata": {
        "id": "rRv5dHyG6cvt"
      },
      "execution_count": null,
      "outputs": []
    },
    {
      "cell_type": "code",
      "source": [
        "test['BookReviews_score'] = BookReviews_score"
      ],
      "metadata": {
        "id": "iOXxdCagURE0"
      },
      "execution_count": null,
      "outputs": []
    },
    {
      "cell_type": "code",
      "source": [
        "report_factor_score=[]\n",
        "test['report_factor_score'] = 0"
      ],
      "metadata": {
        "id": "MkPMh9-cV7Xs"
      },
      "execution_count": null,
      "outputs": []
    },
    {
      "cell_type": "code",
      "source": [
        "for index, row in test.iterrows():\n",
        "    title = row['title']\n",
        "    bow_vector = dictionary_Reports.doc2bow(preprocess(title))\n",
        "    for index, score in sorted(lda_model_Reports[bow_vector], key=lambda tup: -1*tup[1]): \n",
        "      # row['report_factor_score'] = score\n",
        "      # row['report_factor_topic'] = lda_model_Reports.print_topic(index, 5)\n",
        "      report_factor_score.append(score)\n",
        "      break;"
      ],
      "metadata": {
        "id": "OA0bPQnFV17l"
      },
      "execution_count": null,
      "outputs": []
    },
    {
      "cell_type": "code",
      "source": [
        "test['report_factor_score'] = report_factor_score"
      ],
      "metadata": {
        "id": "BOM1eAltWFiq"
      },
      "execution_count": null,
      "outputs": []
    },
    {
      "cell_type": "code",
      "source": [
        "test['category'].unique()"
      ],
      "metadata": {
        "colab": {
          "base_uri": "https://localhost:8080/"
        },
        "id": "AFNHwhLZVV8s",
        "outputId": "061f459b-afac-45f4-fd61-3233fa559525"
      },
      "execution_count": null,
      "outputs": [
        {
          "output_type": "execute_result",
          "data": {
            "text/plain": [
              "array(['Reports', 'Book Reviews', 'broadcast', 'business'], dtype=object)"
            ]
          },
          "metadata": {},
          "execution_count": 86
        }
      ]
    },
    {
      "cell_type": "code",
      "source": [
        "test.head()"
      ],
      "metadata": {
        "colab": {
          "base_uri": "https://localhost:8080/",
          "height": 206
        },
        "id": "MxFiveJKNQGz",
        "outputId": "de68a5c8-1708-4ecb-aede-0885be9c1826"
      },
      "execution_count": null,
      "outputs": [
        {
          "output_type": "execute_result",
          "data": {
            "text/plain": [
              "       id                                              title publication  \\\n",
              "137  6426  Breaking down Apple’s new augmented reality pl...       Verge   \n",
              "143  6432        Could the US stop a nuclear missile attack?       Verge   \n",
              "147  6436  Hyperloop One wants to help your self-driving ...       Verge   \n",
              "148  6437  What’s standing between Donald Trump and nucle...       Verge   \n",
              "150  6439  Giving robots ‘personhood’ is actually about m...       Verge   \n",
              "\n",
              "    category  business_factor_score  broadcast_score  BookReviews_score  \\\n",
              "137  Reports               0.274567         0.600801               0.10   \n",
              "143  Reports               0.477333         0.626893               0.10   \n",
              "147  Reports               0.458418         0.390440               0.10   \n",
              "148  Reports               0.458191         0.527997               0.10   \n",
              "150  Reports               0.460901         0.374496               0.55   \n",
              "\n",
              "     report_factor_score  \n",
              "137             0.478131  \n",
              "143             0.406685  \n",
              "147             0.740001  \n",
              "148             0.274998  \n",
              "150             0.474098  "
            ],
            "text/html": [
              "\n",
              "  <div id=\"df-e02d09eb-8a0f-4199-b17d-d0f5854955ae\">\n",
              "    <div class=\"colab-df-container\">\n",
              "      <div>\n",
              "<style scoped>\n",
              "    .dataframe tbody tr th:only-of-type {\n",
              "        vertical-align: middle;\n",
              "    }\n",
              "\n",
              "    .dataframe tbody tr th {\n",
              "        vertical-align: top;\n",
              "    }\n",
              "\n",
              "    .dataframe thead th {\n",
              "        text-align: right;\n",
              "    }\n",
              "</style>\n",
              "<table border=\"1\" class=\"dataframe\">\n",
              "  <thead>\n",
              "    <tr style=\"text-align: right;\">\n",
              "      <th></th>\n",
              "      <th>id</th>\n",
              "      <th>title</th>\n",
              "      <th>publication</th>\n",
              "      <th>category</th>\n",
              "      <th>business_factor_score</th>\n",
              "      <th>broadcast_score</th>\n",
              "      <th>BookReviews_score</th>\n",
              "      <th>report_factor_score</th>\n",
              "    </tr>\n",
              "  </thead>\n",
              "  <tbody>\n",
              "    <tr>\n",
              "      <th>137</th>\n",
              "      <td>6426</td>\n",
              "      <td>Breaking down Apple’s new augmented reality pl...</td>\n",
              "      <td>Verge</td>\n",
              "      <td>Reports</td>\n",
              "      <td>0.274567</td>\n",
              "      <td>0.600801</td>\n",
              "      <td>0.10</td>\n",
              "      <td>0.478131</td>\n",
              "    </tr>\n",
              "    <tr>\n",
              "      <th>143</th>\n",
              "      <td>6432</td>\n",
              "      <td>Could the US stop a nuclear missile attack?</td>\n",
              "      <td>Verge</td>\n",
              "      <td>Reports</td>\n",
              "      <td>0.477333</td>\n",
              "      <td>0.626893</td>\n",
              "      <td>0.10</td>\n",
              "      <td>0.406685</td>\n",
              "    </tr>\n",
              "    <tr>\n",
              "      <th>147</th>\n",
              "      <td>6436</td>\n",
              "      <td>Hyperloop One wants to help your self-driving ...</td>\n",
              "      <td>Verge</td>\n",
              "      <td>Reports</td>\n",
              "      <td>0.458418</td>\n",
              "      <td>0.390440</td>\n",
              "      <td>0.10</td>\n",
              "      <td>0.740001</td>\n",
              "    </tr>\n",
              "    <tr>\n",
              "      <th>148</th>\n",
              "      <td>6437</td>\n",
              "      <td>What’s standing between Donald Trump and nucle...</td>\n",
              "      <td>Verge</td>\n",
              "      <td>Reports</td>\n",
              "      <td>0.458191</td>\n",
              "      <td>0.527997</td>\n",
              "      <td>0.10</td>\n",
              "      <td>0.274998</td>\n",
              "    </tr>\n",
              "    <tr>\n",
              "      <th>150</th>\n",
              "      <td>6439</td>\n",
              "      <td>Giving robots ‘personhood’ is actually about m...</td>\n",
              "      <td>Verge</td>\n",
              "      <td>Reports</td>\n",
              "      <td>0.460901</td>\n",
              "      <td>0.374496</td>\n",
              "      <td>0.55</td>\n",
              "      <td>0.474098</td>\n",
              "    </tr>\n",
              "  </tbody>\n",
              "</table>\n",
              "</div>\n",
              "      <button class=\"colab-df-convert\" onclick=\"convertToInteractive('df-e02d09eb-8a0f-4199-b17d-d0f5854955ae')\"\n",
              "              title=\"Convert this dataframe to an interactive table.\"\n",
              "              style=\"display:none;\">\n",
              "        \n",
              "  <svg xmlns=\"http://www.w3.org/2000/svg\" height=\"24px\"viewBox=\"0 0 24 24\"\n",
              "       width=\"24px\">\n",
              "    <path d=\"M0 0h24v24H0V0z\" fill=\"none\"/>\n",
              "    <path d=\"M18.56 5.44l.94 2.06.94-2.06 2.06-.94-2.06-.94-.94-2.06-.94 2.06-2.06.94zm-11 1L8.5 8.5l.94-2.06 2.06-.94-2.06-.94L8.5 2.5l-.94 2.06-2.06.94zm10 10l.94 2.06.94-2.06 2.06-.94-2.06-.94-.94-2.06-.94 2.06-2.06.94z\"/><path d=\"M17.41 7.96l-1.37-1.37c-.4-.4-.92-.59-1.43-.59-.52 0-1.04.2-1.43.59L10.3 9.45l-7.72 7.72c-.78.78-.78 2.05 0 2.83L4 21.41c.39.39.9.59 1.41.59.51 0 1.02-.2 1.41-.59l7.78-7.78 2.81-2.81c.8-.78.8-2.07 0-2.86zM5.41 20L4 18.59l7.72-7.72 1.47 1.35L5.41 20z\"/>\n",
              "  </svg>\n",
              "      </button>\n",
              "      \n",
              "  <style>\n",
              "    .colab-df-container {\n",
              "      display:flex;\n",
              "      flex-wrap:wrap;\n",
              "      gap: 12px;\n",
              "    }\n",
              "\n",
              "    .colab-df-convert {\n",
              "      background-color: #E8F0FE;\n",
              "      border: none;\n",
              "      border-radius: 50%;\n",
              "      cursor: pointer;\n",
              "      display: none;\n",
              "      fill: #1967D2;\n",
              "      height: 32px;\n",
              "      padding: 0 0 0 0;\n",
              "      width: 32px;\n",
              "    }\n",
              "\n",
              "    .colab-df-convert:hover {\n",
              "      background-color: #E2EBFA;\n",
              "      box-shadow: 0px 1px 2px rgba(60, 64, 67, 0.3), 0px 1px 3px 1px rgba(60, 64, 67, 0.15);\n",
              "      fill: #174EA6;\n",
              "    }\n",
              "\n",
              "    [theme=dark] .colab-df-convert {\n",
              "      background-color: #3B4455;\n",
              "      fill: #D2E3FC;\n",
              "    }\n",
              "\n",
              "    [theme=dark] .colab-df-convert:hover {\n",
              "      background-color: #434B5C;\n",
              "      box-shadow: 0px 1px 3px 1px rgba(0, 0, 0, 0.15);\n",
              "      filter: drop-shadow(0px 1px 2px rgba(0, 0, 0, 0.3));\n",
              "      fill: #FFFFFF;\n",
              "    }\n",
              "  </style>\n",
              "\n",
              "      <script>\n",
              "        const buttonEl =\n",
              "          document.querySelector('#df-e02d09eb-8a0f-4199-b17d-d0f5854955ae button.colab-df-convert');\n",
              "        buttonEl.style.display =\n",
              "          google.colab.kernel.accessAllowed ? 'block' : 'none';\n",
              "\n",
              "        async function convertToInteractive(key) {\n",
              "          const element = document.querySelector('#df-e02d09eb-8a0f-4199-b17d-d0f5854955ae');\n",
              "          const dataTable =\n",
              "            await google.colab.kernel.invokeFunction('convertToInteractive',\n",
              "                                                     [key], {});\n",
              "          if (!dataTable) return;\n",
              "\n",
              "          const docLinkHtml = 'Like what you see? Visit the ' +\n",
              "            '<a target=\"_blank\" href=https://colab.research.google.com/notebooks/data_table.ipynb>data table notebook</a>'\n",
              "            + ' to learn more about interactive tables.';\n",
              "          element.innerHTML = '';\n",
              "          dataTable['output_type'] = 'display_data';\n",
              "          await google.colab.output.renderOutput(dataTable, element);\n",
              "          const docLink = document.createElement('div');\n",
              "          docLink.innerHTML = docLinkHtml;\n",
              "          element.appendChild(docLink);\n",
              "        }\n",
              "      </script>\n",
              "    </div>\n",
              "  </div>\n",
              "  "
            ]
          },
          "metadata": {},
          "execution_count": 87
        }
      ]
    },
    {
      "cell_type": "code",
      "source": [
        "error=0"
      ],
      "metadata": {
        "id": "iNqLc61jZsuQ"
      },
      "execution_count": null,
      "outputs": []
    },
    {
      "cell_type": "code",
      "source": [
        "for index, row in test.iterrows():\n",
        "  if row['category']==\"Reports\":\n",
        "    error+=(1-row['report_factor_score'])\n",
        "  elif row['category']==\"Book Reviews\":\n",
        "    error+=(1-row['BookReviews_score'])\n",
        "  elif row['category']==\"broadcast\":\n",
        "    error+=(1-row['broadcast_score'])\n",
        "  elif row['category']==\"business\":\n",
        "    error+=(1-row['business_factor_score'])\n"
      ],
      "metadata": {
        "id": "HKUEPfUqZpt7"
      },
      "execution_count": null,
      "outputs": []
    },
    {
      "cell_type": "markdown",
      "source": [
        "RMSE of the model"
      ],
      "metadata": {
        "id": "AQC95pXubIz2"
      }
    },
    {
      "cell_type": "code",
      "source": [
        "print(\"RMSE:\",np.sqrt(error/test.shape[0]))"
      ],
      "metadata": {
        "colab": {
          "base_uri": "https://localhost:8080/"
        },
        "id": "7-wGtjG2ag7o",
        "outputId": "3f805477-6b37-4851-e5b1-99186892a569"
      },
      "execution_count": null,
      "outputs": [
        {
          "output_type": "stream",
          "name": "stdout",
          "text": [
            "RMSE: 0.6581001401170543\n"
          ]
        }
      ]
    },
    {
      "cell_type": "markdown",
      "source": [
        "##Load new data and get the dataset to be classified into different microfactors"
      ],
      "metadata": {
        "id": "uJNFIs7E_3J7"
      }
    },
    {
      "cell_type": "code",
      "source": [
        "test_filename = '/content/drive/MyDrive/ML-Spring-2022/AlternusVera/test.tsv'\n",
        "train_filename = '/content/drive/MyDrive/ML-Spring-2022/AlternusVera/train.tsv'\n",
        "valid_filename = '/content/drive/MyDrive/ML-Spring-2022/AlternusVera/valid.tsv'\n",
        "\n",
        "colnames = ['jsonid', 'label', 'headline_text', 'subject', 'speaker', 'speakerjobtitle', 'stateinfo','partyaffiliation', 'barelytruecounts', 'falsecounts','halftruecounts','mostlytrueocunts','pantsonfirecounts','context']\n",
        "\n",
        "train_news = pd.read_csv(train_filename, sep='\\t', names = colnames, error_bad_lines=False)\n",
        "test_news = pd.read_csv(test_filename, sep='\\t', names = colnames, error_bad_lines=False)\n",
        "valid_news = pd.read_csv(valid_filename, sep='\\t', names = colnames, error_bad_lines=False)"
      ],
      "metadata": {
        "colab": {
          "base_uri": "https://localhost:8080/"
        },
        "id": "TQ7aAGBeZXlI",
        "outputId": "5699cdc7-ef68-4a4c-bd17-24eefd9f33da"
      },
      "execution_count": null,
      "outputs": [
        {
          "output_type": "stream",
          "name": "stderr",
          "text": [
            "/usr/local/lib/python3.7/dist-packages/IPython/core/interactiveshell.py:2882: FutureWarning: The error_bad_lines argument has been deprecated and will be removed in a future version.\n",
            "\n",
            "\n",
            "  exec(code_obj, self.user_global_ns, self.user_ns)\n"
          ]
        }
      ]
    },
    {
      "cell_type": "code",
      "source": [
        "train_news.head(5)"
      ],
      "metadata": {
        "colab": {
          "base_uri": "https://localhost:8080/",
          "height": 206
        },
        "id": "qPhB35BAauDx",
        "outputId": "2a669d95-86fa-4410-a077-c16daf2ee215"
      },
      "execution_count": null,
      "outputs": [
        {
          "output_type": "execute_result",
          "data": {
            "text/plain": [
              "       jsonid        label                                      headline_text  \\\n",
              "0   2635.json        false  Says the Annies List political group supports ...   \n",
              "1  10540.json    half-true  When did the decline of coal start? It started...   \n",
              "2    324.json  mostly-true  Hillary Clinton agrees with John McCain \"by vo...   \n",
              "3   1123.json        false  Health care reform legislation is likely to ma...   \n",
              "4   9028.json    half-true  The economic turnaround started at the end of ...   \n",
              "\n",
              "                              subject         speaker       speakerjobtitle  \\\n",
              "0                            abortion    dwayne-bohac  State representative   \n",
              "1  energy,history,job-accomplishments  scott-surovell        State delegate   \n",
              "2                      foreign-policy    barack-obama             President   \n",
              "3                         health-care    blog-posting                   NaN   \n",
              "4                        economy,jobs   charlie-crist                   NaN   \n",
              "\n",
              "  stateinfo partyaffiliation  barelytruecounts  falsecounts  halftruecounts  \\\n",
              "0     Texas       republican               0.0          1.0             0.0   \n",
              "1  Virginia         democrat               0.0          0.0             1.0   \n",
              "2  Illinois         democrat              70.0         71.0           160.0   \n",
              "3       NaN             none               7.0         19.0             3.0   \n",
              "4   Florida         democrat              15.0          9.0            20.0   \n",
              "\n",
              "   mostlytrueocunts  pantsonfirecounts              context  \n",
              "0               0.0                0.0             a mailer  \n",
              "1               1.0                0.0      a floor speech.  \n",
              "2             163.0                9.0               Denver  \n",
              "3               5.0               44.0       a news release  \n",
              "4              19.0                2.0  an interview on CNN  "
            ],
            "text/html": [
              "\n",
              "  <div id=\"df-9cbf7290-283b-4bc0-bb73-c0282a344c4d\">\n",
              "    <div class=\"colab-df-container\">\n",
              "      <div>\n",
              "<style scoped>\n",
              "    .dataframe tbody tr th:only-of-type {\n",
              "        vertical-align: middle;\n",
              "    }\n",
              "\n",
              "    .dataframe tbody tr th {\n",
              "        vertical-align: top;\n",
              "    }\n",
              "\n",
              "    .dataframe thead th {\n",
              "        text-align: right;\n",
              "    }\n",
              "</style>\n",
              "<table border=\"1\" class=\"dataframe\">\n",
              "  <thead>\n",
              "    <tr style=\"text-align: right;\">\n",
              "      <th></th>\n",
              "      <th>jsonid</th>\n",
              "      <th>label</th>\n",
              "      <th>headline_text</th>\n",
              "      <th>subject</th>\n",
              "      <th>speaker</th>\n",
              "      <th>speakerjobtitle</th>\n",
              "      <th>stateinfo</th>\n",
              "      <th>partyaffiliation</th>\n",
              "      <th>barelytruecounts</th>\n",
              "      <th>falsecounts</th>\n",
              "      <th>halftruecounts</th>\n",
              "      <th>mostlytrueocunts</th>\n",
              "      <th>pantsonfirecounts</th>\n",
              "      <th>context</th>\n",
              "    </tr>\n",
              "  </thead>\n",
              "  <tbody>\n",
              "    <tr>\n",
              "      <th>0</th>\n",
              "      <td>2635.json</td>\n",
              "      <td>false</td>\n",
              "      <td>Says the Annies List political group supports ...</td>\n",
              "      <td>abortion</td>\n",
              "      <td>dwayne-bohac</td>\n",
              "      <td>State representative</td>\n",
              "      <td>Texas</td>\n",
              "      <td>republican</td>\n",
              "      <td>0.0</td>\n",
              "      <td>1.0</td>\n",
              "      <td>0.0</td>\n",
              "      <td>0.0</td>\n",
              "      <td>0.0</td>\n",
              "      <td>a mailer</td>\n",
              "    </tr>\n",
              "    <tr>\n",
              "      <th>1</th>\n",
              "      <td>10540.json</td>\n",
              "      <td>half-true</td>\n",
              "      <td>When did the decline of coal start? It started...</td>\n",
              "      <td>energy,history,job-accomplishments</td>\n",
              "      <td>scott-surovell</td>\n",
              "      <td>State delegate</td>\n",
              "      <td>Virginia</td>\n",
              "      <td>democrat</td>\n",
              "      <td>0.0</td>\n",
              "      <td>0.0</td>\n",
              "      <td>1.0</td>\n",
              "      <td>1.0</td>\n",
              "      <td>0.0</td>\n",
              "      <td>a floor speech.</td>\n",
              "    </tr>\n",
              "    <tr>\n",
              "      <th>2</th>\n",
              "      <td>324.json</td>\n",
              "      <td>mostly-true</td>\n",
              "      <td>Hillary Clinton agrees with John McCain \"by vo...</td>\n",
              "      <td>foreign-policy</td>\n",
              "      <td>barack-obama</td>\n",
              "      <td>President</td>\n",
              "      <td>Illinois</td>\n",
              "      <td>democrat</td>\n",
              "      <td>70.0</td>\n",
              "      <td>71.0</td>\n",
              "      <td>160.0</td>\n",
              "      <td>163.0</td>\n",
              "      <td>9.0</td>\n",
              "      <td>Denver</td>\n",
              "    </tr>\n",
              "    <tr>\n",
              "      <th>3</th>\n",
              "      <td>1123.json</td>\n",
              "      <td>false</td>\n",
              "      <td>Health care reform legislation is likely to ma...</td>\n",
              "      <td>health-care</td>\n",
              "      <td>blog-posting</td>\n",
              "      <td>NaN</td>\n",
              "      <td>NaN</td>\n",
              "      <td>none</td>\n",
              "      <td>7.0</td>\n",
              "      <td>19.0</td>\n",
              "      <td>3.0</td>\n",
              "      <td>5.0</td>\n",
              "      <td>44.0</td>\n",
              "      <td>a news release</td>\n",
              "    </tr>\n",
              "    <tr>\n",
              "      <th>4</th>\n",
              "      <td>9028.json</td>\n",
              "      <td>half-true</td>\n",
              "      <td>The economic turnaround started at the end of ...</td>\n",
              "      <td>economy,jobs</td>\n",
              "      <td>charlie-crist</td>\n",
              "      <td>NaN</td>\n",
              "      <td>Florida</td>\n",
              "      <td>democrat</td>\n",
              "      <td>15.0</td>\n",
              "      <td>9.0</td>\n",
              "      <td>20.0</td>\n",
              "      <td>19.0</td>\n",
              "      <td>2.0</td>\n",
              "      <td>an interview on CNN</td>\n",
              "    </tr>\n",
              "  </tbody>\n",
              "</table>\n",
              "</div>\n",
              "      <button class=\"colab-df-convert\" onclick=\"convertToInteractive('df-9cbf7290-283b-4bc0-bb73-c0282a344c4d')\"\n",
              "              title=\"Convert this dataframe to an interactive table.\"\n",
              "              style=\"display:none;\">\n",
              "        \n",
              "  <svg xmlns=\"http://www.w3.org/2000/svg\" height=\"24px\"viewBox=\"0 0 24 24\"\n",
              "       width=\"24px\">\n",
              "    <path d=\"M0 0h24v24H0V0z\" fill=\"none\"/>\n",
              "    <path d=\"M18.56 5.44l.94 2.06.94-2.06 2.06-.94-2.06-.94-.94-2.06-.94 2.06-2.06.94zm-11 1L8.5 8.5l.94-2.06 2.06-.94-2.06-.94L8.5 2.5l-.94 2.06-2.06.94zm10 10l.94 2.06.94-2.06 2.06-.94-2.06-.94-.94-2.06-.94 2.06-2.06.94z\"/><path d=\"M17.41 7.96l-1.37-1.37c-.4-.4-.92-.59-1.43-.59-.52 0-1.04.2-1.43.59L10.3 9.45l-7.72 7.72c-.78.78-.78 2.05 0 2.83L4 21.41c.39.39.9.59 1.41.59.51 0 1.02-.2 1.41-.59l7.78-7.78 2.81-2.81c.8-.78.8-2.07 0-2.86zM5.41 20L4 18.59l7.72-7.72 1.47 1.35L5.41 20z\"/>\n",
              "  </svg>\n",
              "      </button>\n",
              "      \n",
              "  <style>\n",
              "    .colab-df-container {\n",
              "      display:flex;\n",
              "      flex-wrap:wrap;\n",
              "      gap: 12px;\n",
              "    }\n",
              "\n",
              "    .colab-df-convert {\n",
              "      background-color: #E8F0FE;\n",
              "      border: none;\n",
              "      border-radius: 50%;\n",
              "      cursor: pointer;\n",
              "      display: none;\n",
              "      fill: #1967D2;\n",
              "      height: 32px;\n",
              "      padding: 0 0 0 0;\n",
              "      width: 32px;\n",
              "    }\n",
              "\n",
              "    .colab-df-convert:hover {\n",
              "      background-color: #E2EBFA;\n",
              "      box-shadow: 0px 1px 2px rgba(60, 64, 67, 0.3), 0px 1px 3px 1px rgba(60, 64, 67, 0.15);\n",
              "      fill: #174EA6;\n",
              "    }\n",
              "\n",
              "    [theme=dark] .colab-df-convert {\n",
              "      background-color: #3B4455;\n",
              "      fill: #D2E3FC;\n",
              "    }\n",
              "\n",
              "    [theme=dark] .colab-df-convert:hover {\n",
              "      background-color: #434B5C;\n",
              "      box-shadow: 0px 1px 3px 1px rgba(0, 0, 0, 0.15);\n",
              "      filter: drop-shadow(0px 1px 2px rgba(0, 0, 0, 0.3));\n",
              "      fill: #FFFFFF;\n",
              "    }\n",
              "  </style>\n",
              "\n",
              "      <script>\n",
              "        const buttonEl =\n",
              "          document.querySelector('#df-9cbf7290-283b-4bc0-bb73-c0282a344c4d button.colab-df-convert');\n",
              "        buttonEl.style.display =\n",
              "          google.colab.kernel.accessAllowed ? 'block' : 'none';\n",
              "\n",
              "        async function convertToInteractive(key) {\n",
              "          const element = document.querySelector('#df-9cbf7290-283b-4bc0-bb73-c0282a344c4d');\n",
              "          const dataTable =\n",
              "            await google.colab.kernel.invokeFunction('convertToInteractive',\n",
              "                                                     [key], {});\n",
              "          if (!dataTable) return;\n",
              "\n",
              "          const docLinkHtml = 'Like what you see? Visit the ' +\n",
              "            '<a target=\"_blank\" href=https://colab.research.google.com/notebooks/data_table.ipynb>data table notebook</a>'\n",
              "            + ' to learn more about interactive tables.';\n",
              "          element.innerHTML = '';\n",
              "          dataTable['output_type'] = 'display_data';\n",
              "          await google.colab.output.renderOutput(dataTable, element);\n",
              "          const docLink = document.createElement('div');\n",
              "          docLink.innerHTML = docLinkHtml;\n",
              "          element.appendChild(docLink);\n",
              "        }\n",
              "      </script>\n",
              "    </div>\n",
              "  </div>\n",
              "  "
            ]
          },
          "metadata": {},
          "execution_count": 92
        }
      ]
    },
    {
      "cell_type": "code",
      "source": [
        "# del train_news['speaker']\n",
        "# del train_news['speakerjobtitle']\n",
        "# del train_news['stateinfo']\n",
        "# del train_news['partyaffiliation']\n",
        "# del train_news['barelytruecounts']\n",
        "# del train_news['falsecounts']\n",
        "# del train_news['halftruecounts']\n",
        "# del train_news['mostlytrueocunts']\n",
        "# del train_news['pantsonfirecounts']"
      ],
      "metadata": {
        "id": "jGu8XxYnbgnW"
      },
      "execution_count": null,
      "outputs": []
    },
    {
      "cell_type": "code",
      "source": [
        "train_news.head(5)"
      ],
      "metadata": {
        "colab": {
          "base_uri": "https://localhost:8080/",
          "height": 206
        },
        "id": "Gc0_jYTMboNk",
        "outputId": "d2608083-ed6c-4edf-805d-a6fa6472e049"
      },
      "execution_count": null,
      "outputs": [
        {
          "output_type": "execute_result",
          "data": {
            "text/plain": [
              "       jsonid        label                                      headline_text  \\\n",
              "0   2635.json        false  Says the Annies List political group supports ...   \n",
              "1  10540.json    half-true  When did the decline of coal start? It started...   \n",
              "2    324.json  mostly-true  Hillary Clinton agrees with John McCain \"by vo...   \n",
              "3   1123.json        false  Health care reform legislation is likely to ma...   \n",
              "4   9028.json    half-true  The economic turnaround started at the end of ...   \n",
              "\n",
              "                              subject         speaker       speakerjobtitle  \\\n",
              "0                            abortion    dwayne-bohac  State representative   \n",
              "1  energy,history,job-accomplishments  scott-surovell        State delegate   \n",
              "2                      foreign-policy    barack-obama             President   \n",
              "3                         health-care    blog-posting                   NaN   \n",
              "4                        economy,jobs   charlie-crist                   NaN   \n",
              "\n",
              "  stateinfo partyaffiliation  barelytruecounts  falsecounts  halftruecounts  \\\n",
              "0     Texas       republican               0.0          1.0             0.0   \n",
              "1  Virginia         democrat               0.0          0.0             1.0   \n",
              "2  Illinois         democrat              70.0         71.0           160.0   \n",
              "3       NaN             none               7.0         19.0             3.0   \n",
              "4   Florida         democrat              15.0          9.0            20.0   \n",
              "\n",
              "   mostlytrueocunts  pantsonfirecounts              context  \n",
              "0               0.0                0.0             a mailer  \n",
              "1               1.0                0.0      a floor speech.  \n",
              "2             163.0                9.0               Denver  \n",
              "3               5.0               44.0       a news release  \n",
              "4              19.0                2.0  an interview on CNN  "
            ],
            "text/html": [
              "\n",
              "  <div id=\"df-16141c5a-86db-4eed-98df-82d1b14f85df\">\n",
              "    <div class=\"colab-df-container\">\n",
              "      <div>\n",
              "<style scoped>\n",
              "    .dataframe tbody tr th:only-of-type {\n",
              "        vertical-align: middle;\n",
              "    }\n",
              "\n",
              "    .dataframe tbody tr th {\n",
              "        vertical-align: top;\n",
              "    }\n",
              "\n",
              "    .dataframe thead th {\n",
              "        text-align: right;\n",
              "    }\n",
              "</style>\n",
              "<table border=\"1\" class=\"dataframe\">\n",
              "  <thead>\n",
              "    <tr style=\"text-align: right;\">\n",
              "      <th></th>\n",
              "      <th>jsonid</th>\n",
              "      <th>label</th>\n",
              "      <th>headline_text</th>\n",
              "      <th>subject</th>\n",
              "      <th>speaker</th>\n",
              "      <th>speakerjobtitle</th>\n",
              "      <th>stateinfo</th>\n",
              "      <th>partyaffiliation</th>\n",
              "      <th>barelytruecounts</th>\n",
              "      <th>falsecounts</th>\n",
              "      <th>halftruecounts</th>\n",
              "      <th>mostlytrueocunts</th>\n",
              "      <th>pantsonfirecounts</th>\n",
              "      <th>context</th>\n",
              "    </tr>\n",
              "  </thead>\n",
              "  <tbody>\n",
              "    <tr>\n",
              "      <th>0</th>\n",
              "      <td>2635.json</td>\n",
              "      <td>false</td>\n",
              "      <td>Says the Annies List political group supports ...</td>\n",
              "      <td>abortion</td>\n",
              "      <td>dwayne-bohac</td>\n",
              "      <td>State representative</td>\n",
              "      <td>Texas</td>\n",
              "      <td>republican</td>\n",
              "      <td>0.0</td>\n",
              "      <td>1.0</td>\n",
              "      <td>0.0</td>\n",
              "      <td>0.0</td>\n",
              "      <td>0.0</td>\n",
              "      <td>a mailer</td>\n",
              "    </tr>\n",
              "    <tr>\n",
              "      <th>1</th>\n",
              "      <td>10540.json</td>\n",
              "      <td>half-true</td>\n",
              "      <td>When did the decline of coal start? It started...</td>\n",
              "      <td>energy,history,job-accomplishments</td>\n",
              "      <td>scott-surovell</td>\n",
              "      <td>State delegate</td>\n",
              "      <td>Virginia</td>\n",
              "      <td>democrat</td>\n",
              "      <td>0.0</td>\n",
              "      <td>0.0</td>\n",
              "      <td>1.0</td>\n",
              "      <td>1.0</td>\n",
              "      <td>0.0</td>\n",
              "      <td>a floor speech.</td>\n",
              "    </tr>\n",
              "    <tr>\n",
              "      <th>2</th>\n",
              "      <td>324.json</td>\n",
              "      <td>mostly-true</td>\n",
              "      <td>Hillary Clinton agrees with John McCain \"by vo...</td>\n",
              "      <td>foreign-policy</td>\n",
              "      <td>barack-obama</td>\n",
              "      <td>President</td>\n",
              "      <td>Illinois</td>\n",
              "      <td>democrat</td>\n",
              "      <td>70.0</td>\n",
              "      <td>71.0</td>\n",
              "      <td>160.0</td>\n",
              "      <td>163.0</td>\n",
              "      <td>9.0</td>\n",
              "      <td>Denver</td>\n",
              "    </tr>\n",
              "    <tr>\n",
              "      <th>3</th>\n",
              "      <td>1123.json</td>\n",
              "      <td>false</td>\n",
              "      <td>Health care reform legislation is likely to ma...</td>\n",
              "      <td>health-care</td>\n",
              "      <td>blog-posting</td>\n",
              "      <td>NaN</td>\n",
              "      <td>NaN</td>\n",
              "      <td>none</td>\n",
              "      <td>7.0</td>\n",
              "      <td>19.0</td>\n",
              "      <td>3.0</td>\n",
              "      <td>5.0</td>\n",
              "      <td>44.0</td>\n",
              "      <td>a news release</td>\n",
              "    </tr>\n",
              "    <tr>\n",
              "      <th>4</th>\n",
              "      <td>9028.json</td>\n",
              "      <td>half-true</td>\n",
              "      <td>The economic turnaround started at the end of ...</td>\n",
              "      <td>economy,jobs</td>\n",
              "      <td>charlie-crist</td>\n",
              "      <td>NaN</td>\n",
              "      <td>Florida</td>\n",
              "      <td>democrat</td>\n",
              "      <td>15.0</td>\n",
              "      <td>9.0</td>\n",
              "      <td>20.0</td>\n",
              "      <td>19.0</td>\n",
              "      <td>2.0</td>\n",
              "      <td>an interview on CNN</td>\n",
              "    </tr>\n",
              "  </tbody>\n",
              "</table>\n",
              "</div>\n",
              "      <button class=\"colab-df-convert\" onclick=\"convertToInteractive('df-16141c5a-86db-4eed-98df-82d1b14f85df')\"\n",
              "              title=\"Convert this dataframe to an interactive table.\"\n",
              "              style=\"display:none;\">\n",
              "        \n",
              "  <svg xmlns=\"http://www.w3.org/2000/svg\" height=\"24px\"viewBox=\"0 0 24 24\"\n",
              "       width=\"24px\">\n",
              "    <path d=\"M0 0h24v24H0V0z\" fill=\"none\"/>\n",
              "    <path d=\"M18.56 5.44l.94 2.06.94-2.06 2.06-.94-2.06-.94-.94-2.06-.94 2.06-2.06.94zm-11 1L8.5 8.5l.94-2.06 2.06-.94-2.06-.94L8.5 2.5l-.94 2.06-2.06.94zm10 10l.94 2.06.94-2.06 2.06-.94-2.06-.94-.94-2.06-.94 2.06-2.06.94z\"/><path d=\"M17.41 7.96l-1.37-1.37c-.4-.4-.92-.59-1.43-.59-.52 0-1.04.2-1.43.59L10.3 9.45l-7.72 7.72c-.78.78-.78 2.05 0 2.83L4 21.41c.39.39.9.59 1.41.59.51 0 1.02-.2 1.41-.59l7.78-7.78 2.81-2.81c.8-.78.8-2.07 0-2.86zM5.41 20L4 18.59l7.72-7.72 1.47 1.35L5.41 20z\"/>\n",
              "  </svg>\n",
              "      </button>\n",
              "      \n",
              "  <style>\n",
              "    .colab-df-container {\n",
              "      display:flex;\n",
              "      flex-wrap:wrap;\n",
              "      gap: 12px;\n",
              "    }\n",
              "\n",
              "    .colab-df-convert {\n",
              "      background-color: #E8F0FE;\n",
              "      border: none;\n",
              "      border-radius: 50%;\n",
              "      cursor: pointer;\n",
              "      display: none;\n",
              "      fill: #1967D2;\n",
              "      height: 32px;\n",
              "      padding: 0 0 0 0;\n",
              "      width: 32px;\n",
              "    }\n",
              "\n",
              "    .colab-df-convert:hover {\n",
              "      background-color: #E2EBFA;\n",
              "      box-shadow: 0px 1px 2px rgba(60, 64, 67, 0.3), 0px 1px 3px 1px rgba(60, 64, 67, 0.15);\n",
              "      fill: #174EA6;\n",
              "    }\n",
              "\n",
              "    [theme=dark] .colab-df-convert {\n",
              "      background-color: #3B4455;\n",
              "      fill: #D2E3FC;\n",
              "    }\n",
              "\n",
              "    [theme=dark] .colab-df-convert:hover {\n",
              "      background-color: #434B5C;\n",
              "      box-shadow: 0px 1px 3px 1px rgba(0, 0, 0, 0.15);\n",
              "      filter: drop-shadow(0px 1px 2px rgba(0, 0, 0, 0.3));\n",
              "      fill: #FFFFFF;\n",
              "    }\n",
              "  </style>\n",
              "\n",
              "      <script>\n",
              "        const buttonEl =\n",
              "          document.querySelector('#df-16141c5a-86db-4eed-98df-82d1b14f85df button.colab-df-convert');\n",
              "        buttonEl.style.display =\n",
              "          google.colab.kernel.accessAllowed ? 'block' : 'none';\n",
              "\n",
              "        async function convertToInteractive(key) {\n",
              "          const element = document.querySelector('#df-16141c5a-86db-4eed-98df-82d1b14f85df');\n",
              "          const dataTable =\n",
              "            await google.colab.kernel.invokeFunction('convertToInteractive',\n",
              "                                                     [key], {});\n",
              "          if (!dataTable) return;\n",
              "\n",
              "          const docLinkHtml = 'Like what you see? Visit the ' +\n",
              "            '<a target=\"_blank\" href=https://colab.research.google.com/notebooks/data_table.ipynb>data table notebook</a>'\n",
              "            + ' to learn more about interactive tables.';\n",
              "          element.innerHTML = '';\n",
              "          dataTable['output_type'] = 'display_data';\n",
              "          await google.colab.output.renderOutput(dataTable, element);\n",
              "          const docLink = document.createElement('div');\n",
              "          docLink.innerHTML = docLinkHtml;\n",
              "          element.appendChild(docLink);\n",
              "        }\n",
              "      </script>\n",
              "    </div>\n",
              "  </div>\n",
              "  "
            ]
          },
          "metadata": {},
          "execution_count": 94
        }
      ]
    },
    {
      "cell_type": "code",
      "source": [
        "train_news.shape"
      ],
      "metadata": {
        "colab": {
          "base_uri": "https://localhost:8080/"
        },
        "id": "fwSXluN1cLv4",
        "outputId": "d81cbfd4-ddcf-480e-8b58-a2829b6d8521"
      },
      "execution_count": null,
      "outputs": [
        {
          "output_type": "execute_result",
          "data": {
            "text/plain": [
              "(10240, 14)"
            ]
          },
          "metadata": {},
          "execution_count": 95
        }
      ]
    },
    {
      "cell_type": "markdown",
      "source": [
        "##Business Score to New Data"
      ],
      "metadata": {
        "id": "kTT819XOmg0h"
      }
    },
    {
      "cell_type": "markdown",
      "source": [
        "Adding topic and score of each micro factor to text in dataframe"
      ],
      "metadata": {
        "id": "bDL9QHW_nbyU"
      }
    },
    {
      "cell_type": "code",
      "source": [
        "business_factor_score = []\n",
        "train_news['business_factor_score'] = \" \""
      ],
      "metadata": {
        "id": "jSCm0ECkoiht"
      },
      "execution_count": null,
      "outputs": []
    },
    {
      "cell_type": "code",
      "source": [
        "for index, row in train_news.iterrows():\n",
        "    title = row['headline_text']\n",
        "    bow_vector = dictionary_business.doc2bow(preprocess(title))\n",
        "    for index, score in sorted(lda_model_business[bow_vector], key=lambda tup: -1*tup[1]): \n",
        "      # row['business_factor_score'] = score\n",
        "      business_factor_score.append(score)\n",
        "      # row['business_factor_topic'] = lda_model_business.print_topic(index, 5)\n",
        "      break;\n"
      ],
      "metadata": {
        "id": "RHmMhYcpnGfn"
      },
      "execution_count": null,
      "outputs": []
    },
    {
      "cell_type": "code",
      "source": [
        "train_news['business_factor_score'] = business_factor_score"
      ],
      "metadata": {
        "id": "K5LzeGZnNpvs"
      },
      "execution_count": null,
      "outputs": []
    },
    {
      "cell_type": "code",
      "source": [
        "train_news"
      ],
      "metadata": {
        "colab": {
          "base_uri": "https://localhost:8080/",
          "height": 676
        },
        "id": "GiGAvBBloY6V",
        "outputId": "80cc14a3-f035-4d8e-93c8-a456e0b3079c"
      },
      "execution_count": null,
      "outputs": [
        {
          "output_type": "execute_result",
          "data": {
            "text/plain": [
              "           jsonid        label  \\\n",
              "0       2635.json        false   \n",
              "1      10540.json    half-true   \n",
              "2        324.json  mostly-true   \n",
              "3       1123.json        false   \n",
              "4       9028.json    half-true   \n",
              "...           ...          ...   \n",
              "10235   5473.json  mostly-true   \n",
              "10236   3408.json  mostly-true   \n",
              "10237   3959.json    half-true   \n",
              "10238   2253.json        false   \n",
              "10239   1155.json   pants-fire   \n",
              "\n",
              "                                           headline_text  \\\n",
              "0      Says the Annies List political group supports ...   \n",
              "1      When did the decline of coal start? It started...   \n",
              "2      Hillary Clinton agrees with John McCain \"by vo...   \n",
              "3      Health care reform legislation is likely to ma...   \n",
              "4      The economic turnaround started at the end of ...   \n",
              "...                                                  ...   \n",
              "10235  There are a larger number of shark attacks in ...   \n",
              "10236  Democrats have now become the party of the [At...   \n",
              "10237  Says an alternative to Social Security that op...   \n",
              "10238  On lifting the U.S. Cuban embargo and allowing...   \n",
              "10239  The Department of Veterans Affairs has a manua...   \n",
              "\n",
              "                                  subject         speaker  \\\n",
              "0                                abortion    dwayne-bohac   \n",
              "1      energy,history,job-accomplishments  scott-surovell   \n",
              "2                          foreign-policy    barack-obama   \n",
              "3                             health-care    blog-posting   \n",
              "4                            economy,jobs   charlie-crist   \n",
              "...                                   ...             ...   \n",
              "10235                   animals,elections    aclu-florida   \n",
              "10236                           elections     alan-powell   \n",
              "10237          retirement,social-security     herman-cain   \n",
              "10238              florida,foreign-policy     jeff-greene   \n",
              "10239                health-care,veterans  michael-steele   \n",
              "\n",
              "                                     speakerjobtitle stateinfo  \\\n",
              "0                               State representative     Texas   \n",
              "1                                     State delegate  Virginia   \n",
              "2                                          President  Illinois   \n",
              "3                                                NaN       NaN   \n",
              "4                                                NaN   Florida   \n",
              "...                                              ...       ...   \n",
              "10235                                            NaN   Florida   \n",
              "10236                                            NaN   Georgia   \n",
              "10237                                            NaN   Georgia   \n",
              "10238                                            NaN   Florida   \n",
              "10239  chairman of the Republican National Committee  Maryland   \n",
              "\n",
              "      partyaffiliation  barelytruecounts  falsecounts  halftruecounts  \\\n",
              "0           republican               0.0          1.0             0.0   \n",
              "1             democrat               0.0          0.0             1.0   \n",
              "2             democrat              70.0         71.0           160.0   \n",
              "3                 none               7.0         19.0             3.0   \n",
              "4             democrat              15.0          9.0            20.0   \n",
              "...                ...               ...          ...             ...   \n",
              "10235             none               0.0          1.0             1.0   \n",
              "10236       republican               0.0          0.0             0.0   \n",
              "10237       republican               4.0         11.0             5.0   \n",
              "10238         democrat               3.0          1.0             3.0   \n",
              "10239       republican               0.0          1.0             1.0   \n",
              "\n",
              "       mostlytrueocunts  pantsonfirecounts  \\\n",
              "0                   0.0                0.0   \n",
              "1                   1.0                0.0   \n",
              "2                 163.0                9.0   \n",
              "3                   5.0               44.0   \n",
              "4                  19.0                2.0   \n",
              "...                 ...                ...   \n",
              "10235               1.0                0.0   \n",
              "10236               1.0                0.0   \n",
              "10237               3.0                3.0   \n",
              "10238               0.0                0.0   \n",
              "10239               0.0                2.0   \n",
              "\n",
              "                                                 context  \\\n",
              "0                                               a mailer   \n",
              "1                                        a floor speech.   \n",
              "2                                                 Denver   \n",
              "3                                         a news release   \n",
              "4                                    an interview on CNN   \n",
              "...                                                  ...   \n",
              "10235                  interview on \"The Colbert Report\"   \n",
              "10236                                       an interview   \n",
              "10237                   a Republican presidential debate   \n",
              "10238  a televised debate on Miami's WPLG-10 against ...   \n",
              "10239                               a Fox News interview   \n",
              "\n",
              "       business_factor_score  \n",
              "0                   0.703164  \n",
              "1                   0.396987  \n",
              "2                   0.605577  \n",
              "3                   0.317883  \n",
              "4                   0.436707  \n",
              "...                      ...  \n",
              "10235               0.349660  \n",
              "10236               0.518351  \n",
              "10237               0.370382  \n",
              "10238               0.667827  \n",
              "10239               0.251011  \n",
              "\n",
              "[10240 rows x 15 columns]"
            ],
            "text/html": [
              "\n",
              "  <div id=\"df-81493eb8-0c9e-49fb-9716-6c0880abd540\">\n",
              "    <div class=\"colab-df-container\">\n",
              "      <div>\n",
              "<style scoped>\n",
              "    .dataframe tbody tr th:only-of-type {\n",
              "        vertical-align: middle;\n",
              "    }\n",
              "\n",
              "    .dataframe tbody tr th {\n",
              "        vertical-align: top;\n",
              "    }\n",
              "\n",
              "    .dataframe thead th {\n",
              "        text-align: right;\n",
              "    }\n",
              "</style>\n",
              "<table border=\"1\" class=\"dataframe\">\n",
              "  <thead>\n",
              "    <tr style=\"text-align: right;\">\n",
              "      <th></th>\n",
              "      <th>jsonid</th>\n",
              "      <th>label</th>\n",
              "      <th>headline_text</th>\n",
              "      <th>subject</th>\n",
              "      <th>speaker</th>\n",
              "      <th>speakerjobtitle</th>\n",
              "      <th>stateinfo</th>\n",
              "      <th>partyaffiliation</th>\n",
              "      <th>barelytruecounts</th>\n",
              "      <th>falsecounts</th>\n",
              "      <th>halftruecounts</th>\n",
              "      <th>mostlytrueocunts</th>\n",
              "      <th>pantsonfirecounts</th>\n",
              "      <th>context</th>\n",
              "      <th>business_factor_score</th>\n",
              "    </tr>\n",
              "  </thead>\n",
              "  <tbody>\n",
              "    <tr>\n",
              "      <th>0</th>\n",
              "      <td>2635.json</td>\n",
              "      <td>false</td>\n",
              "      <td>Says the Annies List political group supports ...</td>\n",
              "      <td>abortion</td>\n",
              "      <td>dwayne-bohac</td>\n",
              "      <td>State representative</td>\n",
              "      <td>Texas</td>\n",
              "      <td>republican</td>\n",
              "      <td>0.0</td>\n",
              "      <td>1.0</td>\n",
              "      <td>0.0</td>\n",
              "      <td>0.0</td>\n",
              "      <td>0.0</td>\n",
              "      <td>a mailer</td>\n",
              "      <td>0.703164</td>\n",
              "    </tr>\n",
              "    <tr>\n",
              "      <th>1</th>\n",
              "      <td>10540.json</td>\n",
              "      <td>half-true</td>\n",
              "      <td>When did the decline of coal start? It started...</td>\n",
              "      <td>energy,history,job-accomplishments</td>\n",
              "      <td>scott-surovell</td>\n",
              "      <td>State delegate</td>\n",
              "      <td>Virginia</td>\n",
              "      <td>democrat</td>\n",
              "      <td>0.0</td>\n",
              "      <td>0.0</td>\n",
              "      <td>1.0</td>\n",
              "      <td>1.0</td>\n",
              "      <td>0.0</td>\n",
              "      <td>a floor speech.</td>\n",
              "      <td>0.396987</td>\n",
              "    </tr>\n",
              "    <tr>\n",
              "      <th>2</th>\n",
              "      <td>324.json</td>\n",
              "      <td>mostly-true</td>\n",
              "      <td>Hillary Clinton agrees with John McCain \"by vo...</td>\n",
              "      <td>foreign-policy</td>\n",
              "      <td>barack-obama</td>\n",
              "      <td>President</td>\n",
              "      <td>Illinois</td>\n",
              "      <td>democrat</td>\n",
              "      <td>70.0</td>\n",
              "      <td>71.0</td>\n",
              "      <td>160.0</td>\n",
              "      <td>163.0</td>\n",
              "      <td>9.0</td>\n",
              "      <td>Denver</td>\n",
              "      <td>0.605577</td>\n",
              "    </tr>\n",
              "    <tr>\n",
              "      <th>3</th>\n",
              "      <td>1123.json</td>\n",
              "      <td>false</td>\n",
              "      <td>Health care reform legislation is likely to ma...</td>\n",
              "      <td>health-care</td>\n",
              "      <td>blog-posting</td>\n",
              "      <td>NaN</td>\n",
              "      <td>NaN</td>\n",
              "      <td>none</td>\n",
              "      <td>7.0</td>\n",
              "      <td>19.0</td>\n",
              "      <td>3.0</td>\n",
              "      <td>5.0</td>\n",
              "      <td>44.0</td>\n",
              "      <td>a news release</td>\n",
              "      <td>0.317883</td>\n",
              "    </tr>\n",
              "    <tr>\n",
              "      <th>4</th>\n",
              "      <td>9028.json</td>\n",
              "      <td>half-true</td>\n",
              "      <td>The economic turnaround started at the end of ...</td>\n",
              "      <td>economy,jobs</td>\n",
              "      <td>charlie-crist</td>\n",
              "      <td>NaN</td>\n",
              "      <td>Florida</td>\n",
              "      <td>democrat</td>\n",
              "      <td>15.0</td>\n",
              "      <td>9.0</td>\n",
              "      <td>20.0</td>\n",
              "      <td>19.0</td>\n",
              "      <td>2.0</td>\n",
              "      <td>an interview on CNN</td>\n",
              "      <td>0.436707</td>\n",
              "    </tr>\n",
              "    <tr>\n",
              "      <th>...</th>\n",
              "      <td>...</td>\n",
              "      <td>...</td>\n",
              "      <td>...</td>\n",
              "      <td>...</td>\n",
              "      <td>...</td>\n",
              "      <td>...</td>\n",
              "      <td>...</td>\n",
              "      <td>...</td>\n",
              "      <td>...</td>\n",
              "      <td>...</td>\n",
              "      <td>...</td>\n",
              "      <td>...</td>\n",
              "      <td>...</td>\n",
              "      <td>...</td>\n",
              "      <td>...</td>\n",
              "    </tr>\n",
              "    <tr>\n",
              "      <th>10235</th>\n",
              "      <td>5473.json</td>\n",
              "      <td>mostly-true</td>\n",
              "      <td>There are a larger number of shark attacks in ...</td>\n",
              "      <td>animals,elections</td>\n",
              "      <td>aclu-florida</td>\n",
              "      <td>NaN</td>\n",
              "      <td>Florida</td>\n",
              "      <td>none</td>\n",
              "      <td>0.0</td>\n",
              "      <td>1.0</td>\n",
              "      <td>1.0</td>\n",
              "      <td>1.0</td>\n",
              "      <td>0.0</td>\n",
              "      <td>interview on \"The Colbert Report\"</td>\n",
              "      <td>0.349660</td>\n",
              "    </tr>\n",
              "    <tr>\n",
              "      <th>10236</th>\n",
              "      <td>3408.json</td>\n",
              "      <td>mostly-true</td>\n",
              "      <td>Democrats have now become the party of the [At...</td>\n",
              "      <td>elections</td>\n",
              "      <td>alan-powell</td>\n",
              "      <td>NaN</td>\n",
              "      <td>Georgia</td>\n",
              "      <td>republican</td>\n",
              "      <td>0.0</td>\n",
              "      <td>0.0</td>\n",
              "      <td>0.0</td>\n",
              "      <td>1.0</td>\n",
              "      <td>0.0</td>\n",
              "      <td>an interview</td>\n",
              "      <td>0.518351</td>\n",
              "    </tr>\n",
              "    <tr>\n",
              "      <th>10237</th>\n",
              "      <td>3959.json</td>\n",
              "      <td>half-true</td>\n",
              "      <td>Says an alternative to Social Security that op...</td>\n",
              "      <td>retirement,social-security</td>\n",
              "      <td>herman-cain</td>\n",
              "      <td>NaN</td>\n",
              "      <td>Georgia</td>\n",
              "      <td>republican</td>\n",
              "      <td>4.0</td>\n",
              "      <td>11.0</td>\n",
              "      <td>5.0</td>\n",
              "      <td>3.0</td>\n",
              "      <td>3.0</td>\n",
              "      <td>a Republican presidential debate</td>\n",
              "      <td>0.370382</td>\n",
              "    </tr>\n",
              "    <tr>\n",
              "      <th>10238</th>\n",
              "      <td>2253.json</td>\n",
              "      <td>false</td>\n",
              "      <td>On lifting the U.S. Cuban embargo and allowing...</td>\n",
              "      <td>florida,foreign-policy</td>\n",
              "      <td>jeff-greene</td>\n",
              "      <td>NaN</td>\n",
              "      <td>Florida</td>\n",
              "      <td>democrat</td>\n",
              "      <td>3.0</td>\n",
              "      <td>1.0</td>\n",
              "      <td>3.0</td>\n",
              "      <td>0.0</td>\n",
              "      <td>0.0</td>\n",
              "      <td>a televised debate on Miami's WPLG-10 against ...</td>\n",
              "      <td>0.667827</td>\n",
              "    </tr>\n",
              "    <tr>\n",
              "      <th>10239</th>\n",
              "      <td>1155.json</td>\n",
              "      <td>pants-fire</td>\n",
              "      <td>The Department of Veterans Affairs has a manua...</td>\n",
              "      <td>health-care,veterans</td>\n",
              "      <td>michael-steele</td>\n",
              "      <td>chairman of the Republican National Committee</td>\n",
              "      <td>Maryland</td>\n",
              "      <td>republican</td>\n",
              "      <td>0.0</td>\n",
              "      <td>1.0</td>\n",
              "      <td>1.0</td>\n",
              "      <td>0.0</td>\n",
              "      <td>2.0</td>\n",
              "      <td>a Fox News interview</td>\n",
              "      <td>0.251011</td>\n",
              "    </tr>\n",
              "  </tbody>\n",
              "</table>\n",
              "<p>10240 rows × 15 columns</p>\n",
              "</div>\n",
              "      <button class=\"colab-df-convert\" onclick=\"convertToInteractive('df-81493eb8-0c9e-49fb-9716-6c0880abd540')\"\n",
              "              title=\"Convert this dataframe to an interactive table.\"\n",
              "              style=\"display:none;\">\n",
              "        \n",
              "  <svg xmlns=\"http://www.w3.org/2000/svg\" height=\"24px\"viewBox=\"0 0 24 24\"\n",
              "       width=\"24px\">\n",
              "    <path d=\"M0 0h24v24H0V0z\" fill=\"none\"/>\n",
              "    <path d=\"M18.56 5.44l.94 2.06.94-2.06 2.06-.94-2.06-.94-.94-2.06-.94 2.06-2.06.94zm-11 1L8.5 8.5l.94-2.06 2.06-.94-2.06-.94L8.5 2.5l-.94 2.06-2.06.94zm10 10l.94 2.06.94-2.06 2.06-.94-2.06-.94-.94-2.06-.94 2.06-2.06.94z\"/><path d=\"M17.41 7.96l-1.37-1.37c-.4-.4-.92-.59-1.43-.59-.52 0-1.04.2-1.43.59L10.3 9.45l-7.72 7.72c-.78.78-.78 2.05 0 2.83L4 21.41c.39.39.9.59 1.41.59.51 0 1.02-.2 1.41-.59l7.78-7.78 2.81-2.81c.8-.78.8-2.07 0-2.86zM5.41 20L4 18.59l7.72-7.72 1.47 1.35L5.41 20z\"/>\n",
              "  </svg>\n",
              "      </button>\n",
              "      \n",
              "  <style>\n",
              "    .colab-df-container {\n",
              "      display:flex;\n",
              "      flex-wrap:wrap;\n",
              "      gap: 12px;\n",
              "    }\n",
              "\n",
              "    .colab-df-convert {\n",
              "      background-color: #E8F0FE;\n",
              "      border: none;\n",
              "      border-radius: 50%;\n",
              "      cursor: pointer;\n",
              "      display: none;\n",
              "      fill: #1967D2;\n",
              "      height: 32px;\n",
              "      padding: 0 0 0 0;\n",
              "      width: 32px;\n",
              "    }\n",
              "\n",
              "    .colab-df-convert:hover {\n",
              "      background-color: #E2EBFA;\n",
              "      box-shadow: 0px 1px 2px rgba(60, 64, 67, 0.3), 0px 1px 3px 1px rgba(60, 64, 67, 0.15);\n",
              "      fill: #174EA6;\n",
              "    }\n",
              "\n",
              "    [theme=dark] .colab-df-convert {\n",
              "      background-color: #3B4455;\n",
              "      fill: #D2E3FC;\n",
              "    }\n",
              "\n",
              "    [theme=dark] .colab-df-convert:hover {\n",
              "      background-color: #434B5C;\n",
              "      box-shadow: 0px 1px 3px 1px rgba(0, 0, 0, 0.15);\n",
              "      filter: drop-shadow(0px 1px 2px rgba(0, 0, 0, 0.3));\n",
              "      fill: #FFFFFF;\n",
              "    }\n",
              "  </style>\n",
              "\n",
              "      <script>\n",
              "        const buttonEl =\n",
              "          document.querySelector('#df-81493eb8-0c9e-49fb-9716-6c0880abd540 button.colab-df-convert');\n",
              "        buttonEl.style.display =\n",
              "          google.colab.kernel.accessAllowed ? 'block' : 'none';\n",
              "\n",
              "        async function convertToInteractive(key) {\n",
              "          const element = document.querySelector('#df-81493eb8-0c9e-49fb-9716-6c0880abd540');\n",
              "          const dataTable =\n",
              "            await google.colab.kernel.invokeFunction('convertToInteractive',\n",
              "                                                     [key], {});\n",
              "          if (!dataTable) return;\n",
              "\n",
              "          const docLinkHtml = 'Like what you see? Visit the ' +\n",
              "            '<a target=\"_blank\" href=https://colab.research.google.com/notebooks/data_table.ipynb>data table notebook</a>'\n",
              "            + ' to learn more about interactive tables.';\n",
              "          element.innerHTML = '';\n",
              "          dataTable['output_type'] = 'display_data';\n",
              "          await google.colab.output.renderOutput(dataTable, element);\n",
              "          const docLink = document.createElement('div');\n",
              "          docLink.innerHTML = docLinkHtml;\n",
              "          element.appendChild(docLink);\n",
              "        }\n",
              "      </script>\n",
              "    </div>\n",
              "  </div>\n",
              "  "
            ]
          },
          "metadata": {},
          "execution_count": 99
        }
      ]
    },
    {
      "cell_type": "code",
      "source": [
        "business_factor_score1 = []\n",
        "test_news['business_factor_score'] = \" \"\n",
        "\n",
        "for index, row in test_news.iterrows():\n",
        "    title = row['headline_text']\n",
        "    bow_vector = dictionary_business.doc2bow(preprocess(title))\n",
        "    for index, score in sorted(lda_model_business[bow_vector], key=lambda tup: -1*tup[1]): \n",
        "      # row['business_factor_score'] = score\n",
        "      business_factor_score1.append(score)\n",
        "      # row['business_factor_topic'] = lda_model_business.print_topic(index, 5)\n",
        "      break;\n",
        "\n",
        "test_news['business_factor_score'] = business_factor_score1"
      ],
      "metadata": {
        "id": "09qmKbeEQaGA"
      },
      "execution_count": null,
      "outputs": []
    },
    {
      "cell_type": "markdown",
      "source": [
        "##Broadcast Factor score on New Data"
      ],
      "metadata": {
        "id": "wgySUTrkpxLq"
      }
    },
    {
      "cell_type": "code",
      "source": [
        "broadcast_factor_score=[]\n",
        "train_news['broadcast_factor_score'] = \"\""
      ],
      "metadata": {
        "id": "9dDpkKr0p4Ky"
      },
      "execution_count": null,
      "outputs": []
    },
    {
      "cell_type": "code",
      "source": [
        "for index, row in train_news.iterrows():\n",
        "    title = row['headline_text']\n",
        "    bow_vector = dictionary_broadcast.doc2bow(preprocess(title))\n",
        "    for index, score in sorted(lda_model_broadcast[bow_vector], key=lambda tup: -1*tup[1]): \n",
        "      # row['broadcast_factor_score'] = score\n",
        "      broadcast_factor_score.append(score)\n",
        "      # row['broadcast_factor_topic'] = lda_model_broadcast.print_topic(index, 5)\n",
        "      # print(row['broadcast_factor_score'])\n",
        "      break;"
      ],
      "metadata": {
        "id": "wrqmkqkyp07A"
      },
      "execution_count": null,
      "outputs": []
    },
    {
      "cell_type": "code",
      "source": [
        "train_news['broadcast_factor_score'] = broadcast_factor_score"
      ],
      "metadata": {
        "id": "le89kaWTN3VK"
      },
      "execution_count": null,
      "outputs": []
    },
    {
      "cell_type": "code",
      "source": [
        "train_news.head(5)"
      ],
      "metadata": {
        "colab": {
          "base_uri": "https://localhost:8080/",
          "height": 372
        },
        "id": "v9YQU6aAqMtm",
        "outputId": "5b076886-f2de-49a2-fd93-fc85a4f63586"
      },
      "execution_count": null,
      "outputs": [
        {
          "output_type": "execute_result",
          "data": {
            "text/plain": [
              "       jsonid        label                                      headline_text  \\\n",
              "0   2635.json        false  Says the Annies List political group supports ...   \n",
              "1  10540.json    half-true  When did the decline of coal start? It started...   \n",
              "2    324.json  mostly-true  Hillary Clinton agrees with John McCain \"by vo...   \n",
              "3   1123.json        false  Health care reform legislation is likely to ma...   \n",
              "4   9028.json    half-true  The economic turnaround started at the end of ...   \n",
              "\n",
              "                              subject         speaker       speakerjobtitle  \\\n",
              "0                            abortion    dwayne-bohac  State representative   \n",
              "1  energy,history,job-accomplishments  scott-surovell        State delegate   \n",
              "2                      foreign-policy    barack-obama             President   \n",
              "3                         health-care    blog-posting                   NaN   \n",
              "4                        economy,jobs   charlie-crist                   NaN   \n",
              "\n",
              "  stateinfo partyaffiliation  barelytruecounts  falsecounts  halftruecounts  \\\n",
              "0     Texas       republican               0.0          1.0             0.0   \n",
              "1  Virginia         democrat               0.0          0.0             1.0   \n",
              "2  Illinois         democrat              70.0         71.0           160.0   \n",
              "3       NaN             none               7.0         19.0             3.0   \n",
              "4   Florida         democrat              15.0          9.0            20.0   \n",
              "\n",
              "   mostlytrueocunts  pantsonfirecounts              context  \\\n",
              "0               0.0                0.0             a mailer   \n",
              "1               1.0                0.0      a floor speech.   \n",
              "2             163.0                9.0               Denver   \n",
              "3               5.0               44.0       a news release   \n",
              "4              19.0                2.0  an interview on CNN   \n",
              "\n",
              "   business_factor_score  broadcast_factor_score  \n",
              "0               0.703164                0.549374  \n",
              "1               0.396987                0.846397  \n",
              "2               0.605577                0.438088  \n",
              "3               0.317883                0.403089  \n",
              "4               0.436707                0.532862  "
            ],
            "text/html": [
              "\n",
              "  <div id=\"df-3047bb07-a72f-44a0-94f6-e21fe56806ff\">\n",
              "    <div class=\"colab-df-container\">\n",
              "      <div>\n",
              "<style scoped>\n",
              "    .dataframe tbody tr th:only-of-type {\n",
              "        vertical-align: middle;\n",
              "    }\n",
              "\n",
              "    .dataframe tbody tr th {\n",
              "        vertical-align: top;\n",
              "    }\n",
              "\n",
              "    .dataframe thead th {\n",
              "        text-align: right;\n",
              "    }\n",
              "</style>\n",
              "<table border=\"1\" class=\"dataframe\">\n",
              "  <thead>\n",
              "    <tr style=\"text-align: right;\">\n",
              "      <th></th>\n",
              "      <th>jsonid</th>\n",
              "      <th>label</th>\n",
              "      <th>headline_text</th>\n",
              "      <th>subject</th>\n",
              "      <th>speaker</th>\n",
              "      <th>speakerjobtitle</th>\n",
              "      <th>stateinfo</th>\n",
              "      <th>partyaffiliation</th>\n",
              "      <th>barelytruecounts</th>\n",
              "      <th>falsecounts</th>\n",
              "      <th>halftruecounts</th>\n",
              "      <th>mostlytrueocunts</th>\n",
              "      <th>pantsonfirecounts</th>\n",
              "      <th>context</th>\n",
              "      <th>business_factor_score</th>\n",
              "      <th>broadcast_factor_score</th>\n",
              "    </tr>\n",
              "  </thead>\n",
              "  <tbody>\n",
              "    <tr>\n",
              "      <th>0</th>\n",
              "      <td>2635.json</td>\n",
              "      <td>false</td>\n",
              "      <td>Says the Annies List political group supports ...</td>\n",
              "      <td>abortion</td>\n",
              "      <td>dwayne-bohac</td>\n",
              "      <td>State representative</td>\n",
              "      <td>Texas</td>\n",
              "      <td>republican</td>\n",
              "      <td>0.0</td>\n",
              "      <td>1.0</td>\n",
              "      <td>0.0</td>\n",
              "      <td>0.0</td>\n",
              "      <td>0.0</td>\n",
              "      <td>a mailer</td>\n",
              "      <td>0.703164</td>\n",
              "      <td>0.549374</td>\n",
              "    </tr>\n",
              "    <tr>\n",
              "      <th>1</th>\n",
              "      <td>10540.json</td>\n",
              "      <td>half-true</td>\n",
              "      <td>When did the decline of coal start? It started...</td>\n",
              "      <td>energy,history,job-accomplishments</td>\n",
              "      <td>scott-surovell</td>\n",
              "      <td>State delegate</td>\n",
              "      <td>Virginia</td>\n",
              "      <td>democrat</td>\n",
              "      <td>0.0</td>\n",
              "      <td>0.0</td>\n",
              "      <td>1.0</td>\n",
              "      <td>1.0</td>\n",
              "      <td>0.0</td>\n",
              "      <td>a floor speech.</td>\n",
              "      <td>0.396987</td>\n",
              "      <td>0.846397</td>\n",
              "    </tr>\n",
              "    <tr>\n",
              "      <th>2</th>\n",
              "      <td>324.json</td>\n",
              "      <td>mostly-true</td>\n",
              "      <td>Hillary Clinton agrees with John McCain \"by vo...</td>\n",
              "      <td>foreign-policy</td>\n",
              "      <td>barack-obama</td>\n",
              "      <td>President</td>\n",
              "      <td>Illinois</td>\n",
              "      <td>democrat</td>\n",
              "      <td>70.0</td>\n",
              "      <td>71.0</td>\n",
              "      <td>160.0</td>\n",
              "      <td>163.0</td>\n",
              "      <td>9.0</td>\n",
              "      <td>Denver</td>\n",
              "      <td>0.605577</td>\n",
              "      <td>0.438088</td>\n",
              "    </tr>\n",
              "    <tr>\n",
              "      <th>3</th>\n",
              "      <td>1123.json</td>\n",
              "      <td>false</td>\n",
              "      <td>Health care reform legislation is likely to ma...</td>\n",
              "      <td>health-care</td>\n",
              "      <td>blog-posting</td>\n",
              "      <td>NaN</td>\n",
              "      <td>NaN</td>\n",
              "      <td>none</td>\n",
              "      <td>7.0</td>\n",
              "      <td>19.0</td>\n",
              "      <td>3.0</td>\n",
              "      <td>5.0</td>\n",
              "      <td>44.0</td>\n",
              "      <td>a news release</td>\n",
              "      <td>0.317883</td>\n",
              "      <td>0.403089</td>\n",
              "    </tr>\n",
              "    <tr>\n",
              "      <th>4</th>\n",
              "      <td>9028.json</td>\n",
              "      <td>half-true</td>\n",
              "      <td>The economic turnaround started at the end of ...</td>\n",
              "      <td>economy,jobs</td>\n",
              "      <td>charlie-crist</td>\n",
              "      <td>NaN</td>\n",
              "      <td>Florida</td>\n",
              "      <td>democrat</td>\n",
              "      <td>15.0</td>\n",
              "      <td>9.0</td>\n",
              "      <td>20.0</td>\n",
              "      <td>19.0</td>\n",
              "      <td>2.0</td>\n",
              "      <td>an interview on CNN</td>\n",
              "      <td>0.436707</td>\n",
              "      <td>0.532862</td>\n",
              "    </tr>\n",
              "  </tbody>\n",
              "</table>\n",
              "</div>\n",
              "      <button class=\"colab-df-convert\" onclick=\"convertToInteractive('df-3047bb07-a72f-44a0-94f6-e21fe56806ff')\"\n",
              "              title=\"Convert this dataframe to an interactive table.\"\n",
              "              style=\"display:none;\">\n",
              "        \n",
              "  <svg xmlns=\"http://www.w3.org/2000/svg\" height=\"24px\"viewBox=\"0 0 24 24\"\n",
              "       width=\"24px\">\n",
              "    <path d=\"M0 0h24v24H0V0z\" fill=\"none\"/>\n",
              "    <path d=\"M18.56 5.44l.94 2.06.94-2.06 2.06-.94-2.06-.94-.94-2.06-.94 2.06-2.06.94zm-11 1L8.5 8.5l.94-2.06 2.06-.94-2.06-.94L8.5 2.5l-.94 2.06-2.06.94zm10 10l.94 2.06.94-2.06 2.06-.94-2.06-.94-.94-2.06-.94 2.06-2.06.94z\"/><path d=\"M17.41 7.96l-1.37-1.37c-.4-.4-.92-.59-1.43-.59-.52 0-1.04.2-1.43.59L10.3 9.45l-7.72 7.72c-.78.78-.78 2.05 0 2.83L4 21.41c.39.39.9.59 1.41.59.51 0 1.02-.2 1.41-.59l7.78-7.78 2.81-2.81c.8-.78.8-2.07 0-2.86zM5.41 20L4 18.59l7.72-7.72 1.47 1.35L5.41 20z\"/>\n",
              "  </svg>\n",
              "      </button>\n",
              "      \n",
              "  <style>\n",
              "    .colab-df-container {\n",
              "      display:flex;\n",
              "      flex-wrap:wrap;\n",
              "      gap: 12px;\n",
              "    }\n",
              "\n",
              "    .colab-df-convert {\n",
              "      background-color: #E8F0FE;\n",
              "      border: none;\n",
              "      border-radius: 50%;\n",
              "      cursor: pointer;\n",
              "      display: none;\n",
              "      fill: #1967D2;\n",
              "      height: 32px;\n",
              "      padding: 0 0 0 0;\n",
              "      width: 32px;\n",
              "    }\n",
              "\n",
              "    .colab-df-convert:hover {\n",
              "      background-color: #E2EBFA;\n",
              "      box-shadow: 0px 1px 2px rgba(60, 64, 67, 0.3), 0px 1px 3px 1px rgba(60, 64, 67, 0.15);\n",
              "      fill: #174EA6;\n",
              "    }\n",
              "\n",
              "    [theme=dark] .colab-df-convert {\n",
              "      background-color: #3B4455;\n",
              "      fill: #D2E3FC;\n",
              "    }\n",
              "\n",
              "    [theme=dark] .colab-df-convert:hover {\n",
              "      background-color: #434B5C;\n",
              "      box-shadow: 0px 1px 3px 1px rgba(0, 0, 0, 0.15);\n",
              "      filter: drop-shadow(0px 1px 2px rgba(0, 0, 0, 0.3));\n",
              "      fill: #FFFFFF;\n",
              "    }\n",
              "  </style>\n",
              "\n",
              "      <script>\n",
              "        const buttonEl =\n",
              "          document.querySelector('#df-3047bb07-a72f-44a0-94f6-e21fe56806ff button.colab-df-convert');\n",
              "        buttonEl.style.display =\n",
              "          google.colab.kernel.accessAllowed ? 'block' : 'none';\n",
              "\n",
              "        async function convertToInteractive(key) {\n",
              "          const element = document.querySelector('#df-3047bb07-a72f-44a0-94f6-e21fe56806ff');\n",
              "          const dataTable =\n",
              "            await google.colab.kernel.invokeFunction('convertToInteractive',\n",
              "                                                     [key], {});\n",
              "          if (!dataTable) return;\n",
              "\n",
              "          const docLinkHtml = 'Like what you see? Visit the ' +\n",
              "            '<a target=\"_blank\" href=https://colab.research.google.com/notebooks/data_table.ipynb>data table notebook</a>'\n",
              "            + ' to learn more about interactive tables.';\n",
              "          element.innerHTML = '';\n",
              "          dataTable['output_type'] = 'display_data';\n",
              "          await google.colab.output.renderOutput(dataTable, element);\n",
              "          const docLink = document.createElement('div');\n",
              "          docLink.innerHTML = docLinkHtml;\n",
              "          element.appendChild(docLink);\n",
              "        }\n",
              "      </script>\n",
              "    </div>\n",
              "  </div>\n",
              "  "
            ]
          },
          "metadata": {},
          "execution_count": 104
        }
      ]
    },
    {
      "cell_type": "code",
      "source": [
        "broadcast_factor_score1=[]\n",
        "test_news['broadcast_factor_score'] = \"\"\n",
        "\n",
        "for index, row in test_news.iterrows():\n",
        "    title = row['headline_text']\n",
        "    bow_vector = dictionary_broadcast.doc2bow(preprocess(title))\n",
        "    for index, score in sorted(lda_model_broadcast[bow_vector], key=lambda tup: -1*tup[1]): \n",
        "      # row['broadcast_factor_score'] = score\n",
        "      broadcast_factor_score1.append(score)\n",
        "      # row['broadcast_factor_topic'] = lda_model_broadcast.print_topic(index, 5)\n",
        "      # print(row['broadcast_factor_score'])\n",
        "      break;\n",
        "\n",
        "test_news['broadcast_factor_score'] = broadcast_factor_score1"
      ],
      "metadata": {
        "id": "SRFiWAM4QyWW"
      },
      "execution_count": null,
      "outputs": []
    },
    {
      "cell_type": "markdown",
      "source": [
        "##Book Review factor score for new Data"
      ],
      "metadata": {
        "id": "2FgVCXp5rPiX"
      }
    },
    {
      "cell_type": "code",
      "source": [
        "bookReview_factor_score=[]\n",
        "train_news['bookReview_factor_score'] = \"\""
      ],
      "metadata": {
        "id": "jQ-q7wptr3Ca"
      },
      "execution_count": null,
      "outputs": []
    },
    {
      "cell_type": "code",
      "source": [
        "for index, row in train_news.iterrows():\n",
        "    title = row['headline_text']\n",
        "    bow_vector = dictionary_BookReviews.doc2bow(preprocess(title))\n",
        "    for index, score in sorted(lda_model_BookReviews[bow_vector], key=lambda tup: -1*tup[1]): \n",
        "      # row['bookReview_factor_score'] = score\n",
        "      bookReview_factor_score.append(score)\n",
        "      # row['bookReview_factor_topic'] = lda_model_BookReviews.print_topic(index, 5)\n",
        "      break;"
      ],
      "metadata": {
        "id": "tk1Cpgfhrqbp"
      },
      "execution_count": null,
      "outputs": []
    },
    {
      "cell_type": "code",
      "source": [
        "train_news['bookReview_factor_score'] = bookReview_factor_score"
      ],
      "metadata": {
        "id": "uC4sAue_OFCH"
      },
      "execution_count": null,
      "outputs": []
    },
    {
      "cell_type": "code",
      "source": [
        "train_news.head(5)"
      ],
      "metadata": {
        "colab": {
          "base_uri": "https://localhost:8080/",
          "height": 461
        },
        "id": "Z-AOSpfYsOEY",
        "outputId": "e3d209ab-5c18-4c9f-91d6-0846c3d4c9e2"
      },
      "execution_count": null,
      "outputs": [
        {
          "output_type": "execute_result",
          "data": {
            "text/plain": [
              "       jsonid        label                                      headline_text  \\\n",
              "0   2635.json        false  Says the Annies List political group supports ...   \n",
              "1  10540.json    half-true  When did the decline of coal start? It started...   \n",
              "2    324.json  mostly-true  Hillary Clinton agrees with John McCain \"by vo...   \n",
              "3   1123.json        false  Health care reform legislation is likely to ma...   \n",
              "4   9028.json    half-true  The economic turnaround started at the end of ...   \n",
              "\n",
              "                              subject         speaker       speakerjobtitle  \\\n",
              "0                            abortion    dwayne-bohac  State representative   \n",
              "1  energy,history,job-accomplishments  scott-surovell        State delegate   \n",
              "2                      foreign-policy    barack-obama             President   \n",
              "3                         health-care    blog-posting                   NaN   \n",
              "4                        economy,jobs   charlie-crist                   NaN   \n",
              "\n",
              "  stateinfo partyaffiliation  barelytruecounts  falsecounts  halftruecounts  \\\n",
              "0     Texas       republican               0.0          1.0             0.0   \n",
              "1  Virginia         democrat               0.0          0.0             1.0   \n",
              "2  Illinois         democrat              70.0         71.0           160.0   \n",
              "3       NaN             none               7.0         19.0             3.0   \n",
              "4   Florida         democrat              15.0          9.0            20.0   \n",
              "\n",
              "   mostlytrueocunts  pantsonfirecounts              context  \\\n",
              "0               0.0                0.0             a mailer   \n",
              "1               1.0                0.0      a floor speech.   \n",
              "2             163.0                9.0               Denver   \n",
              "3               5.0               44.0       a news release   \n",
              "4              19.0                2.0  an interview on CNN   \n",
              "\n",
              "   business_factor_score  broadcast_factor_score  bookReview_factor_score  \n",
              "0               0.703164                0.549374                 0.100000  \n",
              "1               0.396987                0.846397                 0.100000  \n",
              "2               0.605577                0.438088                 0.100000  \n",
              "3               0.317883                0.403089                 0.549979  \n",
              "4               0.436707                0.532862                 0.100000  "
            ],
            "text/html": [
              "\n",
              "  <div id=\"df-9f94179a-d97a-47a9-bdfb-266145eb12c9\">\n",
              "    <div class=\"colab-df-container\">\n",
              "      <div>\n",
              "<style scoped>\n",
              "    .dataframe tbody tr th:only-of-type {\n",
              "        vertical-align: middle;\n",
              "    }\n",
              "\n",
              "    .dataframe tbody tr th {\n",
              "        vertical-align: top;\n",
              "    }\n",
              "\n",
              "    .dataframe thead th {\n",
              "        text-align: right;\n",
              "    }\n",
              "</style>\n",
              "<table border=\"1\" class=\"dataframe\">\n",
              "  <thead>\n",
              "    <tr style=\"text-align: right;\">\n",
              "      <th></th>\n",
              "      <th>jsonid</th>\n",
              "      <th>label</th>\n",
              "      <th>headline_text</th>\n",
              "      <th>subject</th>\n",
              "      <th>speaker</th>\n",
              "      <th>speakerjobtitle</th>\n",
              "      <th>stateinfo</th>\n",
              "      <th>partyaffiliation</th>\n",
              "      <th>barelytruecounts</th>\n",
              "      <th>falsecounts</th>\n",
              "      <th>halftruecounts</th>\n",
              "      <th>mostlytrueocunts</th>\n",
              "      <th>pantsonfirecounts</th>\n",
              "      <th>context</th>\n",
              "      <th>business_factor_score</th>\n",
              "      <th>broadcast_factor_score</th>\n",
              "      <th>bookReview_factor_score</th>\n",
              "    </tr>\n",
              "  </thead>\n",
              "  <tbody>\n",
              "    <tr>\n",
              "      <th>0</th>\n",
              "      <td>2635.json</td>\n",
              "      <td>false</td>\n",
              "      <td>Says the Annies List political group supports ...</td>\n",
              "      <td>abortion</td>\n",
              "      <td>dwayne-bohac</td>\n",
              "      <td>State representative</td>\n",
              "      <td>Texas</td>\n",
              "      <td>republican</td>\n",
              "      <td>0.0</td>\n",
              "      <td>1.0</td>\n",
              "      <td>0.0</td>\n",
              "      <td>0.0</td>\n",
              "      <td>0.0</td>\n",
              "      <td>a mailer</td>\n",
              "      <td>0.703164</td>\n",
              "      <td>0.549374</td>\n",
              "      <td>0.100000</td>\n",
              "    </tr>\n",
              "    <tr>\n",
              "      <th>1</th>\n",
              "      <td>10540.json</td>\n",
              "      <td>half-true</td>\n",
              "      <td>When did the decline of coal start? It started...</td>\n",
              "      <td>energy,history,job-accomplishments</td>\n",
              "      <td>scott-surovell</td>\n",
              "      <td>State delegate</td>\n",
              "      <td>Virginia</td>\n",
              "      <td>democrat</td>\n",
              "      <td>0.0</td>\n",
              "      <td>0.0</td>\n",
              "      <td>1.0</td>\n",
              "      <td>1.0</td>\n",
              "      <td>0.0</td>\n",
              "      <td>a floor speech.</td>\n",
              "      <td>0.396987</td>\n",
              "      <td>0.846397</td>\n",
              "      <td>0.100000</td>\n",
              "    </tr>\n",
              "    <tr>\n",
              "      <th>2</th>\n",
              "      <td>324.json</td>\n",
              "      <td>mostly-true</td>\n",
              "      <td>Hillary Clinton agrees with John McCain \"by vo...</td>\n",
              "      <td>foreign-policy</td>\n",
              "      <td>barack-obama</td>\n",
              "      <td>President</td>\n",
              "      <td>Illinois</td>\n",
              "      <td>democrat</td>\n",
              "      <td>70.0</td>\n",
              "      <td>71.0</td>\n",
              "      <td>160.0</td>\n",
              "      <td>163.0</td>\n",
              "      <td>9.0</td>\n",
              "      <td>Denver</td>\n",
              "      <td>0.605577</td>\n",
              "      <td>0.438088</td>\n",
              "      <td>0.100000</td>\n",
              "    </tr>\n",
              "    <tr>\n",
              "      <th>3</th>\n",
              "      <td>1123.json</td>\n",
              "      <td>false</td>\n",
              "      <td>Health care reform legislation is likely to ma...</td>\n",
              "      <td>health-care</td>\n",
              "      <td>blog-posting</td>\n",
              "      <td>NaN</td>\n",
              "      <td>NaN</td>\n",
              "      <td>none</td>\n",
              "      <td>7.0</td>\n",
              "      <td>19.0</td>\n",
              "      <td>3.0</td>\n",
              "      <td>5.0</td>\n",
              "      <td>44.0</td>\n",
              "      <td>a news release</td>\n",
              "      <td>0.317883</td>\n",
              "      <td>0.403089</td>\n",
              "      <td>0.549979</td>\n",
              "    </tr>\n",
              "    <tr>\n",
              "      <th>4</th>\n",
              "      <td>9028.json</td>\n",
              "      <td>half-true</td>\n",
              "      <td>The economic turnaround started at the end of ...</td>\n",
              "      <td>economy,jobs</td>\n",
              "      <td>charlie-crist</td>\n",
              "      <td>NaN</td>\n",
              "      <td>Florida</td>\n",
              "      <td>democrat</td>\n",
              "      <td>15.0</td>\n",
              "      <td>9.0</td>\n",
              "      <td>20.0</td>\n",
              "      <td>19.0</td>\n",
              "      <td>2.0</td>\n",
              "      <td>an interview on CNN</td>\n",
              "      <td>0.436707</td>\n",
              "      <td>0.532862</td>\n",
              "      <td>0.100000</td>\n",
              "    </tr>\n",
              "  </tbody>\n",
              "</table>\n",
              "</div>\n",
              "      <button class=\"colab-df-convert\" onclick=\"convertToInteractive('df-9f94179a-d97a-47a9-bdfb-266145eb12c9')\"\n",
              "              title=\"Convert this dataframe to an interactive table.\"\n",
              "              style=\"display:none;\">\n",
              "        \n",
              "  <svg xmlns=\"http://www.w3.org/2000/svg\" height=\"24px\"viewBox=\"0 0 24 24\"\n",
              "       width=\"24px\">\n",
              "    <path d=\"M0 0h24v24H0V0z\" fill=\"none\"/>\n",
              "    <path d=\"M18.56 5.44l.94 2.06.94-2.06 2.06-.94-2.06-.94-.94-2.06-.94 2.06-2.06.94zm-11 1L8.5 8.5l.94-2.06 2.06-.94-2.06-.94L8.5 2.5l-.94 2.06-2.06.94zm10 10l.94 2.06.94-2.06 2.06-.94-2.06-.94-.94-2.06-.94 2.06-2.06.94z\"/><path d=\"M17.41 7.96l-1.37-1.37c-.4-.4-.92-.59-1.43-.59-.52 0-1.04.2-1.43.59L10.3 9.45l-7.72 7.72c-.78.78-.78 2.05 0 2.83L4 21.41c.39.39.9.59 1.41.59.51 0 1.02-.2 1.41-.59l7.78-7.78 2.81-2.81c.8-.78.8-2.07 0-2.86zM5.41 20L4 18.59l7.72-7.72 1.47 1.35L5.41 20z\"/>\n",
              "  </svg>\n",
              "      </button>\n",
              "      \n",
              "  <style>\n",
              "    .colab-df-container {\n",
              "      display:flex;\n",
              "      flex-wrap:wrap;\n",
              "      gap: 12px;\n",
              "    }\n",
              "\n",
              "    .colab-df-convert {\n",
              "      background-color: #E8F0FE;\n",
              "      border: none;\n",
              "      border-radius: 50%;\n",
              "      cursor: pointer;\n",
              "      display: none;\n",
              "      fill: #1967D2;\n",
              "      height: 32px;\n",
              "      padding: 0 0 0 0;\n",
              "      width: 32px;\n",
              "    }\n",
              "\n",
              "    .colab-df-convert:hover {\n",
              "      background-color: #E2EBFA;\n",
              "      box-shadow: 0px 1px 2px rgba(60, 64, 67, 0.3), 0px 1px 3px 1px rgba(60, 64, 67, 0.15);\n",
              "      fill: #174EA6;\n",
              "    }\n",
              "\n",
              "    [theme=dark] .colab-df-convert {\n",
              "      background-color: #3B4455;\n",
              "      fill: #D2E3FC;\n",
              "    }\n",
              "\n",
              "    [theme=dark] .colab-df-convert:hover {\n",
              "      background-color: #434B5C;\n",
              "      box-shadow: 0px 1px 3px 1px rgba(0, 0, 0, 0.15);\n",
              "      filter: drop-shadow(0px 1px 2px rgba(0, 0, 0, 0.3));\n",
              "      fill: #FFFFFF;\n",
              "    }\n",
              "  </style>\n",
              "\n",
              "      <script>\n",
              "        const buttonEl =\n",
              "          document.querySelector('#df-9f94179a-d97a-47a9-bdfb-266145eb12c9 button.colab-df-convert');\n",
              "        buttonEl.style.display =\n",
              "          google.colab.kernel.accessAllowed ? 'block' : 'none';\n",
              "\n",
              "        async function convertToInteractive(key) {\n",
              "          const element = document.querySelector('#df-9f94179a-d97a-47a9-bdfb-266145eb12c9');\n",
              "          const dataTable =\n",
              "            await google.colab.kernel.invokeFunction('convertToInteractive',\n",
              "                                                     [key], {});\n",
              "          if (!dataTable) return;\n",
              "\n",
              "          const docLinkHtml = 'Like what you see? Visit the ' +\n",
              "            '<a target=\"_blank\" href=https://colab.research.google.com/notebooks/data_table.ipynb>data table notebook</a>'\n",
              "            + ' to learn more about interactive tables.';\n",
              "          element.innerHTML = '';\n",
              "          dataTable['output_type'] = 'display_data';\n",
              "          await google.colab.output.renderOutput(dataTable, element);\n",
              "          const docLink = document.createElement('div');\n",
              "          docLink.innerHTML = docLinkHtml;\n",
              "          element.appendChild(docLink);\n",
              "        }\n",
              "      </script>\n",
              "    </div>\n",
              "  </div>\n",
              "  "
            ]
          },
          "metadata": {},
          "execution_count": 109
        }
      ]
    },
    {
      "cell_type": "code",
      "source": [
        "bookReview_factor_score1=[]\n",
        "test_news['bookReview_factor_score'] = \"\"\n",
        "\n",
        "for index, row in test_news.iterrows():\n",
        "    title = row['headline_text']\n",
        "    bow_vector = dictionary_BookReviews.doc2bow(preprocess(title))\n",
        "    for index, score in sorted(lda_model_BookReviews[bow_vector], key=lambda tup: -1*tup[1]): \n",
        "      # row['bookReview_factor_score'] = score\n",
        "      bookReview_factor_score1.append(score)\n",
        "      # row['bookReview_factor_topic'] = lda_model_BookReviews.print_topic(index, 5)\n",
        "      break;\n",
        "  \n",
        "test_news['bookReview_factor_score'] = bookReview_factor_score1"
      ],
      "metadata": {
        "id": "eTvyviKhRF60"
      },
      "execution_count": null,
      "outputs": []
    },
    {
      "cell_type": "markdown",
      "source": [
        "## Report factor score for new data"
      ],
      "metadata": {
        "id": "tx9WeaOxsdPG"
      }
    },
    {
      "cell_type": "code",
      "source": [
        "report_factor_score = []\n",
        "train_news['report_factor_score'] = \"\""
      ],
      "metadata": {
        "id": "fGunst7Dsgx3"
      },
      "execution_count": null,
      "outputs": []
    },
    {
      "cell_type": "code",
      "source": [
        "for index, row in train_news.iterrows():\n",
        "    title = row['headline_text']\n",
        "    bow_vector = dictionary_Reports.doc2bow(preprocess(title))\n",
        "    for index, score in sorted(lda_model_Reports[bow_vector], key=lambda tup: -1*tup[1]): \n",
        "      # row['report_factor_score'] = score\n",
        "      report_factor_score.append(score)\n",
        "      # row['report_factor_topic'] = lda_model_Reports.print_topic(index, 5)\n",
        "      break;"
      ],
      "metadata": {
        "id": "iL0mL1kDsgt5"
      },
      "execution_count": null,
      "outputs": []
    },
    {
      "cell_type": "code",
      "source": [
        "train_news['report_factor_score'] =report_factor_score"
      ],
      "metadata": {
        "id": "IV-PEYVBOSZr"
      },
      "execution_count": null,
      "outputs": []
    },
    {
      "cell_type": "code",
      "source": [
        "train_news.head(5)"
      ],
      "metadata": {
        "colab": {
          "base_uri": "https://localhost:8080/",
          "height": 461
        },
        "id": "emL9bRfSszqb",
        "outputId": "621f7b63-1e4a-417e-bbab-b94929644733"
      },
      "execution_count": null,
      "outputs": [
        {
          "output_type": "execute_result",
          "data": {
            "text/plain": [
              "       jsonid        label                                      headline_text  \\\n",
              "0   2635.json        false  Says the Annies List political group supports ...   \n",
              "1  10540.json    half-true  When did the decline of coal start? It started...   \n",
              "2    324.json  mostly-true  Hillary Clinton agrees with John McCain \"by vo...   \n",
              "3   1123.json        false  Health care reform legislation is likely to ma...   \n",
              "4   9028.json    half-true  The economic turnaround started at the end of ...   \n",
              "\n",
              "                              subject         speaker       speakerjobtitle  \\\n",
              "0                            abortion    dwayne-bohac  State representative   \n",
              "1  energy,history,job-accomplishments  scott-surovell        State delegate   \n",
              "2                      foreign-policy    barack-obama             President   \n",
              "3                         health-care    blog-posting                   NaN   \n",
              "4                        economy,jobs   charlie-crist                   NaN   \n",
              "\n",
              "  stateinfo partyaffiliation  barelytruecounts  falsecounts  halftruecounts  \\\n",
              "0     Texas       republican               0.0          1.0             0.0   \n",
              "1  Virginia         democrat               0.0          0.0             1.0   \n",
              "2  Illinois         democrat              70.0         71.0           160.0   \n",
              "3       NaN             none               7.0         19.0             3.0   \n",
              "4   Florida         democrat              15.0          9.0            20.0   \n",
              "\n",
              "   mostlytrueocunts  pantsonfirecounts              context  \\\n",
              "0               0.0                0.0             a mailer   \n",
              "1               1.0                0.0      a floor speech.   \n",
              "2             163.0                9.0               Denver   \n",
              "3               5.0               44.0       a news release   \n",
              "4              19.0                2.0  an interview on CNN   \n",
              "\n",
              "   business_factor_score  broadcast_factor_score  bookReview_factor_score  \\\n",
              "0               0.703164                0.549374                 0.100000   \n",
              "1               0.396987                0.846397                 0.100000   \n",
              "2               0.605577                0.438088                 0.100000   \n",
              "3               0.317883                0.403089                 0.549979   \n",
              "4               0.436707                0.532862                 0.100000   \n",
              "\n",
              "   report_factor_score  \n",
              "0             0.350016  \n",
              "1             0.481591  \n",
              "2             0.366671  \n",
              "3             0.325220  \n",
              "4             0.524995  "
            ],
            "text/html": [
              "\n",
              "  <div id=\"df-ff671410-a9b2-4d9a-9a48-861e81cd4f77\">\n",
              "    <div class=\"colab-df-container\">\n",
              "      <div>\n",
              "<style scoped>\n",
              "    .dataframe tbody tr th:only-of-type {\n",
              "        vertical-align: middle;\n",
              "    }\n",
              "\n",
              "    .dataframe tbody tr th {\n",
              "        vertical-align: top;\n",
              "    }\n",
              "\n",
              "    .dataframe thead th {\n",
              "        text-align: right;\n",
              "    }\n",
              "</style>\n",
              "<table border=\"1\" class=\"dataframe\">\n",
              "  <thead>\n",
              "    <tr style=\"text-align: right;\">\n",
              "      <th></th>\n",
              "      <th>jsonid</th>\n",
              "      <th>label</th>\n",
              "      <th>headline_text</th>\n",
              "      <th>subject</th>\n",
              "      <th>speaker</th>\n",
              "      <th>speakerjobtitle</th>\n",
              "      <th>stateinfo</th>\n",
              "      <th>partyaffiliation</th>\n",
              "      <th>barelytruecounts</th>\n",
              "      <th>falsecounts</th>\n",
              "      <th>halftruecounts</th>\n",
              "      <th>mostlytrueocunts</th>\n",
              "      <th>pantsonfirecounts</th>\n",
              "      <th>context</th>\n",
              "      <th>business_factor_score</th>\n",
              "      <th>broadcast_factor_score</th>\n",
              "      <th>bookReview_factor_score</th>\n",
              "      <th>report_factor_score</th>\n",
              "    </tr>\n",
              "  </thead>\n",
              "  <tbody>\n",
              "    <tr>\n",
              "      <th>0</th>\n",
              "      <td>2635.json</td>\n",
              "      <td>false</td>\n",
              "      <td>Says the Annies List political group supports ...</td>\n",
              "      <td>abortion</td>\n",
              "      <td>dwayne-bohac</td>\n",
              "      <td>State representative</td>\n",
              "      <td>Texas</td>\n",
              "      <td>republican</td>\n",
              "      <td>0.0</td>\n",
              "      <td>1.0</td>\n",
              "      <td>0.0</td>\n",
              "      <td>0.0</td>\n",
              "      <td>0.0</td>\n",
              "      <td>a mailer</td>\n",
              "      <td>0.703164</td>\n",
              "      <td>0.549374</td>\n",
              "      <td>0.100000</td>\n",
              "      <td>0.350016</td>\n",
              "    </tr>\n",
              "    <tr>\n",
              "      <th>1</th>\n",
              "      <td>10540.json</td>\n",
              "      <td>half-true</td>\n",
              "      <td>When did the decline of coal start? It started...</td>\n",
              "      <td>energy,history,job-accomplishments</td>\n",
              "      <td>scott-surovell</td>\n",
              "      <td>State delegate</td>\n",
              "      <td>Virginia</td>\n",
              "      <td>democrat</td>\n",
              "      <td>0.0</td>\n",
              "      <td>0.0</td>\n",
              "      <td>1.0</td>\n",
              "      <td>1.0</td>\n",
              "      <td>0.0</td>\n",
              "      <td>a floor speech.</td>\n",
              "      <td>0.396987</td>\n",
              "      <td>0.846397</td>\n",
              "      <td>0.100000</td>\n",
              "      <td>0.481591</td>\n",
              "    </tr>\n",
              "    <tr>\n",
              "      <th>2</th>\n",
              "      <td>324.json</td>\n",
              "      <td>mostly-true</td>\n",
              "      <td>Hillary Clinton agrees with John McCain \"by vo...</td>\n",
              "      <td>foreign-policy</td>\n",
              "      <td>barack-obama</td>\n",
              "      <td>President</td>\n",
              "      <td>Illinois</td>\n",
              "      <td>democrat</td>\n",
              "      <td>70.0</td>\n",
              "      <td>71.0</td>\n",
              "      <td>160.0</td>\n",
              "      <td>163.0</td>\n",
              "      <td>9.0</td>\n",
              "      <td>Denver</td>\n",
              "      <td>0.605577</td>\n",
              "      <td>0.438088</td>\n",
              "      <td>0.100000</td>\n",
              "      <td>0.366671</td>\n",
              "    </tr>\n",
              "    <tr>\n",
              "      <th>3</th>\n",
              "      <td>1123.json</td>\n",
              "      <td>false</td>\n",
              "      <td>Health care reform legislation is likely to ma...</td>\n",
              "      <td>health-care</td>\n",
              "      <td>blog-posting</td>\n",
              "      <td>NaN</td>\n",
              "      <td>NaN</td>\n",
              "      <td>none</td>\n",
              "      <td>7.0</td>\n",
              "      <td>19.0</td>\n",
              "      <td>3.0</td>\n",
              "      <td>5.0</td>\n",
              "      <td>44.0</td>\n",
              "      <td>a news release</td>\n",
              "      <td>0.317883</td>\n",
              "      <td>0.403089</td>\n",
              "      <td>0.549979</td>\n",
              "      <td>0.325220</td>\n",
              "    </tr>\n",
              "    <tr>\n",
              "      <th>4</th>\n",
              "      <td>9028.json</td>\n",
              "      <td>half-true</td>\n",
              "      <td>The economic turnaround started at the end of ...</td>\n",
              "      <td>economy,jobs</td>\n",
              "      <td>charlie-crist</td>\n",
              "      <td>NaN</td>\n",
              "      <td>Florida</td>\n",
              "      <td>democrat</td>\n",
              "      <td>15.0</td>\n",
              "      <td>9.0</td>\n",
              "      <td>20.0</td>\n",
              "      <td>19.0</td>\n",
              "      <td>2.0</td>\n",
              "      <td>an interview on CNN</td>\n",
              "      <td>0.436707</td>\n",
              "      <td>0.532862</td>\n",
              "      <td>0.100000</td>\n",
              "      <td>0.524995</td>\n",
              "    </tr>\n",
              "  </tbody>\n",
              "</table>\n",
              "</div>\n",
              "      <button class=\"colab-df-convert\" onclick=\"convertToInteractive('df-ff671410-a9b2-4d9a-9a48-861e81cd4f77')\"\n",
              "              title=\"Convert this dataframe to an interactive table.\"\n",
              "              style=\"display:none;\">\n",
              "        \n",
              "  <svg xmlns=\"http://www.w3.org/2000/svg\" height=\"24px\"viewBox=\"0 0 24 24\"\n",
              "       width=\"24px\">\n",
              "    <path d=\"M0 0h24v24H0V0z\" fill=\"none\"/>\n",
              "    <path d=\"M18.56 5.44l.94 2.06.94-2.06 2.06-.94-2.06-.94-.94-2.06-.94 2.06-2.06.94zm-11 1L8.5 8.5l.94-2.06 2.06-.94-2.06-.94L8.5 2.5l-.94 2.06-2.06.94zm10 10l.94 2.06.94-2.06 2.06-.94-2.06-.94-.94-2.06-.94 2.06-2.06.94z\"/><path d=\"M17.41 7.96l-1.37-1.37c-.4-.4-.92-.59-1.43-.59-.52 0-1.04.2-1.43.59L10.3 9.45l-7.72 7.72c-.78.78-.78 2.05 0 2.83L4 21.41c.39.39.9.59 1.41.59.51 0 1.02-.2 1.41-.59l7.78-7.78 2.81-2.81c.8-.78.8-2.07 0-2.86zM5.41 20L4 18.59l7.72-7.72 1.47 1.35L5.41 20z\"/>\n",
              "  </svg>\n",
              "      </button>\n",
              "      \n",
              "  <style>\n",
              "    .colab-df-container {\n",
              "      display:flex;\n",
              "      flex-wrap:wrap;\n",
              "      gap: 12px;\n",
              "    }\n",
              "\n",
              "    .colab-df-convert {\n",
              "      background-color: #E8F0FE;\n",
              "      border: none;\n",
              "      border-radius: 50%;\n",
              "      cursor: pointer;\n",
              "      display: none;\n",
              "      fill: #1967D2;\n",
              "      height: 32px;\n",
              "      padding: 0 0 0 0;\n",
              "      width: 32px;\n",
              "    }\n",
              "\n",
              "    .colab-df-convert:hover {\n",
              "      background-color: #E2EBFA;\n",
              "      box-shadow: 0px 1px 2px rgba(60, 64, 67, 0.3), 0px 1px 3px 1px rgba(60, 64, 67, 0.15);\n",
              "      fill: #174EA6;\n",
              "    }\n",
              "\n",
              "    [theme=dark] .colab-df-convert {\n",
              "      background-color: #3B4455;\n",
              "      fill: #D2E3FC;\n",
              "    }\n",
              "\n",
              "    [theme=dark] .colab-df-convert:hover {\n",
              "      background-color: #434B5C;\n",
              "      box-shadow: 0px 1px 3px 1px rgba(0, 0, 0, 0.15);\n",
              "      filter: drop-shadow(0px 1px 2px rgba(0, 0, 0, 0.3));\n",
              "      fill: #FFFFFF;\n",
              "    }\n",
              "  </style>\n",
              "\n",
              "      <script>\n",
              "        const buttonEl =\n",
              "          document.querySelector('#df-ff671410-a9b2-4d9a-9a48-861e81cd4f77 button.colab-df-convert');\n",
              "        buttonEl.style.display =\n",
              "          google.colab.kernel.accessAllowed ? 'block' : 'none';\n",
              "\n",
              "        async function convertToInteractive(key) {\n",
              "          const element = document.querySelector('#df-ff671410-a9b2-4d9a-9a48-861e81cd4f77');\n",
              "          const dataTable =\n",
              "            await google.colab.kernel.invokeFunction('convertToInteractive',\n",
              "                                                     [key], {});\n",
              "          if (!dataTable) return;\n",
              "\n",
              "          const docLinkHtml = 'Like what you see? Visit the ' +\n",
              "            '<a target=\"_blank\" href=https://colab.research.google.com/notebooks/data_table.ipynb>data table notebook</a>'\n",
              "            + ' to learn more about interactive tables.';\n",
              "          element.innerHTML = '';\n",
              "          dataTable['output_type'] = 'display_data';\n",
              "          await google.colab.output.renderOutput(dataTable, element);\n",
              "          const docLink = document.createElement('div');\n",
              "          docLink.innerHTML = docLinkHtml;\n",
              "          element.appendChild(docLink);\n",
              "        }\n",
              "      </script>\n",
              "    </div>\n",
              "  </div>\n",
              "  "
            ]
          },
          "metadata": {},
          "execution_count": 114
        }
      ]
    },
    {
      "cell_type": "code",
      "source": [
        "report_factor_score1 = []\n",
        "test_news['report_factor_score'] = \"\"\n",
        "\n",
        "for index, row in test_news.iterrows():\n",
        "    title = row['headline_text']\n",
        "    bow_vector = dictionary_Reports.doc2bow(preprocess(title))\n",
        "    for index, score in sorted(lda_model_Reports[bow_vector], key=lambda tup: -1*tup[1]): \n",
        "      # row['report_factor_score'] = score\n",
        "      report_factor_score1.append(score)\n",
        "      # row['report_factor_topic'] = lda_model_Reports.print_topic(index, 5)\n",
        "      break;\n",
        "\n",
        "test_news['report_factor_score'] =report_factor_score1"
      ],
      "metadata": {
        "id": "MJ5tTUo8RXW7"
      },
      "execution_count": null,
      "outputs": []
    },
    {
      "cell_type": "markdown",
      "source": [
        "Save dataset to drive"
      ],
      "metadata": {
        "id": "YD4I3ehkOnOX"
      }
    },
    {
      "cell_type": "code",
      "source": [
        "path = '/content/drive/MyDrive/ML-Spring-2022/TheTrio/Sprint3NLP/trainFactorScore.csv'\n",
        "\n",
        "with open(path, 'w', encoding = 'utf-8-sig') as f:\n",
        "  train_news.to_csv(f)"
      ],
      "metadata": {
        "id": "R44cfSk-Om3_"
      },
      "execution_count": null,
      "outputs": []
    },
    {
      "cell_type": "markdown",
      "source": [
        "save test dataset"
      ],
      "metadata": {
        "id": "Si8Zlqd7OlKo"
      }
    },
    {
      "cell_type": "code",
      "source": [
        "path = '/content/drive/MyDrive/ML-Spring-2022/TheTrio/Sprint3NLP/testFactorScore.csv'\n",
        "\n",
        "with open(path, 'w', encoding = 'utf-8-sig') as f:\n",
        "  test_news.to_csv(f)"
      ],
      "metadata": {
        "id": "Ykmhns2eOk4j"
      },
      "execution_count": null,
      "outputs": []
    },
    {
      "cell_type": "markdown",
      "source": [
        "So above dataframe gives the score for microfactors for given headline text.   \n",
        "The score for each microfactor gives microfactor coverage in the text"
      ],
      "metadata": {
        "id": "I70DL2KhhBpO"
      }
    },
    {
      "cell_type": "code",
      "source": [
        "train_news.head(5)"
      ],
      "metadata": {
        "colab": {
          "base_uri": "https://localhost:8080/",
          "height": 461
        },
        "id": "S4aItudO8fih",
        "outputId": "f5ea9432-7a0c-4ccb-87b2-553bac8eb412"
      },
      "execution_count": 149,
      "outputs": [
        {
          "output_type": "execute_result",
          "data": {
            "text/plain": [
              "       jsonid        label                                      headline_text  \\\n",
              "0   2635.json        false  Says the Annies List political group supports ...   \n",
              "1  10540.json    half-true  When did the decline of coal start? It started...   \n",
              "2    324.json  mostly-true  Hillary Clinton agrees with John McCain \"by vo...   \n",
              "3   1123.json        false  Health care reform legislation is likely to ma...   \n",
              "4   9028.json    half-true  The economic turnaround started at the end of ...   \n",
              "\n",
              "                              subject         speaker       speakerjobtitle  \\\n",
              "0                            abortion    dwayne-bohac  State representative   \n",
              "1  energy,history,job-accomplishments  scott-surovell        State delegate   \n",
              "2                      foreign-policy    barack-obama             President   \n",
              "3                         health-care    blog-posting                   NaN   \n",
              "4                        economy,jobs   charlie-crist                   NaN   \n",
              "\n",
              "  stateinfo partyaffiliation  barelytruecounts  falsecounts  halftruecounts  \\\n",
              "0     Texas       republican               0.0          1.0             0.0   \n",
              "1  Virginia         democrat               0.0          0.0             1.0   \n",
              "2  Illinois         democrat              70.0         71.0           160.0   \n",
              "3       NaN             none               7.0         19.0             3.0   \n",
              "4   Florida         democrat              15.0          9.0            20.0   \n",
              "\n",
              "   mostlytrueocunts  pantsonfirecounts              context  \\\n",
              "0               0.0                0.0             a mailer   \n",
              "1               1.0                0.0      a floor speech.   \n",
              "2             163.0                9.0               Denver   \n",
              "3               5.0               44.0       a news release   \n",
              "4              19.0                2.0  an interview on CNN   \n",
              "\n",
              "   business_factor_score  broadcast_factor_score  bookReview_factor_score  \\\n",
              "0               0.703164                0.549374                 0.100000   \n",
              "1               0.396987                0.846397                 0.100000   \n",
              "2               0.605577                0.438088                 0.100000   \n",
              "3               0.317883                0.403089                 0.549979   \n",
              "4               0.436707                0.532862                 0.100000   \n",
              "\n",
              "   report_factor_score  \n",
              "0             0.350016  \n",
              "1             0.481591  \n",
              "2             0.366671  \n",
              "3             0.325220  \n",
              "4             0.524995  "
            ],
            "text/html": [
              "\n",
              "  <div id=\"df-d4e9a757-0a13-442c-8dc2-d0d55b5ef9a3\">\n",
              "    <div class=\"colab-df-container\">\n",
              "      <div>\n",
              "<style scoped>\n",
              "    .dataframe tbody tr th:only-of-type {\n",
              "        vertical-align: middle;\n",
              "    }\n",
              "\n",
              "    .dataframe tbody tr th {\n",
              "        vertical-align: top;\n",
              "    }\n",
              "\n",
              "    .dataframe thead th {\n",
              "        text-align: right;\n",
              "    }\n",
              "</style>\n",
              "<table border=\"1\" class=\"dataframe\">\n",
              "  <thead>\n",
              "    <tr style=\"text-align: right;\">\n",
              "      <th></th>\n",
              "      <th>jsonid</th>\n",
              "      <th>label</th>\n",
              "      <th>headline_text</th>\n",
              "      <th>subject</th>\n",
              "      <th>speaker</th>\n",
              "      <th>speakerjobtitle</th>\n",
              "      <th>stateinfo</th>\n",
              "      <th>partyaffiliation</th>\n",
              "      <th>barelytruecounts</th>\n",
              "      <th>falsecounts</th>\n",
              "      <th>halftruecounts</th>\n",
              "      <th>mostlytrueocunts</th>\n",
              "      <th>pantsonfirecounts</th>\n",
              "      <th>context</th>\n",
              "      <th>business_factor_score</th>\n",
              "      <th>broadcast_factor_score</th>\n",
              "      <th>bookReview_factor_score</th>\n",
              "      <th>report_factor_score</th>\n",
              "    </tr>\n",
              "  </thead>\n",
              "  <tbody>\n",
              "    <tr>\n",
              "      <th>0</th>\n",
              "      <td>2635.json</td>\n",
              "      <td>false</td>\n",
              "      <td>Says the Annies List political group supports ...</td>\n",
              "      <td>abortion</td>\n",
              "      <td>dwayne-bohac</td>\n",
              "      <td>State representative</td>\n",
              "      <td>Texas</td>\n",
              "      <td>republican</td>\n",
              "      <td>0.0</td>\n",
              "      <td>1.0</td>\n",
              "      <td>0.0</td>\n",
              "      <td>0.0</td>\n",
              "      <td>0.0</td>\n",
              "      <td>a mailer</td>\n",
              "      <td>0.703164</td>\n",
              "      <td>0.549374</td>\n",
              "      <td>0.100000</td>\n",
              "      <td>0.350016</td>\n",
              "    </tr>\n",
              "    <tr>\n",
              "      <th>1</th>\n",
              "      <td>10540.json</td>\n",
              "      <td>half-true</td>\n",
              "      <td>When did the decline of coal start? It started...</td>\n",
              "      <td>energy,history,job-accomplishments</td>\n",
              "      <td>scott-surovell</td>\n",
              "      <td>State delegate</td>\n",
              "      <td>Virginia</td>\n",
              "      <td>democrat</td>\n",
              "      <td>0.0</td>\n",
              "      <td>0.0</td>\n",
              "      <td>1.0</td>\n",
              "      <td>1.0</td>\n",
              "      <td>0.0</td>\n",
              "      <td>a floor speech.</td>\n",
              "      <td>0.396987</td>\n",
              "      <td>0.846397</td>\n",
              "      <td>0.100000</td>\n",
              "      <td>0.481591</td>\n",
              "    </tr>\n",
              "    <tr>\n",
              "      <th>2</th>\n",
              "      <td>324.json</td>\n",
              "      <td>mostly-true</td>\n",
              "      <td>Hillary Clinton agrees with John McCain \"by vo...</td>\n",
              "      <td>foreign-policy</td>\n",
              "      <td>barack-obama</td>\n",
              "      <td>President</td>\n",
              "      <td>Illinois</td>\n",
              "      <td>democrat</td>\n",
              "      <td>70.0</td>\n",
              "      <td>71.0</td>\n",
              "      <td>160.0</td>\n",
              "      <td>163.0</td>\n",
              "      <td>9.0</td>\n",
              "      <td>Denver</td>\n",
              "      <td>0.605577</td>\n",
              "      <td>0.438088</td>\n",
              "      <td>0.100000</td>\n",
              "      <td>0.366671</td>\n",
              "    </tr>\n",
              "    <tr>\n",
              "      <th>3</th>\n",
              "      <td>1123.json</td>\n",
              "      <td>false</td>\n",
              "      <td>Health care reform legislation is likely to ma...</td>\n",
              "      <td>health-care</td>\n",
              "      <td>blog-posting</td>\n",
              "      <td>NaN</td>\n",
              "      <td>NaN</td>\n",
              "      <td>none</td>\n",
              "      <td>7.0</td>\n",
              "      <td>19.0</td>\n",
              "      <td>3.0</td>\n",
              "      <td>5.0</td>\n",
              "      <td>44.0</td>\n",
              "      <td>a news release</td>\n",
              "      <td>0.317883</td>\n",
              "      <td>0.403089</td>\n",
              "      <td>0.549979</td>\n",
              "      <td>0.325220</td>\n",
              "    </tr>\n",
              "    <tr>\n",
              "      <th>4</th>\n",
              "      <td>9028.json</td>\n",
              "      <td>half-true</td>\n",
              "      <td>The economic turnaround started at the end of ...</td>\n",
              "      <td>economy,jobs</td>\n",
              "      <td>charlie-crist</td>\n",
              "      <td>NaN</td>\n",
              "      <td>Florida</td>\n",
              "      <td>democrat</td>\n",
              "      <td>15.0</td>\n",
              "      <td>9.0</td>\n",
              "      <td>20.0</td>\n",
              "      <td>19.0</td>\n",
              "      <td>2.0</td>\n",
              "      <td>an interview on CNN</td>\n",
              "      <td>0.436707</td>\n",
              "      <td>0.532862</td>\n",
              "      <td>0.100000</td>\n",
              "      <td>0.524995</td>\n",
              "    </tr>\n",
              "  </tbody>\n",
              "</table>\n",
              "</div>\n",
              "      <button class=\"colab-df-convert\" onclick=\"convertToInteractive('df-d4e9a757-0a13-442c-8dc2-d0d55b5ef9a3')\"\n",
              "              title=\"Convert this dataframe to an interactive table.\"\n",
              "              style=\"display:none;\">\n",
              "        \n",
              "  <svg xmlns=\"http://www.w3.org/2000/svg\" height=\"24px\"viewBox=\"0 0 24 24\"\n",
              "       width=\"24px\">\n",
              "    <path d=\"M0 0h24v24H0V0z\" fill=\"none\"/>\n",
              "    <path d=\"M18.56 5.44l.94 2.06.94-2.06 2.06-.94-2.06-.94-.94-2.06-.94 2.06-2.06.94zm-11 1L8.5 8.5l.94-2.06 2.06-.94-2.06-.94L8.5 2.5l-.94 2.06-2.06.94zm10 10l.94 2.06.94-2.06 2.06-.94-2.06-.94-.94-2.06-.94 2.06-2.06.94z\"/><path d=\"M17.41 7.96l-1.37-1.37c-.4-.4-.92-.59-1.43-.59-.52 0-1.04.2-1.43.59L10.3 9.45l-7.72 7.72c-.78.78-.78 2.05 0 2.83L4 21.41c.39.39.9.59 1.41.59.51 0 1.02-.2 1.41-.59l7.78-7.78 2.81-2.81c.8-.78.8-2.07 0-2.86zM5.41 20L4 18.59l7.72-7.72 1.47 1.35L5.41 20z\"/>\n",
              "  </svg>\n",
              "      </button>\n",
              "      \n",
              "  <style>\n",
              "    .colab-df-container {\n",
              "      display:flex;\n",
              "      flex-wrap:wrap;\n",
              "      gap: 12px;\n",
              "    }\n",
              "\n",
              "    .colab-df-convert {\n",
              "      background-color: #E8F0FE;\n",
              "      border: none;\n",
              "      border-radius: 50%;\n",
              "      cursor: pointer;\n",
              "      display: none;\n",
              "      fill: #1967D2;\n",
              "      height: 32px;\n",
              "      padding: 0 0 0 0;\n",
              "      width: 32px;\n",
              "    }\n",
              "\n",
              "    .colab-df-convert:hover {\n",
              "      background-color: #E2EBFA;\n",
              "      box-shadow: 0px 1px 2px rgba(60, 64, 67, 0.3), 0px 1px 3px 1px rgba(60, 64, 67, 0.15);\n",
              "      fill: #174EA6;\n",
              "    }\n",
              "\n",
              "    [theme=dark] .colab-df-convert {\n",
              "      background-color: #3B4455;\n",
              "      fill: #D2E3FC;\n",
              "    }\n",
              "\n",
              "    [theme=dark] .colab-df-convert:hover {\n",
              "      background-color: #434B5C;\n",
              "      box-shadow: 0px 1px 3px 1px rgba(0, 0, 0, 0.15);\n",
              "      filter: drop-shadow(0px 1px 2px rgba(0, 0, 0, 0.3));\n",
              "      fill: #FFFFFF;\n",
              "    }\n",
              "  </style>\n",
              "\n",
              "      <script>\n",
              "        const buttonEl =\n",
              "          document.querySelector('#df-d4e9a757-0a13-442c-8dc2-d0d55b5ef9a3 button.colab-df-convert');\n",
              "        buttonEl.style.display =\n",
              "          google.colab.kernel.accessAllowed ? 'block' : 'none';\n",
              "\n",
              "        async function convertToInteractive(key) {\n",
              "          const element = document.querySelector('#df-d4e9a757-0a13-442c-8dc2-d0d55b5ef9a3');\n",
              "          const dataTable =\n",
              "            await google.colab.kernel.invokeFunction('convertToInteractive',\n",
              "                                                     [key], {});\n",
              "          if (!dataTable) return;\n",
              "\n",
              "          const docLinkHtml = 'Like what you see? Visit the ' +\n",
              "            '<a target=\"_blank\" href=https://colab.research.google.com/notebooks/data_table.ipynb>data table notebook</a>'\n",
              "            + ' to learn more about interactive tables.';\n",
              "          element.innerHTML = '';\n",
              "          dataTable['output_type'] = 'display_data';\n",
              "          await google.colab.output.renderOutput(dataTable, element);\n",
              "          const docLink = document.createElement('div');\n",
              "          docLink.innerHTML = docLinkHtml;\n",
              "          element.appendChild(docLink);\n",
              "        }\n",
              "      </script>\n",
              "    </div>\n",
              "  </div>\n",
              "  "
            ]
          },
          "metadata": {},
          "execution_count": 149
        }
      ]
    },
    {
      "cell_type": "markdown",
      "source": [
        "##save model"
      ],
      "metadata": {
        "id": "qbUFbcXvvDpz"
      }
    },
    {
      "cell_type": "code",
      "source": [
        "class NewsCoverage:\n",
        "  @classmethod\n",
        "  def get_BookReview_score(self, text):\n",
        "    score_business=0\n",
        "    bow_vector = dictionary_BookReviews.doc2bow(preprocess(text))\n",
        "    for index, score in sorted(lda_model_BookReviews[bow_vector], key=lambda tup: -1*tup[1]):\n",
        "      score_business = score\n",
        "      break;\n",
        "    return score_business\n",
        "\n",
        "  @classmethod\n",
        "  def get_Report_score(self, text):\n",
        "    score_report=0\n",
        "    bow_vector = dictionary_Reports.doc2bow(preprocess(text))\n",
        "    for index, score in sorted(lda_model_Reports[bow_vector], key=lambda tup: -1*tup[1]): \n",
        "      score_report=score\n",
        "      break;\n",
        "    return score_report\n",
        "\n",
        "  @classmethod\n",
        "  def get_business_score(self, text):\n",
        "    score_business=0\n",
        "    bow_vector = dictionary_business.doc2bow(preprocess(title))\n",
        "    for index, score in sorted(lda_model_business[bow_vector], key=lambda tup: -1*tup[1]):\n",
        "      score_business = score\n",
        "      break;\n",
        "    return score_business\n",
        "\n",
        "  @classmethod\n",
        "  def get_Broadcast_score(self, text):\n",
        "    score_broadcast=0\n",
        "    bow_vector = dictionary_broadcast.doc2bow(preprocess(text))\n",
        "    for index, score in sorted(lda_model_broadcast[bow_vector], key=lambda tup: -1*tup[1]): \n",
        "      score_broadcast = score\n",
        "      break;\n",
        "    return score_broadcast\n",
        "\n",
        "  @classmethod\n",
        "  def getAvergaescore(self,text):\n",
        "\n",
        "    average_score = (self.get_BookReview_score(text) + self.get_Report_score(text) + self.get_business_score(text) + self.get_Broadcast_score(text))/4\n",
        "    return average_score\n",
        "  \n",
        "\n"
      ],
      "metadata": {
        "id": "aDSwGIG4vCkf"
      },
      "execution_count": 138,
      "outputs": []
    },
    {
      "cell_type": "markdown",
      "source": [
        "##pickle model"
      ],
      "metadata": {
        "id": "U_qeI_C61hP0"
      }
    },
    {
      "cell_type": "code",
      "source": [
        "import pickle\n",
        "\n",
        "NewsCoverageModel = NewsCoverage()\n",
        "NewsCoverageModel_pickle = pickle.dumps(NewsCoverageModel)\n",
        "with open('/content/drive/MyDrive/ML-Spring-2022/TheTrio/Sprint3NLP/NewsCoverageModelPickle.pickle', 'wb') as f:\n",
        "    pickle.dump(NewsCoverageModel, f)"
      ],
      "metadata": {
        "id": "7HGxvSlU1g9U"
      },
      "execution_count": 143,
      "outputs": []
    },
    {
      "cell_type": "code",
      "source": [
        "unseen_document = \"Country music legend Naomi Judd, one half of The Judds, dies age 76\"\n"
      ],
      "metadata": {
        "id": "E36vMFlW3Frx"
      },
      "execution_count": 145,
      "outputs": []
    },
    {
      "cell_type": "code",
      "source": [
        "pickel_model = pickle.load(open('/content/drive/MyDrive/ML-Spring-2022/TheTrio/Sprint3NLP/NewsCoverageModelPickle.pickle', 'rb'))\n",
        "print(pickel_model.get_Broadcast_score(unseen_document))"
      ],
      "metadata": {
        "colab": {
          "base_uri": "https://localhost:8080/"
        },
        "id": "6FLqUJUP2Q1y",
        "outputId": "9cd6b083-b903-4ad9-8ff6-a500cb54808d"
      },
      "execution_count": 147,
      "outputs": [
        {
          "output_type": "stream",
          "name": "stdout",
          "text": [
            "0.7040343\n"
          ]
        }
      ]
    },
    {
      "cell_type": "markdown",
      "source": [
        "#Scrape some article and get score for each microfactor"
      ],
      "metadata": {
        "id": "jkZS3eJIroHE"
      }
    },
    {
      "cell_type": "code",
      "source": [
        "from bs4 import BeautifulSoup\n",
        "from bs4.element import Comment\n",
        "import urllib.request\n",
        "import nltk\n",
        "from urllib.request import urlopen\n",
        "import json\n",
        "import logging\n",
        "import re"
      ],
      "metadata": {
        "id": "z-5F-rqDrns0"
      },
      "execution_count": null,
      "outputs": []
    },
    {
      "cell_type": "code",
      "source": [
        "def beautify_txt(text):\n",
        "    final_data = (((text).replace(u'\\xa0', u' ')).replace(r'\\r',u'\\n').replace(r'\\n', ' '))\n",
        "    return text\n",
        "\n",
        "articles=[\"https://www.vashonhistory.com/Vashon%20History/Newspaaper/newspaper_1937.htm\"\n",
        "          # \"https://www.vashonhistory.com/Vashon%20History/Newspaaper/newspaper_1936.htm\",\n",
        "          # \"https://www.vashonhistory.com/Vashon%20History/Newspaaper/newspaper_1935.htm\",\n",
        "          # \"https://www.vashonhistory.com/Vashon%20History/Newspaaper/newspaper_1934.htm\"\n",
        "          ]\n",
        "\n",
        "articalName = [\"article1\", \"article2\",\"article3\", \"article4\"]"
      ],
      "metadata": {
        "id": "TtHEr8C_uTjO"
      },
      "execution_count": null,
      "outputs": []
    },
    {
      "cell_type": "code",
      "source": [
        "nltk.download('punkt')\n",
        "\n",
        "for x in range(len(articles)):\n",
        "     p_string = \"\"\n",
        "     html_source = urlopen(articles[x])\n",
        "\n",
        "     soup = BeautifulSoup(html_source, 'html.parser')\n",
        "     try:\n",
        "      for div in soup.find_all('section', class_='section'):\n",
        "          for li in div.find_all('li'):\n",
        "              p_tag = li.find('p')\n",
        "              p_string = p_string + p_tag.getText()\n",
        "              print(p_tag.getText())\n",
        "      \n",
        "     except Exception as e:\n",
        "        logging.error(e)\n",
        "      \n",
        "     with open('/content/drive/MyDrive/ML-Spring-2022/TheTrio/Harika/NLP-Assignments/Assignment-10-AlternusVera_Part1&2/dataset/' + articalName[x] + '.txt', 'w') as outfile:\n",
        "        json.dump(p_string, outfile)"
      ],
      "metadata": {
        "id": "gcuzaodzubq-"
      },
      "execution_count": null,
      "outputs": []
    },
    {
      "cell_type": "code",
      "source": [
        "p_string"
      ],
      "metadata": {
        "id": "MRU7dxOhvFuj"
      },
      "execution_count": null,
      "outputs": []
    },
    {
      "cell_type": "markdown",
      "source": [
        "Reports score"
      ],
      "metadata": {
        "id": "Jzy4G-4UJU1z"
      }
    },
    {
      "cell_type": "code",
      "source": [
        "article = p_string\n",
        "\n",
        "# Data preprocessing step for the unseen document\n",
        "bow_vector = dictionary_Reports.doc2bow(preprocess(article))\n",
        "\n",
        "for index, score in sorted(lda_model_Reports[bow_vector], key=lambda tup: -1*tup[1]): \n",
        "    print(\"Score: {}\\t Topic: {}\".format(score, lda_model_Reports.print_topic(index, 5)))"
      ],
      "metadata": {
        "id": "JoVcDn3PvP5X",
        "colab": {
          "base_uri": "https://localhost:8080/"
        },
        "outputId": "25a55ebb-60c0-4033-950d-f2b54af99483"
      },
      "execution_count": null,
      "outputs": [
        {
          "output_type": "stream",
          "name": "stdout",
          "text": [
            "Score: 0.14730697870254517\t Topic: 0.014*\"facebook\" + 0.011*\"look\" + 0.010*\"like\" + 0.010*\"world\" + 0.009*\"twitter\"\n",
            "Score: 0.13102518022060394\t Topic: 0.029*\"appl\" + 0.013*\"googl\" + 0.010*\"want\" + 0.010*\"world\" + 0.009*\"robot\"\n",
            "Score: 0.1275797337293625\t Topic: 0.011*\"game\" + 0.009*\"build\" + 0.009*\"window\" + 0.009*\"meet\" + 0.008*\"turn\"\n",
            "Score: 0.11259030550718307\t Topic: 0.012*\"year\" + 0.011*\"microsoft\" + 0.011*\"reveal\" + 0.009*\"love\" + 0.008*\"scientist\"\n",
            "Score: 0.10357066243886948\t Topic: 0.008*\"googl\" + 0.008*\"internet\" + 0.008*\"game\" + 0.006*\"high\" + 0.006*\"help\"\n",
            "Score: 0.08147517591714859\t Topic: 0.010*\"tech\" + 0.007*\"app\" + 0.007*\"microsoft\" + 0.007*\"compani\" + 0.007*\"game\"\n",
            "Score: 0.07823462784290314\t Topic: 0.010*\"life\" + 0.010*\"phone\" + 0.008*\"come\" + 0.008*\"game\" + 0.008*\"million\"\n",
            "Score: 0.07774028182029724\t Topic: 0.012*\"futur\" + 0.010*\"problem\" + 0.010*\"stream\" + 0.005*\"android\" + 0.005*\"time\"\n",
            "Score: 0.07727862149477005\t Topic: 0.021*\"game\" + 0.010*\"mar\" + 0.009*\"want\" + 0.008*\"plan\" + 0.006*\"best\"\n",
            "Score: 0.06319844722747803\t Topic: 0.010*\"futur\" + 0.008*\"realiti\" + 0.008*\"anim\" + 0.008*\"googl\" + 0.008*\"virtual\"\n"
          ]
        }
      ]
    },
    {
      "cell_type": "markdown",
      "source": [
        "Book Review score"
      ],
      "metadata": {
        "id": "7UIdIa-UJX2e"
      }
    },
    {
      "cell_type": "code",
      "source": [
        "article = p_string\n",
        "\n",
        "# Data preprocessing step for the unseen document\n",
        "bow_vector = dictionary_BookReviews.doc2bow(preprocess(article))\n",
        "\n",
        "for index, score in sorted(lda_model_BookReviews[bow_vector], key=lambda tup: -1*tup[1]): \n",
        "    print(\"Score: {}\\t Topic: {}\".format(score, lda_model_BookReviews.print_topic(index, 5)))"
      ],
      "metadata": {
        "id": "82jlqpURvamm",
        "colab": {
          "base_uri": "https://localhost:8080/"
        },
        "outputId": "93c73dd0-309d-44f5-ebc7-4fe79fcce712"
      },
      "execution_count": null,
      "outputs": [
        {
          "output_type": "stream",
          "name": "stdout",
          "text": [
            "Score: 0.23473091423511505\t Topic: 0.052*\"chang\" + 0.052*\"robinson\" + 0.052*\"think\" + 0.052*\"experi\" + 0.052*\"glorious\"\n",
            "Score: 0.20968692004680634\t Topic: 0.070*\"world\" + 0.037*\"guid\" + 0.037*\"atlas\" + 0.037*\"think\" + 0.037*\"beat\"\n",
            "Score: 0.19335398077964783\t Topic: 0.064*\"book\" + 0.064*\"futur\" + 0.064*\"form\" + 0.064*\"data\" + 0.064*\"gibson\"\n",
            "Score: 0.16822032630443573\t Topic: 0.058*\"book\" + 0.058*\"mar\" + 0.058*\"terribl\" + 0.058*\"cost\" + 0.058*\"wander\"\n",
            "Score: 0.11451715230941772\t Topic: 0.078*\"malka\" + 0.078*\"infomocraci\" + 0.078*\"thriller\" + 0.078*\"season\" + 0.078*\"essenti\"\n",
            "Score: 0.05050560459494591\t Topic: 0.091*\"book\" + 0.091*\"page\" + 0.091*\"fiction\" + 0.091*\"scienc\" + 0.091*\"histori\"\n",
            "Score: 0.02805919758975506\t Topic: 0.073*\"novel\" + 0.073*\"lack\" + 0.073*\"dinosaur\" + 0.073*\"gunsling\" + 0.073*\"bone\"\n"
          ]
        }
      ]
    },
    {
      "cell_type": "markdown",
      "source": [
        "Broadcast"
      ],
      "metadata": {
        "id": "pdnKbMKSJalW"
      }
    },
    {
      "cell_type": "code",
      "source": [
        "article = p_string\n",
        "\n",
        "# Data preprocessing step for the unseen document\n",
        "bow_vector = dictionary_broadcast.doc2bow(preprocess(article))\n",
        "\n",
        "for index, score in sorted(lda_model_broadcast[bow_vector], key=lambda tup: -1*tup[1]): \n",
        "    print(\"Score: {}\\t Topic: {}\".format(score, lda_model_broadcast.print_topic(index, 5)))"
      ],
      "metadata": {
        "id": "9sIYPBs1vwxr",
        "colab": {
          "base_uri": "https://localhost:8080/"
        },
        "outputId": "ef43afba-f3d9-4b28-e1f7-31ef63c72613"
      },
      "execution_count": null,
      "outputs": [
        {
          "output_type": "stream",
          "name": "stdout",
          "text": [
            "Score: 0.15106000006198883\t Topic: 0.030*\"trump\" + 0.030*\"clinton\" + 0.015*\"video\" + 0.009*\"email\" + 0.008*\"poll\"\n",
            "Score: 0.1298665702342987\t Topic: 0.023*\"trump\" + 0.022*\"fact\" + 0.022*\"fast\" + 0.006*\"attack\" + 0.006*\"time\"\n",
            "Score: 0.10118021070957184\t Topic: 0.035*\"trump\" + 0.011*\"shoot\" + 0.010*\"video\" + 0.010*\"clinton\" + 0.008*\"obama\"\n",
            "Score: 0.10025236010551453\t Topic: 0.022*\"trump\" + 0.021*\"kill\" + 0.010*\"say\" + 0.010*\"student\" + 0.007*\"isi\"\n",
            "Score: 0.09973261505365372\t Topic: 0.038*\"video\" + 0.015*\"trump\" + 0.006*\"obama\" + 0.006*\"teen\" + 0.006*\"near\"\n",
            "Score: 0.09444732964038849\t Topic: 0.027*\"trump\" + 0.018*\"say\" + 0.013*\"clinton\" + 0.006*\"hous\" + 0.006*\"report\"\n",
            "Score: 0.09292024374008179\t Topic: 0.048*\"trump\" + 0.015*\"clinton\" + 0.014*\"obama\" + 0.010*\"korea\" + 0.010*\"north\"\n",
            "Score: 0.08884128928184509\t Topic: 0.039*\"trump\" + 0.014*\"world\" + 0.008*\"look\" + 0.006*\"polici\" + 0.006*\"kill\"\n",
            "Score: 0.07806207984685898\t Topic: 0.013*\"shoot\" + 0.013*\"attack\" + 0.013*\"polic\" + 0.011*\"dead\" + 0.010*\"isi\"\n",
            "Score: 0.06363724172115326\t Topic: 0.011*\"report\" + 0.010*\"investig\" + 0.009*\"clinton\" + 0.008*\"video\" + 0.008*\"trump\"\n"
          ]
        }
      ]
    },
    {
      "cell_type": "markdown",
      "source": [
        "Business"
      ],
      "metadata": {
        "id": "GeaNuez-JdUW"
      }
    },
    {
      "cell_type": "code",
      "source": [
        "article = p_string\n",
        "\n",
        "# Data preprocessing step for the unseen document\n",
        "bow_vector = dictionary_business.doc2bow(preprocess(article))\n",
        "\n",
        "for index, score in sorted(lda_model_business[bow_vector], key=lambda tup: -1*tup[1]): \n",
        "    print(\"Score: {}\\t Topic: {}\".format(score, lda_model_business.print_topic(index, 5)))"
      ],
      "metadata": {
        "id": "_WdL4g7dv5kY",
        "colab": {
          "base_uri": "https://localhost:8080/"
        },
        "outputId": "ac28f384-535e-4e7d-f896-7522127057d2"
      },
      "execution_count": null,
      "outputs": [
        {
          "output_type": "stream",
          "name": "stdout",
          "text": [
            "Score: 0.13403108716011047\t Topic: 0.030*\"trump\" + 0.010*\"go\" + 0.010*\"best\" + 0.010*\"googl\" + 0.010*\"latest\"\n",
            "Score: 0.1280624121427536\t Topic: 0.037*\"trump\" + 0.015*\"donald\" + 0.008*\"clinton\" + 0.007*\"make\" + 0.007*\"hillari\"\n",
            "Score: 0.1184440329670906\t Topic: 0.016*\"trump\" + 0.014*\"hous\" + 0.011*\"appl\" + 0.010*\"report\" + 0.007*\"white\"\n",
            "Score: 0.11004222929477692\t Topic: 0.042*\"trump\" + 0.014*\"donald\" + 0.009*\"clinton\" + 0.009*\"obama\" + 0.008*\"hillari\"\n",
            "Score: 0.09836255759000778\t Topic: 0.020*\"year\" + 0.017*\"trump\" + 0.016*\"come\" + 0.011*\"protect\" + 0.011*\"type\"\n",
            "Score: 0.0935051441192627\t Topic: 0.011*\"trump\" + 0.007*\"like\" + 0.007*\"clinton\" + 0.006*\"want\" + 0.006*\"biggest\"\n",
            "Score: 0.08933085203170776\t Topic: 0.012*\"trump\" + 0.011*\"wall\" + 0.011*\"street\" + 0.009*\"like\" + 0.008*\"explain\"\n",
            "Score: 0.086916983127594\t Topic: 0.037*\"trump\" + 0.014*\"say\" + 0.011*\"compani\" + 0.009*\"world\" + 0.009*\"help\"\n",
            "Score: 0.08357729762792587\t Topic: 0.014*\"tech\" + 0.013*\"happen\" + 0.013*\"high\" + 0.012*\"thing\" + 0.012*\"school\"\n",
            "Score: 0.0577273964881897\t Topic: 0.016*\"tyson\" + 0.016*\"degrass\" + 0.016*\"neil\" + 0.015*\"futur\" + 0.012*\"compani\"\n"
          ]
        }
      ]
    },
    {
      "cell_type": "markdown",
      "source": [
        "Conclusion:\n",
        "The article has more news covergae related to book reviews"
      ],
      "metadata": {
        "id": "ZjjmABeewI_G"
      }
    }
  ]
}